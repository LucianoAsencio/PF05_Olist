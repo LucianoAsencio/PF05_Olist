{
 "cells": [
  {
   "attachments": {},
   "cell_type": "markdown",
   "metadata": {},
   "source": [
    "## EDA _Proyecto Final- CORE\n",
    "\n",
    "Rol  desarrollar: \n",
    "\n",
    "Con el objetivo primordial de seguir conectando a pequeñas empresas (PYMES) con mercados más grandes y mejorar la experiencia del usuario, Olist los contrata como consultores externos para encontrar soluciones innovadores que permitan a sus usuarios vender sus productos a un mayor número de clientes.\n",
    "Para lograrlo, les disponibiliza sus datos de 2016 a 2018 con lo que deberán entregar un MVP (minimum viable product).\n",
    "____________________________________________________________________________________________________________________________________________\n",
    "\n",
    "Consigna: \n",
    "\n",
    "Deben realizar un Análisis exploratorio de datos (EDA) y elaborar un reporte de calidad de datos, el criterio utilizado para su manejo, además de un diccionario de datos.\n",
    "\n",
    "_____________________________________________________________________________________________________________________________________________\n",
    "\n",
    "Se analizan 11 tablas provistas por Henry\n",
    "\n",
    "Conclusión: \n",
    "\n",
    "- se seleccionan, de momento, todas las tablas, sin embargo se analizará en profundidad con el equipo de Machine Learning y Data Analist la semana proxima. \n",
    "\n",
    "- datos faltantes: \n",
    "\n",
    "        -   tabla 1_ closed_deals: 28 %\n",
    "\n",
    "        -   tabla 4_ marketing_quality_leads: 0.2 %\n",
    "\n",
    "        -   tabla 7_ order_review: 21 %\n",
    "        \n",
    "        -   tabla 8_ orders: 0.6 %\n",
    "        \n",
    "        -   tabla 9_ products: 0.01 %        \n",
    "\n",
    "\n",
    "- datos duplicados:\n",
    "\n",
    "        - tabla 3_ geolocalization: 26 % \n",
    "\n",
    "\n",
    "- analisis de id: todos los id estan normalizados y los podemos utilizar como FK a excepción de la tabla customers que presenta un doble id, del cual se analizará en profundidad y se eliminará 1 de ellos. \n",
    "\n",
    "\n",
    "\n",
    "_________________________________________________________________________________\n"
   ]
  },
  {
   "attachments": {},
   "cell_type": "markdown",
   "metadata": {},
   "source": [
    "## Analisis tabla a tabla \n",
    "\n"
   ]
  },
  {
   "attachments": {},
   "cell_type": "markdown",
   "metadata": {},
   "source": [
    "Importo las librerias"
   ]
  },
  {
   "cell_type": "code",
   "execution_count": 125,
   "metadata": {},
   "outputs": [],
   "source": [
    "import pandas as pd\n",
    "import seaborn as sns\n",
    "import matplotlib as plt\n",
    "import numpy as np\n",
    "import matplotlib.pyplot as plt2\n",
    "from scipy import stats\n",
    "from scipy.stats import poisson"
   ]
  },
  {
   "attachments": {},
   "cell_type": "markdown",
   "metadata": {},
   "source": [
    "Creamos funcion para analizar las tablas y decidir que datos son más relevantes: \n",
    "- abrimos el csv como un dataframe de Pandas\n",
    "- solicitamos una muestra para analizar si hay errores de tipeo y ver tipos de datos.\n",
    "- solicitamos ver tipo de datos\n",
    "- pidimos información para ver si hay o no nulos"
   ]
  },
  {
   "cell_type": "code",
   "execution_count": 126,
   "metadata": {},
   "outputs": [],
   "source": [
    "#Colocamos cada URL en una variable \n",
    "url_1_closed_deals='Datasets\\\\olist_closed_deals_dataset.csv'\n",
    "url_2_customers='Datasets\\\\olist_customers_dataset.csv'\n",
    "url_3_geolocation='Datasets\\\\olist_geolocation_dataset.csv'\n",
    "url_4_q_leads='Datasets\\\\olist_marketing_qualified_leads_dataset.csv'\n",
    "url_5_order_items='Datasets\\\\olist_order_items_dataset.csv'\n",
    "url_6_order_payments='Datasets\\\\olist_order_payments_dataset.csv'\n",
    "url_7_order_reviews='Datasets\\\\olist_order_reviews_dataset.csv'\n",
    "url_8_orders='Datasets\\\\olist_orders_dataset.csv'\n",
    "url_9_products='Datasets\\\\olist_products_dataset.csv'\n",
    "url_10_sellers='Datasets\\\\olist_sellers_dataset.csv'\n",
    "url_11_category_name='Datasets\\\\product_category_name_translation.csv'"
   ]
  },
  {
   "cell_type": "code",
   "execution_count": 127,
   "metadata": {},
   "outputs": [],
   "source": [
    "#abrimos los datasets en data frame de pandas 1 por tabla\n",
    "df1_closed_deals= pd.read_csv(url_1_closed_deals)\n",
    "df2_customers=pd.read_csv(url_2_customers)\n",
    "df3_geolocation=pd.read_csv(url_3_geolocation)\n",
    "df4_q_leads=pd.read_csv(url_4_q_leads)\n",
    "df5_order_items=pd.read_csv(url_5_order_items)\n",
    "df6_order_payments=pd.read_csv(url_6_order_payments)\n",
    "df7_order_reviews=pd.read_csv(url_7_order_reviews)\n",
    "df8_orders=pd.read_csv(url_8_orders)\n",
    "df9_products=pd.read_csv(url_9_products)\n",
    "df10_sellers=pd.read_csv(url_10_sellers)\n",
    "df11_category_name=pd.read_csv(url_11_category_name)"
   ]
  },
  {
   "attachments": {},
   "cell_type": "markdown",
   "metadata": {},
   "source": [
    "### Formulas\n",
    "Se definen las formulas necesarias para el EDA"
   ]
  },
  {
   "cell_type": "code",
   "execution_count": 128,
   "metadata": {},
   "outputs": [],
   "source": [
    "#funcion para ver información general\n",
    "def eda_general(df):\n",
    "    return df.info(), #df.describe(), df.shape"
   ]
  },
  {
   "cell_type": "code",
   "execution_count": 129,
   "metadata": {},
   "outputs": [],
   "source": [
    "#funcion para generar muestras \n",
    "def eda_sample(df):\n",
    "    return df.sample(5)"
   ]
  },
  {
   "cell_type": "code",
   "execution_count": 130,
   "metadata": {},
   "outputs": [],
   "source": [
    "#funcion para contar duplicados \n",
    "def eda_duplicados(df):\n",
    "    duplicated_count = df.duplicated().sum()\n",
    "    if duplicated_count == 0:\n",
    "        return 'No hay duplicados'\n",
    "    else: \n",
    "        return 'Hay {} registros duplicados'.format(duplicated_count)"
   ]
  },
  {
   "cell_type": "code",
   "execution_count": 131,
   "metadata": {},
   "outputs": [],
   "source": [
    "def duplicados_x_columna(df):\n",
    "    for i in df.columns:\n",
    "        print(f'La columna {i} tiene: {len(df[i])-len(df[i].unique())} valores duplicados, de un total de {len(df[i])} datos')"
   ]
  },
  {
   "cell_type": "code",
   "execution_count": 132,
   "metadata": {},
   "outputs": [],
   "source": [
    "#Se ven los datos de cada columna como valores únicos para detectar anomalías en el texto o letras entre los numeros, etc.\n",
    "def eda_unicos_all(df): \n",
    "   lista_final=[]\n",
    "   no_lista=['mql_id', 'seller_id', 'declared_product_catalog_size', 'won_date', 'order_purchase_timestamp', 'order_approved_at', 'order_delivered_carrier_date', 'order_delivered_customer_date', 'order_estimated_delivery_date', 'seller_id', 'sdr_id', 'sr_id','customer_id', 'customer_unique_id','customer_zip_code_prefix', 'geolocation_zip_code_prefix','geolocation_lat','geolocation_lng','landing_page_id','product_id']\n",
    "   for i in df.columns:\n",
    "    if i not in no_lista:\n",
    "        m= df[i].unique()\n",
    "        print (f' - La columna {i} tiene los siguientes datos {m} \\n')\n"
   ]
  },
  {
   "cell_type": "code",
   "execution_count": 133,
   "metadata": {},
   "outputs": [],
   "source": [
    "# Se cuentan los valores de la columna order_id que tengan un largo de 32 caracteres\n",
    "def homogeneidad_id(df):\n",
    "    no_lista=['order_id', 'review_id', 'mql_id', 'seller_id', 'seller_id', 'sdr_id', 'sr_id','customer_id', 'customer_unique_id','landing_page_id','product_id'] \n",
    "    for i in df.columns:\n",
    "        if i in no_lista:\n",
    "            if len(df[i][df[i].str.len() == 32]) == len(df[i]):\n",
    "                print(f'Todos los valores de {i} tienen longitud de 32 caracteres')\n",
    "            else:\n",
    "                print('Hay valores que NO tienen 32 caracteres')"
   ]
  },
  {
   "cell_type": "code",
   "execution_count": 134,
   "metadata": {},
   "outputs": [],
   "source": [
    "#contamos los valores unicos en % del total de valores\n",
    "def count_val_procentaje(df,columna):\n",
    "    return round((((df[columna].value_counts())/(df[columna].count()))*100))"
   ]
  },
  {
   "cell_type": "code",
   "execution_count": 135,
   "metadata": {},
   "outputs": [],
   "source": [
    "#analisis de outliers\n",
    "def eda_outliers(df,columna):\n",
    "   z_scores = (df[columna] - df[columna].mean()) / df[columna].std()\n",
    "   threshold = 3\n",
    "   outliers = df[np.abs(z_scores) > threshold]\n",
    "   return outliers"
   ]
  },
  {
   "cell_type": "code",
   "execution_count": 136,
   "metadata": {},
   "outputs": [],
   "source": [
    "# % de outliers\n",
    "def porcentaje_outliers(df,columna):\n",
    "   z_scores = (df[columna] - df[columna].mean()) / df[columna].std()\n",
    "   threshold = 3\n",
    "   outliers = df[np.abs(z_scores) > threshold]\n",
    "   n=outliers.shape\n",
    "   a=df.shape\n",
    "   m=(n[0]/a[0])*100\n",
    "   return  f'el % de outliers de la columna {columna} es de: {round(m)}%'"
   ]
  },
  {
   "cell_type": "code",
   "execution_count": 137,
   "metadata": {},
   "outputs": [],
   "source": [
    "#grafico del boxplot de outliers\n",
    "def grafico_boxplot(df,columna):\n",
    "    green_diamond = dict(markerfacecolor='g', marker='D')\n",
    "    fig1, ax1 = plt2.subplots()\n",
    "    ax1.set_title('Changed Outlier Symbols')\n",
    "    ax1.boxplot(df[columna], flierprops=green_diamond)"
   ]
  },
  {
   "cell_type": "code",
   "execution_count": 138,
   "metadata": {},
   "outputs": [],
   "source": [
    "#grafico de distribución de los outliers\n",
    "def histograma_outliers(df,columna):\n",
    "    z_scores = (df[columna] - df[columna].mean()) / df[columna].std()\n",
    "    threshold = 3\n",
    "    outliers = df[np.abs(z_scores) > threshold]\n",
    "\n",
    "    outliers[columna].astype(float)\n",
    "    sns.histplot(outliers[columna],bins=25)"
   ]
  },
  {
   "attachments": {},
   "cell_type": "markdown",
   "metadata": {},
   "source": [
    "________________________________________________________________________________________\n"
   ]
  },
  {
   "attachments": {},
   "cell_type": "markdown",
   "metadata": {},
   "source": [
    "Analisis de información general y duplicados con las formulas propuesta, tabla por tabla, en casos particulares de analisis por columnas se comenta en el código. \n",
    "\n",
    "- Para un primer vistazo general el comnado .sample(5) es mejor que el head() ya que permite ver registros de toda la tabla y cada vez que se ejecuta muestra aleatoriamente registros de toda la columna. "
   ]
  },
  {
   "attachments": {},
   "cell_type": "markdown",
   "metadata": {},
   "source": [
    "## TABLA 1_ Recopila información de los acuerdos comerciales cerrados por Olist (closed_deals)"
   ]
  },
  {
   "cell_type": "code",
   "execution_count": 139,
   "metadata": {},
   "outputs": [
    {
     "name": "stdout",
     "output_type": "stream",
     "text": [
      "<class 'pandas.core.frame.DataFrame'>\n",
      "RangeIndex: 842 entries, 0 to 841\n",
      "Data columns (total 14 columns):\n",
      " #   Column                         Non-Null Count  Dtype  \n",
      "---  ------                         --------------  -----  \n",
      " 0   mql_id                         842 non-null    object \n",
      " 1   seller_id                      842 non-null    object \n",
      " 2   sdr_id                         842 non-null    object \n",
      " 3   sr_id                          842 non-null    object \n",
      " 4   won_date                       842 non-null    object \n",
      " 5   business_segment               841 non-null    object \n",
      " 6   lead_type                      836 non-null    object \n",
      " 7   lead_behaviour_profile         665 non-null    object \n",
      " 8   has_company                    63 non-null     object \n",
      " 9   has_gtin                       64 non-null     object \n",
      " 10  average_stock                  66 non-null     object \n",
      " 11  business_type                  832 non-null    object \n",
      " 12  declared_product_catalog_size  69 non-null     float64\n",
      " 13  declared_monthly_revenue       842 non-null    float64\n",
      "dtypes: float64(2), object(12)\n",
      "memory usage: 92.2+ KB\n"
     ]
    },
    {
     "data": {
      "text/plain": [
       "'No hay duplicados'"
      ]
     },
     "execution_count": 139,
     "metadata": {},
     "output_type": "execute_result"
    }
   ],
   "source": [
    "#información general y miramos si hay duplicados y cuantos \n",
    "eda_general(df1_closed_deals)\n",
    "eda_duplicados(df1_closed_deals)"
   ]
  },
  {
   "attachments": {},
   "cell_type": "markdown",
   "metadata": {},
   "source": [
    "Del analisis de sample surge la necesidad de estudiar los valore únicos de las siguientes columnas con el objetivo de estudiar su significado y tipo de dato. \n",
    "Conceptos importantes: Un lead es una persona o empresa que haya expresado interés en los productos o servicios.\n",
    "\n",
    "La empresa proporcionó el significado de las columnas:\n",
    "\n",
    "mql_id: ID de cliente potencial calificado de marketing\n",
    "\n",
    "seller_id : Identificación del vendedor\n",
    "\n",
    "sdr_id: ID del representante de desarrollo de ventas\n",
    "\n",
    "sr_id: identificación del representante de ventas\n",
    "\n",
    "won_date: fecha en que se cerró el trato\n",
    "\n",
    "business_segment: Segmento comercial principal (Informado al contactar)\n",
    "\n",
    "lead_type: Tipo de prospecto (Informado al contacto)\n",
    "\n",
    "lead_behaviour_profile : Perfil de comportamiento del cliente potencial (SDR lo identifica al contacto)\n",
    "\n",
    "has_company: ¿El lead tiene una empresa (documentación formal)?\n",
    "\n",
    "has_gtin: ¿El cliente potencial tiene un Número de artículo comercial global (código de barras) para sus productos?\n",
    "\n",
    "average_stock: stock promedio declarado por lead (Informado al contacto)\n",
    "\n",
    "business_type: tipo de negocio (revendedor/fabricante, etc.)\n",
    "\n",
    "declare_product_catalog_size: Tamaño de catálogo declarado del lead (Informado en el contacto)\n",
    "\n",
    "declare_monthly_revenue: Ingresos mensuales estimados declarados por el cliente potencial (Informado al contactar)"
   ]
  },
  {
   "cell_type": "code",
   "execution_count": 140,
   "metadata": {},
   "outputs": [
    {
     "data": {
      "text/html": [
       "<div>\n",
       "<style scoped>\n",
       "    .dataframe tbody tr th:only-of-type {\n",
       "        vertical-align: middle;\n",
       "    }\n",
       "\n",
       "    .dataframe tbody tr th {\n",
       "        vertical-align: top;\n",
       "    }\n",
       "\n",
       "    .dataframe thead th {\n",
       "        text-align: right;\n",
       "    }\n",
       "</style>\n",
       "<table border=\"1\" class=\"dataframe\">\n",
       "  <thead>\n",
       "    <tr style=\"text-align: right;\">\n",
       "      <th></th>\n",
       "      <th>mql_id</th>\n",
       "      <th>seller_id</th>\n",
       "      <th>sdr_id</th>\n",
       "      <th>sr_id</th>\n",
       "      <th>won_date</th>\n",
       "      <th>business_segment</th>\n",
       "      <th>lead_type</th>\n",
       "      <th>lead_behaviour_profile</th>\n",
       "      <th>has_company</th>\n",
       "      <th>has_gtin</th>\n",
       "      <th>average_stock</th>\n",
       "      <th>business_type</th>\n",
       "      <th>declared_product_catalog_size</th>\n",
       "      <th>declared_monthly_revenue</th>\n",
       "    </tr>\n",
       "  </thead>\n",
       "  <tbody>\n",
       "    <tr>\n",
       "      <th>347</th>\n",
       "      <td>d2108470e2824da1f619e91a0e4784d0</td>\n",
       "      <td>762fafdaa57a532ee0119731697579dd</td>\n",
       "      <td>068066e24f0c643eb1d089c7dd20cd73</td>\n",
       "      <td>d3d1e91a157ea7f90548eef82f1955e3</td>\n",
       "      <td>2018-02-28 22:17:25</td>\n",
       "      <td>toys</td>\n",
       "      <td>online_beginner</td>\n",
       "      <td>cat</td>\n",
       "      <td>NaN</td>\n",
       "      <td>NaN</td>\n",
       "      <td>NaN</td>\n",
       "      <td>reseller</td>\n",
       "      <td>NaN</td>\n",
       "      <td>0.0</td>\n",
       "    </tr>\n",
       "    <tr>\n",
       "      <th>447</th>\n",
       "      <td>ab712090eb9a27881b63080c859147de</td>\n",
       "      <td>18d5b01a5ca858cf540df954e063978d</td>\n",
       "      <td>068066e24f0c643eb1d089c7dd20cd73</td>\n",
       "      <td>9ae085775a198122c5586fa830ff7f2b</td>\n",
       "      <td>2018-02-02 16:44:11</td>\n",
       "      <td>audio_video_electronics</td>\n",
       "      <td>NaN</td>\n",
       "      <td>NaN</td>\n",
       "      <td>NaN</td>\n",
       "      <td>NaN</td>\n",
       "      <td>NaN</td>\n",
       "      <td>reseller</td>\n",
       "      <td>NaN</td>\n",
       "      <td>0.0</td>\n",
       "    </tr>\n",
       "    <tr>\n",
       "      <th>268</th>\n",
       "      <td>38427015e9934ea855bd9adcdf32055f</td>\n",
       "      <td>713a71465d58d5315a36788861dfec4a</td>\n",
       "      <td>fdb16d3cbbeb5798f2f66c4096be026d</td>\n",
       "      <td>495d4e95a8cf8bbf8b432b612a2aa328</td>\n",
       "      <td>2018-01-22 17:43:36</td>\n",
       "      <td>stationery</td>\n",
       "      <td>industry</td>\n",
       "      <td>NaN</td>\n",
       "      <td>NaN</td>\n",
       "      <td>NaN</td>\n",
       "      <td>NaN</td>\n",
       "      <td>reseller</td>\n",
       "      <td>NaN</td>\n",
       "      <td>0.0</td>\n",
       "    </tr>\n",
       "    <tr>\n",
       "      <th>41</th>\n",
       "      <td>20fcec0873b39b4df3df34140d77d6e7</td>\n",
       "      <td>cee3c487c56d29554a22d112af618301</td>\n",
       "      <td>084b6fbb10729ed4da8c3d3f5a3ae7c9</td>\n",
       "      <td>0a0fb2b07d841f84fb6714e35c723075</td>\n",
       "      <td>2018-11-14 18:04:19</td>\n",
       "      <td>other</td>\n",
       "      <td>other</td>\n",
       "      <td>cat</td>\n",
       "      <td>False</td>\n",
       "      <td>False</td>\n",
       "      <td>1-5</td>\n",
       "      <td>other</td>\n",
       "      <td>120.0</td>\n",
       "      <td>6000.0</td>\n",
       "    </tr>\n",
       "    <tr>\n",
       "      <th>468</th>\n",
       "      <td>44f24b3c093ffe8bb756db22f86a9a2f</td>\n",
       "      <td>ce4f1d45100bd92470c482527f73f72d</td>\n",
       "      <td>068066e24f0c643eb1d089c7dd20cd73</td>\n",
       "      <td>4ef15afb4b2723d8f3d81e51ec7afefe</td>\n",
       "      <td>2018-03-29 17:45:03</td>\n",
       "      <td>phone_mobile</td>\n",
       "      <td>industry</td>\n",
       "      <td>cat</td>\n",
       "      <td>NaN</td>\n",
       "      <td>NaN</td>\n",
       "      <td>NaN</td>\n",
       "      <td>reseller</td>\n",
       "      <td>NaN</td>\n",
       "      <td>0.0</td>\n",
       "    </tr>\n",
       "  </tbody>\n",
       "</table>\n",
       "</div>"
      ],
      "text/plain": [
       "                               mql_id                         seller_id  \\\n",
       "347  d2108470e2824da1f619e91a0e4784d0  762fafdaa57a532ee0119731697579dd   \n",
       "447  ab712090eb9a27881b63080c859147de  18d5b01a5ca858cf540df954e063978d   \n",
       "268  38427015e9934ea855bd9adcdf32055f  713a71465d58d5315a36788861dfec4a   \n",
       "41   20fcec0873b39b4df3df34140d77d6e7  cee3c487c56d29554a22d112af618301   \n",
       "468  44f24b3c093ffe8bb756db22f86a9a2f  ce4f1d45100bd92470c482527f73f72d   \n",
       "\n",
       "                               sdr_id                             sr_id  \\\n",
       "347  068066e24f0c643eb1d089c7dd20cd73  d3d1e91a157ea7f90548eef82f1955e3   \n",
       "447  068066e24f0c643eb1d089c7dd20cd73  9ae085775a198122c5586fa830ff7f2b   \n",
       "268  fdb16d3cbbeb5798f2f66c4096be026d  495d4e95a8cf8bbf8b432b612a2aa328   \n",
       "41   084b6fbb10729ed4da8c3d3f5a3ae7c9  0a0fb2b07d841f84fb6714e35c723075   \n",
       "468  068066e24f0c643eb1d089c7dd20cd73  4ef15afb4b2723d8f3d81e51ec7afefe   \n",
       "\n",
       "                won_date         business_segment        lead_type  \\\n",
       "347  2018-02-28 22:17:25                     toys  online_beginner   \n",
       "447  2018-02-02 16:44:11  audio_video_electronics              NaN   \n",
       "268  2018-01-22 17:43:36               stationery         industry   \n",
       "41   2018-11-14 18:04:19                    other            other   \n",
       "468  2018-03-29 17:45:03             phone_mobile         industry   \n",
       "\n",
       "    lead_behaviour_profile has_company has_gtin average_stock business_type  \\\n",
       "347                    cat         NaN      NaN           NaN      reseller   \n",
       "447                    NaN         NaN      NaN           NaN      reseller   \n",
       "268                    NaN         NaN      NaN           NaN      reseller   \n",
       "41                     cat       False    False           1-5         other   \n",
       "468                    cat         NaN      NaN           NaN      reseller   \n",
       "\n",
       "     declared_product_catalog_size  declared_monthly_revenue  \n",
       "347                            NaN                       0.0  \n",
       "447                            NaN                       0.0  \n",
       "268                            NaN                       0.0  \n",
       "41                           120.0                    6000.0  \n",
       "468                            NaN                       0.0  "
      ]
     },
     "execution_count": 140,
     "metadata": {},
     "output_type": "execute_result"
    }
   ],
   "source": [
    "#analisis preliminar del contenido\n",
    "eda_sample(df1_closed_deals)"
   ]
  },
  {
   "cell_type": "code",
   "execution_count": 141,
   "metadata": {},
   "outputs": [
    {
     "data": {
      "text/plain": [
       "<AxesSubplot:xlabel='declared_monthly_revenue', ylabel='Count'>"
      ]
     },
     "execution_count": 141,
     "metadata": {},
     "output_type": "execute_result"
    },
    {
     "data": {
      "image/png": "[encoded data removed]",
      "text/plain": [
       "<Figure size 432x288 with 1 Axes>"
      ]
     },
     "metadata": {
      "needs_background": "light"
     },
     "output_type": "display_data"
    }
   ],
   "source": [
    "#nos interesó analizar los datos declarados de ingresos con el objetivo de si podríamos utilizarlos a futuro en una analisis: \n",
    "df1_closed_deals['declared_monthly_revenue'].astype(int)\n",
    "sns.histplot(df1_closed_deals['declared_monthly_revenue'],bins=10)"
   ]
  },
  {
   "cell_type": "code",
   "execution_count": 142,
   "metadata": {},
   "outputs": [
    {
     "name": "stdout",
     "output_type": "stream",
     "text": [
      "Todos los valores de mql_id tienen longitud de 32 caracteres\n",
      "Todos los valores de seller_id tienen longitud de 32 caracteres\n",
      "Todos los valores de sdr_id tienen longitud de 32 caracteres\n",
      "Todos los valores de sr_id tienen longitud de 32 caracteres\n"
     ]
    }
   ],
   "source": [
    "#Se chequea que lo ID tengan una longitud de números homogeneos y sean todos iguales  \n",
    "homogeneidad_id(df1_closed_deals)"
   ]
  },
  {
   "attachments": {},
   "cell_type": "markdown",
   "metadata": {},
   "source": [
    "Con el objetivo de analizar las opciones para FK y PK se analizan los ID de la tabla, buscando cuales son únicos y cuales poseen valores repetidos"
   ]
  },
  {
   "cell_type": "code",
   "execution_count": 143,
   "metadata": {},
   "outputs": [
    {
     "data": {
      "text/plain": [
       "4b339f9567d060bcea4f5136b9f5949e    140\n",
       "068066e24f0c643eb1d089c7dd20cd73     81\n",
       "56bf83c4bb35763a51c2baab501b4c67     74\n",
       "9d12ef1a7eca3ec58c545c678af7869c     66\n",
       "a8387c01a09e99ce014107505b92388c     59\n",
       "9e4d1098a3b0f5da39b0bc48f9876645     55\n",
       "de63de0d10a6012430098db33c679b0b     53\n",
       "370c9f455f93a9a96cbe9bea48e70033     51\n",
       "09285259593c61296eef10c734121d5b     42\n",
       "f42a2bd194f7802ab052a815c8de65b7     42\n",
       "34d40cdaf94010a1d05b0d6212f9e909     41\n",
       "fdb16d3cbbeb5798f2f66c4096be026d     34\n",
       "b90f87164b5f8c2cfa5c8572834dbe3f     25\n",
       "0a0fb2b07d841f84fb6714e35c723075     25\n",
       "e7dff61b78bebffa71678e126ce669ad     13\n",
       "45749fb708130f78d0db07d8d80f030b      8\n",
       "9749123c950bf8363ace42cb1c2d0815      6\n",
       "f6c6ab65a1c732f154b371401448be6d      3\n",
       "2b63542749aa9caf15f21816da1db341      3\n",
       "b34f6eba10f46bf9a657a01c108a8284      3\n",
       "33dd30594303eb0ebe12a556d612c437      3\n",
       "323cff2ceea1814239bc2c7e614d260d      3\n",
       "6aa3b86a83d784b05f0e37e26b20860d      2\n",
       "0cdad77786224a7cefea567b8c75c3c1      2\n",
       "084b6fbb10729ed4da8c3d3f5a3ae7c9      1\n",
       "282f16e20d50cb18d05182e80f6b9dd6      1\n",
       "6b13bcea409754a002210eb96b8aad4a      1\n",
       "5b7ce8c2b0fe4c2f52a0763046914ef4      1\n",
       "19f3cd308f1455b3fa09a282e0d496f4      1\n",
       "b1b3ec93fc27a19fdb1c1b1fc997776a      1\n",
       "e4a6222cdb5b34375400904f03d8e6a5      1\n",
       "9ae085775a198122c5586fa830ff7f2b      1\n",
       "Name: sdr_id, dtype: int64"
      ]
     },
     "execution_count": 143,
     "metadata": {},
     "output_type": "execute_result"
    }
   ],
   "source": [
    "df1_closed_deals['sdr_id'].value_counts()"
   ]
  },
  {
   "cell_type": "code",
   "execution_count": 144,
   "metadata": {},
   "outputs": [
    {
     "data": {
      "text/plain": [
       "2c43fb513632d29b3b58df74816f1b06    1\n",
       "c092292535a57dacd95a8765f5518f87    1\n",
       "de83e0600df76319c24c3670ebcb2d5f    1\n",
       "85182120f8a3331fcddb54f27a77dda2    1\n",
       "bb219facd42c2384181e8f3330b42df9    1\n",
       "                                   ..\n",
       "76bf0e3e7d311d9069d4512cc1a232d7    1\n",
       "4ff8d644ff76721b86fdc7c75c48d4a6    1\n",
       "59ddca14932ec5557c099a51c4d5a58e    1\n",
       "8c9348f33ae3dada25c99c99ade2af78    1\n",
       "1bba9c94eb5c4e82fba9f7286fe81025    1\n",
       "Name: seller_id, Length: 842, dtype: int64"
      ]
     },
     "execution_count": 144,
     "metadata": {},
     "output_type": "execute_result"
    }
   ],
   "source": [
    "df1_closed_deals['seller_id'].value_counts()"
   ]
  },
  {
   "cell_type": "code",
   "execution_count": 145,
   "metadata": {},
   "outputs": [
    {
     "data": {
      "text/plain": [
       "5420aad7fec3549a85876ba1c529bd84    1\n",
       "c92c413cead7d8b67a89850ba352e1d1    1\n",
       "8df878a8e746bb16f57beaa0615b5693    1\n",
       "07c70f3b440791aa82c370d17910f32f    1\n",
       "bf38970e96dee81ef0b4b76c2feb1a2a    1\n",
       "                                   ..\n",
       "6bdffb19c15963b8e630b6a1861b477f    1\n",
       "834e43588167648b6f83961cf22f940e    1\n",
       "688026f6edb29cc7c96b287b186b03c9    1\n",
       "439c56de17208ac25a2abee9beca46f7    1\n",
       "8a6492305a5fbcdcdd1a7f5a90764c07    1\n",
       "Name: mql_id, Length: 842, dtype: int64"
      ]
     },
     "execution_count": 145,
     "metadata": {},
     "output_type": "execute_result"
    }
   ],
   "source": [
    "df1_closed_deals['mql_id'].value_counts()"
   ]
  },
  {
   "cell_type": "code",
   "execution_count": 146,
   "metadata": {},
   "outputs": [
    {
     "data": {
      "text/plain": [
       "4ef15afb4b2723d8f3d81e51ec7afefe    133\n",
       "d3d1e91a157ea7f90548eef82f1955e3     82\n",
       "6565aa9ce3178a5caf6171827af3a9ba     74\n",
       "85fc447d336637ba1df43e793199fbc8     64\n",
       "495d4e95a8cf8bbf8b432b612a2aa328     63\n",
       "fbf4aef3f6915dc0c3c97d6812522f6a     59\n",
       "2695de1affa7750089c0455f8ce27021     59\n",
       "de63de0d10a6012430098db33c679b0b     53\n",
       "9ae085775a198122c5586fa830ff7f2b     51\n",
       "c638112b43f1d1b86dcabb0da720c901     36\n",
       "060c0a26f19f4d66b42e0d8796688490     32\n",
       "068066e24f0c643eb1d089c7dd20cd73     27\n",
       "a8387c01a09e99ce014107505b92388c     26\n",
       "9e4d1098a3b0f5da39b0bc48f9876645     24\n",
       "56bf83c4bb35763a51c2baab501b4c67     24\n",
       "34d40cdaf94010a1d05b0d6212f9e909     10\n",
       "4b339f9567d060bcea4f5136b9f5949e      9\n",
       "9749123c950bf8363ace42cb1c2d0815      7\n",
       "9d12ef1a7eca3ec58c545c678af7869c      6\n",
       "0a0fb2b07d841f84fb6714e35c723075      1\n",
       "b90f87164b5f8c2cfa5c8572834dbe3f      1\n",
       "6aa3b86a83d784b05f0e37e26b20860d      1\n",
       "Name: sr_id, dtype: int64"
      ]
     },
     "execution_count": 146,
     "metadata": {},
     "output_type": "execute_result"
    }
   ],
   "source": [
    "df1_closed_deals['sr_id'].value_counts()"
   ]
  },
  {
   "attachments": {},
   "cell_type": "markdown",
   "metadata": {},
   "source": [
    "aquí vimos que la mayoría de los clientes declaran ingreso 0, por lo que a continuación quisimos saber que tan desbalanceada esta esta columna"
   ]
  },
  {
   "cell_type": "code",
   "execution_count": 147,
   "metadata": {},
   "outputs": [
    {
     "data": {
      "text/plain": [
       "0.0           95.0\n",
       "100000.0       1.0\n",
       "20000.0        0.0\n",
       "30000.0        0.0\n",
       "10000.0        0.0\n",
       "25000.0        0.0\n",
       "15000.0        0.0\n",
       "120000.0       0.0\n",
       "50000.0        0.0\n",
       "60000.0        0.0\n",
       "300000.0       0.0\n",
       "5000.0         0.0\n",
       "250000.0       0.0\n",
       "210000.0       0.0\n",
       "8000000.0      0.0\n",
       "40000.0        0.0\n",
       "50000000.0     0.0\n",
       "4000.0         0.0\n",
       "150000.0       0.0\n",
       "6.0            0.0\n",
       "1000.0         0.0\n",
       "180000.0       0.0\n",
       "500000.0       0.0\n",
       "130000.0       0.0\n",
       "6000.0         0.0\n",
       "8000.0         0.0\n",
       "200000.0       0.0\n",
       "Name: declared_monthly_revenue, dtype: float64"
      ]
     },
     "execution_count": 147,
     "metadata": {},
     "output_type": "execute_result"
    }
   ],
   "source": [
    "#se muestra la representatividad de los datos de la columna, en % \n",
    "count_val_procentaje(df1_closed_deals,'declared_monthly_revenue')"
   ]
  },
  {
   "cell_type": "code",
   "execution_count": 148,
   "metadata": {},
   "outputs": [
    {
     "data": {
      "text/plain": [
       "cat            61.0\n",
       "eagle          18.0\n",
       "wolf           14.0\n",
       "shark           4.0\n",
       "cat, wolf       1.0\n",
       "eagle, wolf     0.0\n",
       "eagle, cat      0.0\n",
       "shark, cat      0.0\n",
       "shark, wolf     0.0\n",
       "Name: lead_behaviour_profile, dtype: float64"
      ]
     },
     "execution_count": 148,
     "metadata": {},
     "output_type": "execute_result"
    }
   ],
   "source": [
    "#analisis de las categorías de la columna \n",
    "count_val_procentaje(df1_closed_deals,'lead_behaviour_profile')"
   ]
  },
  {
   "attachments": {},
   "cell_type": "markdown",
   "metadata": {},
   "source": [
    "Este factor esta relacionado con DISC* https://www.discprofile.com/what-is-disc/overview/\n",
    "\n",
    "Los perfiles de los animales expresan las siguientes características de las empresas que generaron el lead \n",
    "\n",
    "Shark - Dominancia\n",
    "\n",
    "Eagle - Influencia\n",
    "\n",
    "Cat - Estabilidad\n",
    "\n",
    "Wolf - Conciencia\n",
    "\n",
    "*es una herramienta de evaluación personal utilizada para mejorar el trabajo en equipo, la comunicación y la productividad en el lugar de trabajo."
   ]
  },
  {
   "cell_type": "code",
   "execution_count": 149,
   "metadata": {},
   "outputs": [
    {
     "data": {
      "text/plain": [
       "6"
      ]
     },
     "execution_count": 149,
     "metadata": {},
     "output_type": "execute_result"
    }
   ],
   "source": [
    "#analizamos cuantos valores nan hay\n",
    "df1_closed_deals['lead_type'].isnull().sum()"
   ]
  },
  {
   "cell_type": "code",
   "execution_count": 150,
   "metadata": {},
   "outputs": [
    {
     "data": {
      "text/plain": [
       "online_medium      40.0\n",
       "online_big         15.0\n",
       "industry           15.0\n",
       "offline            12.0\n",
       "online_small        9.0\n",
       "online_beginner     7.0\n",
       "online_top          2.0\n",
       "other               0.0\n",
       "Name: lead_type, dtype: float64"
      ]
     },
     "execution_count": 150,
     "metadata": {},
     "output_type": "execute_result"
    }
   ],
   "source": [
    "#se muestra las datos de la columna y su representatividad, en % \n",
    "count_val_procentaje(df1_closed_deals,'lead_type')"
   ]
  },
  {
   "attachments": {},
   "cell_type": "markdown",
   "metadata": {},
   "source": [
    "Esta columna es de gran utilidad para los data analist porque deja ver el % de categorias de cliente donde se pueden inferir los pertenecientes al segmento PYMEs"
   ]
  },
  {
   "cell_type": "code",
   "execution_count": 151,
   "metadata": {},
   "outputs": [
    {
     "data": {
      "text/plain": [
       "array([nan, True, False], dtype=object)"
      ]
     },
     "execution_count": 151,
     "metadata": {},
     "output_type": "execute_result"
    }
   ],
   "source": [
    "#analisis de las categorías de la columna \n",
    "df1_closed_deals['has_company'].unique()"
   ]
  },
  {
   "attachments": {},
   "cell_type": "markdown",
   "metadata": {},
   "source": [
    "La siguientes columna refiere a la documentación presentada por el interesado, con respecto a si posee o no una empresa: "
   ]
  },
  {
   "cell_type": "code",
   "execution_count": 152,
   "metadata": {},
   "outputs": [
    {
     "data": {
      "text/plain": [
       "True     84.0\n",
       "False    16.0\n",
       "Name: has_gtin, dtype: float64"
      ]
     },
     "execution_count": 152,
     "metadata": {},
     "output_type": "execute_result"
    }
   ],
   "source": [
    "#analisis de las categorías de la columna \n",
    "count_val_procentaje(df1_closed_deals,'has_gtin')"
   ]
  },
  {
   "attachments": {},
   "cell_type": "markdown",
   "metadata": {},
   "source": [
    "Este punto responde a si posee o no codigo de barras en sus productos"
   ]
  },
  {
   "cell_type": "code",
   "execution_count": 153,
   "metadata": {},
   "outputs": [
    {
     "data": {
      "text/plain": [
       "5-20       33.0\n",
       "50-200     23.0\n",
       "1-5        15.0\n",
       "20-50      12.0\n",
       "200+       11.0\n",
       "unknown     6.0\n",
       "Name: average_stock, dtype: float64"
      ]
     },
     "execution_count": 153,
     "metadata": {},
     "output_type": "execute_result"
    }
   ],
   "source": [
    "#analisis de las categorías de la columna \n",
    "count_val_procentaje(df1_closed_deals,'average_stock')"
   ]
  },
  {
   "cell_type": "code",
   "execution_count": 154,
   "metadata": {},
   "outputs": [
    {
     "data": {
      "text/plain": [
       "False    838\n",
       "True       4\n",
       "dtype: int64"
      ]
     },
     "execution_count": 154,
     "metadata": {},
     "output_type": "execute_result"
    }
   ],
   "source": [
    "#analizamos cuantos valores 'unknown' (que no saben el stock) hay\n",
    "df1_closed_deals.apply(lambda x: x ['average_stock'] == 'unknown', axis=1).value_counts()\n"
   ]
  },
  {
   "cell_type": "code",
   "execution_count": 155,
   "metadata": {},
   "outputs": [
    {
     "data": {
      "text/plain": [
       "776"
      ]
     },
     "execution_count": 155,
     "metadata": {},
     "output_type": "execute_result"
    }
   ],
   "source": [
    "#analizamos cuantos valores nan hay\n",
    "df1_closed_deals['average_stock'].isnull().sum()"
   ]
  },
  {
   "attachments": {},
   "cell_type": "markdown",
   "metadata": {},
   "source": [
    "Solo 4 clientes desconocen el stock pero 776 casilleros de dicha columna, estan vacios. Esta columna NO sirve mucho si se quisiera analizar optimización en la gestión de stock"
   ]
  },
  {
   "cell_type": "code",
   "execution_count": 156,
   "metadata": {},
   "outputs": [
    {
     "data": {
      "text/plain": [
       "reseller        71.0\n",
       "manufacturer    29.0\n",
       "other            0.0\n",
       "Name: business_type, dtype: float64"
      ]
     },
     "execution_count": 156,
     "metadata": {},
     "output_type": "execute_result"
    }
   ],
   "source": [
    "#analisis de las categorías de la columna \n",
    "\n",
    "count_val_procentaje(df1_closed_deals,'business_type')"
   ]
  },
  {
   "cell_type": "code",
   "execution_count": 157,
   "metadata": {},
   "outputs": [
    {
     "data": {
      "text/plain": [
       "<AxesSubplot:xlabel='declared_product_catalog_size', ylabel='Count'>"
      ]
     },
     "execution_count": 157,
     "metadata": {},
     "output_type": "execute_result"
    },
    {
     "data": {
      "image/png": "[encoded data removed]",
      "text/plain": [
       "<Figure size 432x288 with 1 Axes>"
      ]
     },
     "metadata": {
      "needs_background": "light"
     },
     "output_type": "display_data"
    }
   ],
   "source": [
    "#analisis de la distribución de los datos \n",
    "\n",
    "df1_closed_deals['declared_product_catalog_size'].astype(float)\n",
    "sns.histplot(df1_closed_deals['declared_product_catalog_size'],bins=25)\n"
   ]
  },
  {
   "cell_type": "code",
   "execution_count": 158,
   "metadata": {},
   "outputs": [
    {
     "data": {
      "text/plain": [
       "<AxesSubplot:xlabel='declared_monthly_revenue', ylabel='Count'>"
      ]
     },
     "execution_count": 158,
     "metadata": {},
     "output_type": "execute_result"
    },
    {
     "data": {
      "image/png": "[encoded data removed]",
      "text/plain": [
       "<Figure size 432x288 with 1 Axes>"
      ]
     },
     "metadata": {
      "needs_background": "light"
     },
     "output_type": "display_data"
    }
   ],
   "source": [
    "#analisis de la distribución de los datos \n",
    "df1_closed_deals['declared_monthly_revenue'].astype(float)\n",
    "sns.histplot(df1_closed_deals['declared_monthly_revenue'],bins=25)"
   ]
  },
  {
   "cell_type": "code",
   "execution_count": 159,
   "metadata": {},
   "outputs": [
    {
     "data": {
      "text/plain": [
       "True     797\n",
       "False     45\n",
       "dtype: int64"
      ]
     },
     "execution_count": 159,
     "metadata": {},
     "output_type": "execute_result"
    }
   ],
   "source": [
    "#analizamos cuantos valores 'en 0, la columna pierde valor\n",
    "df1_closed_deals.apply(lambda x: x ['declared_monthly_revenue'] == 0, axis=1).value_counts()"
   ]
  },
  {
   "attachments": {},
   "cell_type": "markdown",
   "metadata": {},
   "source": [
    "Esto nos muestra un "
   ]
  },
  {
   "attachments": {},
   "cell_type": "markdown",
   "metadata": {},
   "source": [
    "Conclusiones_TABLA 1\n",
    "\n",
    "- Esta tabla contiene la información de los acuerdos cerrados, datos de los clientes y perfil de los mismos, a la vez que lo vincula con el vendedor. \n",
    "\n",
    "- Si bien hay muchos valores faltantes en lo referido a información del cliente (como declaración de ingresos, stock y si presenta documentacion de la empresa) la información basica del acuerdo está dispnible asi como la fecha de cierre y segmento de mercado y perfil.  \n",
    "\n",
    "- esta es una tabla de hecho ya que contiene información de los acuerdos cerrados. "
   ]
  },
  {
   "attachments": {},
   "cell_type": "markdown",
   "metadata": {},
   "source": [
    "________________________________"
   ]
  },
  {
   "attachments": {},
   "cell_type": "markdown",
   "metadata": {},
   "source": [
    "## TABLA 2_ Recopila información de los clientes (customers)"
   ]
  },
  {
   "cell_type": "code",
   "execution_count": 160,
   "metadata": {},
   "outputs": [
    {
     "name": "stdout",
     "output_type": "stream",
     "text": [
      "<class 'pandas.core.frame.DataFrame'>\n",
      "RangeIndex: 99441 entries, 0 to 99440\n",
      "Data columns (total 5 columns):\n",
      " #   Column                    Non-Null Count  Dtype \n",
      "---  ------                    --------------  ----- \n",
      " 0   customer_id               99441 non-null  object\n",
      " 1   customer_unique_id        99441 non-null  object\n",
      " 2   customer_zip_code_prefix  99441 non-null  int64 \n",
      " 3   customer_city             99441 non-null  object\n",
      " 4   customer_state            99441 non-null  object\n",
      "dtypes: int64(1), object(4)\n",
      "memory usage: 3.8+ MB\n"
     ]
    },
    {
     "data": {
      "text/plain": [
       "'No hay duplicados'"
      ]
     },
     "execution_count": 160,
     "metadata": {},
     "output_type": "execute_result"
    }
   ],
   "source": [
    "#información general y miramos si hay duplicados y cuantos \n",
    "eda_general(df2_customers)\n",
    "eda_duplicados(df2_customers)\n"
   ]
  },
  {
   "cell_type": "code",
   "execution_count": 161,
   "metadata": {},
   "outputs": [
    {
     "data": {
      "text/html": [
       "<div>\n",
       "<style scoped>\n",
       "    .dataframe tbody tr th:only-of-type {\n",
       "        vertical-align: middle;\n",
       "    }\n",
       "\n",
       "    .dataframe tbody tr th {\n",
       "        vertical-align: top;\n",
       "    }\n",
       "\n",
       "    .dataframe thead th {\n",
       "        text-align: right;\n",
       "    }\n",
       "</style>\n",
       "<table border=\"1\" class=\"dataframe\">\n",
       "  <thead>\n",
       "    <tr style=\"text-align: right;\">\n",
       "      <th></th>\n",
       "      <th>customer_id</th>\n",
       "      <th>customer_unique_id</th>\n",
       "      <th>customer_zip_code_prefix</th>\n",
       "      <th>customer_city</th>\n",
       "      <th>customer_state</th>\n",
       "    </tr>\n",
       "  </thead>\n",
       "  <tbody>\n",
       "    <tr>\n",
       "      <th>96523</th>\n",
       "      <td>88ee40a99bacbe60eb2db44b445a83d9</td>\n",
       "      <td>fe671564adbd29c727722191af62afae</td>\n",
       "      <td>57900</td>\n",
       "      <td>porto calvo</td>\n",
       "      <td>AL</td>\n",
       "    </tr>\n",
       "    <tr>\n",
       "      <th>17220</th>\n",
       "      <td>59c20aaccd770eacb8b3dac4b3ef9358</td>\n",
       "      <td>ee3074a0ae884d6cfbe6a79a3f76f729</td>\n",
       "      <td>4619</td>\n",
       "      <td>sao paulo</td>\n",
       "      <td>SP</td>\n",
       "    </tr>\n",
       "    <tr>\n",
       "      <th>22570</th>\n",
       "      <td>f1a658516724893151252a16cc7d5cc7</td>\n",
       "      <td>1f18f0c4db52786af00aae82566348f4</td>\n",
       "      <td>30240</td>\n",
       "      <td>belo horizonte</td>\n",
       "      <td>MG</td>\n",
       "    </tr>\n",
       "    <tr>\n",
       "      <th>85291</th>\n",
       "      <td>04c81659bc6756aec0dea8a3fe320d7b</td>\n",
       "      <td>ec7ff0c5e0b5495ed3c49c6bfd6d9ca1</td>\n",
       "      <td>38184</td>\n",
       "      <td>araxa</td>\n",
       "      <td>MG</td>\n",
       "    </tr>\n",
       "    <tr>\n",
       "      <th>53702</th>\n",
       "      <td>971bfe39418350859c2eb52127c06aa9</td>\n",
       "      <td>b4f03c75358574baa9cac3de5fc4a5c0</td>\n",
       "      <td>34525</td>\n",
       "      <td>sabara</td>\n",
       "      <td>MG</td>\n",
       "    </tr>\n",
       "  </tbody>\n",
       "</table>\n",
       "</div>"
      ],
      "text/plain": [
       "                            customer_id                customer_unique_id  \\\n",
       "96523  88ee40a99bacbe60eb2db44b445a83d9  fe671564adbd29c727722191af62afae   \n",
       "17220  59c20aaccd770eacb8b3dac4b3ef9358  ee3074a0ae884d6cfbe6a79a3f76f729   \n",
       "22570  f1a658516724893151252a16cc7d5cc7  1f18f0c4db52786af00aae82566348f4   \n",
       "85291  04c81659bc6756aec0dea8a3fe320d7b  ec7ff0c5e0b5495ed3c49c6bfd6d9ca1   \n",
       "53702  971bfe39418350859c2eb52127c06aa9  b4f03c75358574baa9cac3de5fc4a5c0   \n",
       "\n",
       "       customer_zip_code_prefix   customer_city customer_state  \n",
       "96523                     57900     porto calvo             AL  \n",
       "17220                      4619       sao paulo             SP  \n",
       "22570                     30240  belo horizonte             MG  \n",
       "85291                     38184           araxa             MG  \n",
       "53702                     34525          sabara             MG  "
      ]
     },
     "execution_count": 161,
     "metadata": {},
     "output_type": "execute_result"
    }
   ],
   "source": [
    "#analisis preliminar del contenido\n",
    "eda_sample(df2_customers)"
   ]
  },
  {
   "cell_type": "code",
   "execution_count": 162,
   "metadata": {},
   "outputs": [
    {
     "name": "stdout",
     "output_type": "stream",
     "text": [
      "Todos los valores de customer_id tienen longitud de 32 caracteres\n",
      "Todos los valores de customer_unique_id tienen longitud de 32 caracteres\n"
     ]
    }
   ],
   "source": [
    "#Se chequea que lo ID tengan una longitud de números homogeneos y sean todos iguales  \n",
    "homogeneidad_id(df2_customers)"
   ]
  },
  {
   "cell_type": "code",
   "execution_count": 163,
   "metadata": {},
   "outputs": [
    {
     "name": "stdout",
     "output_type": "stream",
     "text": [
      "La columna customer_id tiene: 0 valores duplicados, de un total de 99441 datos\n",
      "La columna customer_unique_id tiene: 3345 valores duplicados, de un total de 99441 datos\n",
      "La columna customer_zip_code_prefix tiene: 84447 valores duplicados, de un total de 99441 datos\n",
      "La columna customer_city tiene: 95322 valores duplicados, de un total de 99441 datos\n",
      "La columna customer_state tiene: 99414 valores duplicados, de un total de 99441 datos\n"
     ]
    }
   ],
   "source": [
    "#Analisis de los valores repetidos por columna \n",
    "duplicados_x_columna(df2_customers)"
   ]
  },
  {
   "cell_type": "code",
   "execution_count": 164,
   "metadata": {},
   "outputs": [
    {
     "data": {
      "text/plain": [
       "<AxesSubplot:xlabel='customer_state', ylabel='Count'>"
      ]
     },
     "execution_count": 164,
     "metadata": {},
     "output_type": "execute_result"
    },
    {
     "data": {
      "image/png": "[encoded data removed]",
      "text/plain": [
       "<Figure size 432x288 with 1 Axes>"
      ]
     },
     "metadata": {
      "needs_background": "light"
     },
     "output_type": "display_data"
    }
   ],
   "source": [
    "#se quiere saber que Estados distintos figuran en la columna customer_state\n",
    "sns.histplot(df2_customers['customer_state'],bins=25)"
   ]
  },
  {
   "cell_type": "code",
   "execution_count": 165,
   "metadata": {},
   "outputs": [
    {
     "data": {
      "text/plain": [
       "SP    42.0\n",
       "RJ    13.0\n",
       "MG    12.0\n",
       "RS     5.0\n",
       "PR     5.0\n",
       "SC     4.0\n",
       "BA     3.0\n",
       "DF     2.0\n",
       "ES     2.0\n",
       "GO     2.0\n",
       "PE     2.0\n",
       "CE     1.0\n",
       "PA     1.0\n",
       "MT     1.0\n",
       "MA     1.0\n",
       "MS     1.0\n",
       "PB     1.0\n",
       "PI     0.0\n",
       "RN     0.0\n",
       "AL     0.0\n",
       "SE     0.0\n",
       "TO     0.0\n",
       "RO     0.0\n",
       "AM     0.0\n",
       "AC     0.0\n",
       "AP     0.0\n",
       "RR     0.0\n",
       "Name: customer_state, dtype: float64"
      ]
     },
     "execution_count": 165,
     "metadata": {},
     "output_type": "execute_result"
    }
   ],
   "source": [
    "#se representa lo mismo que el histograma en % para ver claramente los estados principales\n",
    "count_val_procentaje(df2_customers,'customer_state')"
   ]
  },
  {
   "attachments": {},
   "cell_type": "markdown",
   "metadata": {},
   "source": [
    "### Conclusiones_ TABLA 2: \n",
    "\n",
    " - Se debe trabajar en los 2 id para dejar un único ID de cliente. \n",
    "\n",
    " - Esta tabla solo vincula el id del cliente con su localización. Mediante la tabla de geolocalización podría remplazarse las tres últimas columnas por uin ID de ubicación y vincularla por un FK (foreight key) a la tabla geolocalización.\n",
    "\n",
    " - Esta tabla sirve potencialmente para, con vinculación con otras, realizar los KPI que involucran ubicaciones de los clientes\n",
    "\n",
    " - se trata de una tabla de dimensiones ya que da información de los clientes "
   ]
  },
  {
   "attachments": {},
   "cell_type": "markdown",
   "metadata": {},
   "source": [
    "__________________"
   ]
  },
  {
   "attachments": {},
   "cell_type": "markdown",
   "metadata": {},
   "source": [
    "## TABLA 3_ Geolocalizació, Latitud y Longitud por localidad (geolocation)"
   ]
  },
  {
   "cell_type": "code",
   "execution_count": 166,
   "metadata": {},
   "outputs": [
    {
     "name": "stdout",
     "output_type": "stream",
     "text": [
      "<class 'pandas.core.frame.DataFrame'>\n",
      "RangeIndex: 1000163 entries, 0 to 1000162\n",
      "Data columns (total 5 columns):\n",
      " #   Column                       Non-Null Count    Dtype  \n",
      "---  ------                       --------------    -----  \n",
      " 0   geolocation_zip_code_prefix  1000163 non-null  int64  \n",
      " 1   geolocation_lat              1000163 non-null  float64\n",
      " 2   geolocation_lng              1000163 non-null  float64\n",
      " 3   geolocation_city             1000163 non-null  object \n",
      " 4   geolocation_state            1000163 non-null  object \n",
      "dtypes: float64(2), int64(1), object(2)\n",
      "memory usage: 38.2+ MB\n"
     ]
    },
    {
     "data": {
      "text/plain": [
       "'Hay 261831 registros duplicados'"
      ]
     },
     "execution_count": 166,
     "metadata": {},
     "output_type": "execute_result"
    }
   ],
   "source": [
    "#información general y miramos si hay duplicados y cuantos \n",
    "eda_general(df3_geolocation)\n",
    "eda_duplicados(df3_geolocation)"
   ]
  },
  {
   "cell_type": "code",
   "execution_count": 167,
   "metadata": {},
   "outputs": [
    {
     "data": {
      "text/html": [
       "<div>\n",
       "<style scoped>\n",
       "    .dataframe tbody tr th:only-of-type {\n",
       "        vertical-align: middle;\n",
       "    }\n",
       "\n",
       "    .dataframe tbody tr th {\n",
       "        vertical-align: top;\n",
       "    }\n",
       "\n",
       "    .dataframe thead th {\n",
       "        text-align: right;\n",
       "    }\n",
       "</style>\n",
       "<table border=\"1\" class=\"dataframe\">\n",
       "  <thead>\n",
       "    <tr style=\"text-align: right;\">\n",
       "      <th></th>\n",
       "      <th>geolocation_zip_code_prefix</th>\n",
       "      <th>geolocation_lat</th>\n",
       "      <th>geolocation_lng</th>\n",
       "      <th>geolocation_city</th>\n",
       "      <th>geolocation_state</th>\n",
       "    </tr>\n",
       "  </thead>\n",
       "  <tbody>\n",
       "    <tr>\n",
       "      <th>369501</th>\n",
       "      <td>17290</td>\n",
       "      <td>-22.529524</td>\n",
       "      <td>-48.723593</td>\n",
       "      <td>macatuba</td>\n",
       "      <td>SP</td>\n",
       "    </tr>\n",
       "    <tr>\n",
       "      <th>906839</th>\n",
       "      <td>88113</td>\n",
       "      <td>-27.556507</td>\n",
       "      <td>-48.636974</td>\n",
       "      <td>sao jose</td>\n",
       "      <td>SC</td>\n",
       "    </tr>\n",
       "    <tr>\n",
       "      <th>974241</th>\n",
       "      <td>95890</td>\n",
       "      <td>-29.471705</td>\n",
       "      <td>-51.819879</td>\n",
       "      <td>teutonia</td>\n",
       "      <td>RS</td>\n",
       "    </tr>\n",
       "    <tr>\n",
       "      <th>628553</th>\n",
       "      <td>37420</td>\n",
       "      <td>-21.842974</td>\n",
       "      <td>-45.298126</td>\n",
       "      <td>cambuquira</td>\n",
       "      <td>MG</td>\n",
       "    </tr>\n",
       "    <tr>\n",
       "      <th>612326</th>\n",
       "      <td>36204</td>\n",
       "      <td>-21.206991</td>\n",
       "      <td>-43.766871</td>\n",
       "      <td>barbacena</td>\n",
       "      <td>MG</td>\n",
       "    </tr>\n",
       "  </tbody>\n",
       "</table>\n",
       "</div>"
      ],
      "text/plain": [
       "        geolocation_zip_code_prefix  geolocation_lat  geolocation_lng  \\\n",
       "369501                        17290       -22.529524       -48.723593   \n",
       "906839                        88113       -27.556507       -48.636974   \n",
       "974241                        95890       -29.471705       -51.819879   \n",
       "628553                        37420       -21.842974       -45.298126   \n",
       "612326                        36204       -21.206991       -43.766871   \n",
       "\n",
       "       geolocation_city geolocation_state  \n",
       "369501         macatuba                SP  \n",
       "906839         sao jose                SC  \n",
       "974241         teutonia                RS  \n",
       "628553       cambuquira                MG  \n",
       "612326        barbacena                MG  "
      ]
     },
     "execution_count": 167,
     "metadata": {},
     "output_type": "execute_result"
    }
   ],
   "source": [
    "#analisis preliminar del contenido\n",
    "eda_sample(df3_geolocation)"
   ]
  },
  {
   "cell_type": "code",
   "execution_count": 168,
   "metadata": {},
   "outputs": [
    {
     "data": {
      "text/plain": [
       "<AxesSubplot:xlabel='geolocation_state', ylabel='Count'>"
      ]
     },
     "execution_count": 168,
     "metadata": {},
     "output_type": "execute_result"
    },
    {
     "data": {
      "image/png": "[encoded data removed]",
      "text/plain": [
       "<Figure size 432x288 with 1 Axes>"
      ]
     },
     "metadata": {
      "needs_background": "light"
     },
     "output_type": "display_data"
    }
   ],
   "source": [
    "#se quiere saber cuantas localidades hay por estado, para esto se eliminan los duplicados en la columna customer_state\n",
    "df3_aux=df3_geolocation.drop_duplicates()\n",
    "sns.histplot(df3_aux['geolocation_state'],bins=25)"
   ]
  },
  {
   "cell_type": "code",
   "execution_count": 169,
   "metadata": {},
   "outputs": [
    {
     "name": "stdout",
     "output_type": "stream",
     "text": [
      "La columna geolocation_zip_code_prefix tiene: 719317 valores duplicados, de un total de 738332 datos\n",
      "La columna geolocation_lat tiene: 20972 valores duplicados, de un total de 738332 datos\n",
      "La columna geolocation_lng tiene: 20719 valores duplicados, de un total de 738332 datos\n",
      "La columna geolocation_city tiene: 730321 valores duplicados, de un total de 738332 datos\n",
      "La columna geolocation_state tiene: 738305 valores duplicados, de un total de 738332 datos\n"
     ]
    }
   ],
   "source": [
    "#analizamos si el codigo postal y otros datos está duplicado por columna para ver cual correlacionar para reemplazar por el ID en nuevas tablas\n",
    "duplicados_x_columna(df3_aux)"
   ]
  },
  {
   "cell_type": "code",
   "execution_count": 170,
   "metadata": {},
   "outputs": [
    {
     "data": {
      "text/plain": [
       "38400    779\n",
       "35500    751\n",
       "11680    727\n",
       "11740    678\n",
       "36400    627\n",
       "        ... \n",
       "90038      1\n",
       "90002      1\n",
       "29174      1\n",
       "72230      1\n",
       "45824      1\n",
       "Name: geolocation_zip_code_prefix, Length: 19015, dtype: int64"
      ]
     },
     "execution_count": 170,
     "metadata": {},
     "output_type": "execute_result"
    }
   ],
   "source": [
    "#analisis de la columna zip code\n",
    "df3_aux['geolocation_zip_code_prefix'].value_counts()"
   ]
  },
  {
   "attachments": {},
   "cell_type": "markdown",
   "metadata": {},
   "source": [
    "### Conclusiones_ TABLA 3: \n",
    "\n",
    " - al momento de generar el data warehouse deben eliminarse los duplicados (26% de los datos)\n",
    " \n",
    " - Una estretégia posible al generar el data warehouse es generar un ID que permita reemplazar la información de localización en las tablas por un id que conecte directo a esta info, evitando conservar 3 columnas y duplicar información en el data warehouse. \n",
    " \n",
    " - se trata de una tabla de dimensiones "
   ]
  },
  {
   "attachments": {},
   "cell_type": "markdown",
   "metadata": {},
   "source": [
    "_______________\n"
   ]
  },
  {
   "attachments": {},
   "cell_type": "markdown",
   "metadata": {},
   "source": [
    "## TABLA 4_ Origen de los leads (marketing_qualified_leads)"
   ]
  },
  {
   "cell_type": "code",
   "execution_count": 171,
   "metadata": {},
   "outputs": [
    {
     "name": "stdout",
     "output_type": "stream",
     "text": [
      "<class 'pandas.core.frame.DataFrame'>\n",
      "RangeIndex: 8000 entries, 0 to 7999\n",
      "Data columns (total 4 columns):\n",
      " #   Column              Non-Null Count  Dtype \n",
      "---  ------              --------------  ----- \n",
      " 0   mql_id              8000 non-null   object\n",
      " 1   first_contact_date  8000 non-null   object\n",
      " 2   landing_page_id     8000 non-null   object\n",
      " 3   origin              7940 non-null   object\n",
      "dtypes: object(4)\n",
      "memory usage: 250.1+ KB\n"
     ]
    },
    {
     "data": {
      "text/plain": [
       "'No hay duplicados'"
      ]
     },
     "execution_count": 171,
     "metadata": {},
     "output_type": "execute_result"
    }
   ],
   "source": [
    "#información general y miramos si hay duplicados y cuantos \n",
    "eda_general(df4_q_leads)\n",
    "eda_duplicados(df4_q_leads)"
   ]
  },
  {
   "cell_type": "code",
   "execution_count": 172,
   "metadata": {},
   "outputs": [
    {
     "data": {
      "text/html": [
       "<div>\n",
       "<style scoped>\n",
       "    .dataframe tbody tr th:only-of-type {\n",
       "        vertical-align: middle;\n",
       "    }\n",
       "\n",
       "    .dataframe tbody tr th {\n",
       "        vertical-align: top;\n",
       "    }\n",
       "\n",
       "    .dataframe thead th {\n",
       "        text-align: right;\n",
       "    }\n",
       "</style>\n",
       "<table border=\"1\" class=\"dataframe\">\n",
       "  <thead>\n",
       "    <tr style=\"text-align: right;\">\n",
       "      <th></th>\n",
       "      <th>mql_id</th>\n",
       "      <th>first_contact_date</th>\n",
       "      <th>landing_page_id</th>\n",
       "      <th>origin</th>\n",
       "    </tr>\n",
       "  </thead>\n",
       "  <tbody>\n",
       "    <tr>\n",
       "      <th>6029</th>\n",
       "      <td>de680b2a19ca196c0b15309896e895fe</td>\n",
       "      <td>2018-04-16</td>\n",
       "      <td>b48ec5f3b04e9068441002a19df93c6c</td>\n",
       "      <td>organic_search</td>\n",
       "    </tr>\n",
       "    <tr>\n",
       "      <th>4523</th>\n",
       "      <td>41dba7c677fd1dc761ad8717c352da92</td>\n",
       "      <td>2018-01-22</td>\n",
       "      <td>f017be4dbf86243af5c1ebed0cff36a2</td>\n",
       "      <td>organic_search</td>\n",
       "    </tr>\n",
       "    <tr>\n",
       "      <th>1629</th>\n",
       "      <td>94c72a6d91e030affb4a487c7c5ee8b9</td>\n",
       "      <td>2018-04-30</td>\n",
       "      <td>35c9b150ab36fe584c1f24fd458c453a</td>\n",
       "      <td>paid_search</td>\n",
       "    </tr>\n",
       "    <tr>\n",
       "      <th>3846</th>\n",
       "      <td>9b4e84017d08b6576f1282367901c964</td>\n",
       "      <td>2018-02-13</td>\n",
       "      <td>b76ef37428e6799c421989521c0e5077</td>\n",
       "      <td>unknown</td>\n",
       "    </tr>\n",
       "    <tr>\n",
       "      <th>5600</th>\n",
       "      <td>6e668e75a724c96385d31729d5f7759b</td>\n",
       "      <td>2018-05-29</td>\n",
       "      <td>bfd05fa9f9fe2aedee539951a84f2aaf</td>\n",
       "      <td>paid_search</td>\n",
       "    </tr>\n",
       "  </tbody>\n",
       "</table>\n",
       "</div>"
      ],
      "text/plain": [
       "                                mql_id first_contact_date  \\\n",
       "6029  de680b2a19ca196c0b15309896e895fe         2018-04-16   \n",
       "4523  41dba7c677fd1dc761ad8717c352da92         2018-01-22   \n",
       "1629  94c72a6d91e030affb4a487c7c5ee8b9         2018-04-30   \n",
       "3846  9b4e84017d08b6576f1282367901c964         2018-02-13   \n",
       "5600  6e668e75a724c96385d31729d5f7759b         2018-05-29   \n",
       "\n",
       "                       landing_page_id          origin  \n",
       "6029  b48ec5f3b04e9068441002a19df93c6c  organic_search  \n",
       "4523  f017be4dbf86243af5c1ebed0cff36a2  organic_search  \n",
       "1629  35c9b150ab36fe584c1f24fd458c453a     paid_search  \n",
       "3846  b76ef37428e6799c421989521c0e5077         unknown  \n",
       "5600  bfd05fa9f9fe2aedee539951a84f2aaf     paid_search  "
      ]
     },
     "execution_count": 172,
     "metadata": {},
     "output_type": "execute_result"
    }
   ],
   "source": [
    "#analisis preliminar del contenido\n",
    "eda_sample(df4_q_leads)"
   ]
  },
  {
   "cell_type": "code",
   "execution_count": 173,
   "metadata": {},
   "outputs": [
    {
     "name": "stdout",
     "output_type": "stream",
     "text": [
      "Todos los valores de mql_id tienen longitud de 32 caracteres\n",
      "Todos los valores de landing_page_id tienen longitud de 32 caracteres\n"
     ]
    }
   ],
   "source": [
    "homogeneidad_id(df4_q_leads)"
   ]
  },
  {
   "cell_type": "code",
   "execution_count": 174,
   "metadata": {},
   "outputs": [
    {
     "data": {
      "text/plain": [
       "organic_search       29.0\n",
       "paid_search          20.0\n",
       "social               17.0\n",
       "unknown              14.0\n",
       "direct_traffic        6.0\n",
       "email                 6.0\n",
       "referral              4.0\n",
       "other                 2.0\n",
       "display               1.0\n",
       "other_publicities     1.0\n",
       "Name: origin, dtype: float64"
      ]
     },
     "execution_count": 174,
     "metadata": {},
     "output_type": "execute_result"
    }
   ],
   "source": [
    "#se muestra la representatividad de los datos de la columna, en % \n",
    "count_val_procentaje(df4_q_leads,'origin')"
   ]
  },
  {
   "attachments": {},
   "cell_type": "markdown",
   "metadata": {},
   "source": [
    "### Conclusiones_ TABLA 4: \n",
    "\n",
    " -  Si bien hay 60 valores nulos en la columna de origen, solo representa el 0,2% de los valores y proporciona información fundamental de cuando fue el primer contacto y cual fue el origien de este. \n",
    " - tabla de dimensiones contiene información de los potenciales clientes "
   ]
  },
  {
   "attachments": {},
   "cell_type": "markdown",
   "metadata": {},
   "source": [
    "_______________________"
   ]
  },
  {
   "attachments": {},
   "cell_type": "markdown",
   "metadata": {},
   "source": [
    "## TABLA 5_ Información de los items de las ordenes (order_items)"
   ]
  },
  {
   "cell_type": "code",
   "execution_count": 175,
   "metadata": {},
   "outputs": [
    {
     "name": "stdout",
     "output_type": "stream",
     "text": [
      "<class 'pandas.core.frame.DataFrame'>\n",
      "RangeIndex: 112650 entries, 0 to 112649\n",
      "Data columns (total 7 columns):\n",
      " #   Column               Non-Null Count   Dtype  \n",
      "---  ------               --------------   -----  \n",
      " 0   order_id             112650 non-null  object \n",
      " 1   order_item_id        112650 non-null  int64  \n",
      " 2   product_id           112650 non-null  object \n",
      " 3   seller_id            112650 non-null  object \n",
      " 4   shipping_limit_date  112650 non-null  object \n",
      " 5   price                112650 non-null  float64\n",
      " 6   freight_value        112650 non-null  float64\n",
      "dtypes: float64(2), int64(1), object(4)\n",
      "memory usage: 6.0+ MB\n"
     ]
    },
    {
     "data": {
      "text/plain": [
       "'No hay duplicados'"
      ]
     },
     "execution_count": 175,
     "metadata": {},
     "output_type": "execute_result"
    }
   ],
   "source": [
    "#información general y miramos si hay duplicados y cuantos \n",
    "eda_general(df5_order_items)\n",
    "eda_duplicados(df5_order_items)"
   ]
  },
  {
   "cell_type": "code",
   "execution_count": 176,
   "metadata": {},
   "outputs": [
    {
     "data": {
      "text/html": [
       "<div>\n",
       "<style scoped>\n",
       "    .dataframe tbody tr th:only-of-type {\n",
       "        vertical-align: middle;\n",
       "    }\n",
       "\n",
       "    .dataframe tbody tr th {\n",
       "        vertical-align: top;\n",
       "    }\n",
       "\n",
       "    .dataframe thead th {\n",
       "        text-align: right;\n",
       "    }\n",
       "</style>\n",
       "<table border=\"1\" class=\"dataframe\">\n",
       "  <thead>\n",
       "    <tr style=\"text-align: right;\">\n",
       "      <th></th>\n",
       "      <th>order_id</th>\n",
       "      <th>order_item_id</th>\n",
       "      <th>product_id</th>\n",
       "      <th>seller_id</th>\n",
       "      <th>shipping_limit_date</th>\n",
       "      <th>price</th>\n",
       "      <th>freight_value</th>\n",
       "    </tr>\n",
       "  </thead>\n",
       "  <tbody>\n",
       "    <tr>\n",
       "      <th>85551</th>\n",
       "      <td>c2569709e6223a9854bd1eab69c150c2</td>\n",
       "      <td>1</td>\n",
       "      <td>386eebb43722ab502f04f7900bd2451b</td>\n",
       "      <td>94144541854e298c2d976cb893b81343</td>\n",
       "      <td>2017-09-19 02:24:18</td>\n",
       "      <td>59.9</td>\n",
       "      <td>15.86</td>\n",
       "    </tr>\n",
       "    <tr>\n",
       "      <th>22014</th>\n",
       "      <td>32480f4d114e9973ef4fbd57631274f9</td>\n",
       "      <td>1</td>\n",
       "      <td>5d66715cc928aadd0074f61332698593</td>\n",
       "      <td>128639473a139ac0f3e5f5ade55873a5</td>\n",
       "      <td>2018-02-12 10:15:27</td>\n",
       "      <td>19.9</td>\n",
       "      <td>34.15</td>\n",
       "    </tr>\n",
       "    <tr>\n",
       "      <th>48127</th>\n",
       "      <td>6d5e087df6cf3e6440c325e21c9a1c7c</td>\n",
       "      <td>1</td>\n",
       "      <td>aca2eb7d00ea1a7b8ebd4e68314663af</td>\n",
       "      <td>955fee9216a65b617aa5c0531780ce60</td>\n",
       "      <td>2018-05-28 15:55:26</td>\n",
       "      <td>69.9</td>\n",
       "      <td>0.00</td>\n",
       "    </tr>\n",
       "    <tr>\n",
       "      <th>19830</th>\n",
       "      <td>2d82dd44bd4ea2cb852068142568d5ce</td>\n",
       "      <td>1</td>\n",
       "      <td>521a361808bedd9fffb32181e501e09b</td>\n",
       "      <td>5b179e9e8cc7ab6fd113a46ca584da81</td>\n",
       "      <td>2017-07-13 10:10:22</td>\n",
       "      <td>149.9</td>\n",
       "      <td>18.30</td>\n",
       "    </tr>\n",
       "    <tr>\n",
       "      <th>48255</th>\n",
       "      <td>6db0c63234f0e11e06c202b613a62f41</td>\n",
       "      <td>1</td>\n",
       "      <td>e9b2560544c293e02f2b966041e10f24</td>\n",
       "      <td>8e2b3afb420011ef0c88c9d5f11ea526</td>\n",
       "      <td>2018-02-04 22:13:19</td>\n",
       "      <td>144.9</td>\n",
       "      <td>12.22</td>\n",
       "    </tr>\n",
       "  </tbody>\n",
       "</table>\n",
       "</div>"
      ],
      "text/plain": [
       "                               order_id  order_item_id  \\\n",
       "85551  c2569709e6223a9854bd1eab69c150c2              1   \n",
       "22014  32480f4d114e9973ef4fbd57631274f9              1   \n",
       "48127  6d5e087df6cf3e6440c325e21c9a1c7c              1   \n",
       "19830  2d82dd44bd4ea2cb852068142568d5ce              1   \n",
       "48255  6db0c63234f0e11e06c202b613a62f41              1   \n",
       "\n",
       "                             product_id                         seller_id  \\\n",
       "85551  386eebb43722ab502f04f7900bd2451b  94144541854e298c2d976cb893b81343   \n",
       "22014  5d66715cc928aadd0074f61332698593  128639473a139ac0f3e5f5ade55873a5   \n",
       "48127  aca2eb7d00ea1a7b8ebd4e68314663af  955fee9216a65b617aa5c0531780ce60   \n",
       "19830  521a361808bedd9fffb32181e501e09b  5b179e9e8cc7ab6fd113a46ca584da81   \n",
       "48255  e9b2560544c293e02f2b966041e10f24  8e2b3afb420011ef0c88c9d5f11ea526   \n",
       "\n",
       "       shipping_limit_date  price  freight_value  \n",
       "85551  2017-09-19 02:24:18   59.9          15.86  \n",
       "22014  2018-02-12 10:15:27   19.9          34.15  \n",
       "48127  2018-05-28 15:55:26   69.9           0.00  \n",
       "19830  2017-07-13 10:10:22  149.9          18.30  \n",
       "48255  2018-02-04 22:13:19  144.9          12.22  "
      ]
     },
     "execution_count": 176,
     "metadata": {},
     "output_type": "execute_result"
    }
   ],
   "source": [
    "#analisis preliminar del contenido\n",
    "eda_sample(df5_order_items)"
   ]
  },
  {
   "cell_type": "code",
   "execution_count": 177,
   "metadata": {},
   "outputs": [
    {
     "name": "stdout",
     "output_type": "stream",
     "text": [
      "Todos los valores de order_id tienen longitud de 32 caracteres\n",
      "Todos los valores de product_id tienen longitud de 32 caracteres\n",
      "Todos los valores de seller_id tienen longitud de 32 caracteres\n"
     ]
    }
   ],
   "source": [
    "#se chequea que esten bien los datos de id en longitud y homogeneidad\n",
    "homogeneidad_id(df5_order_items)"
   ]
  },
  {
   "cell_type": "code",
   "execution_count": 178,
   "metadata": {},
   "outputs": [
    {
     "data": {
      "text/plain": [
       "<AxesSubplot:xlabel='order_item_id', ylabel='Count'>"
      ]
     },
     "execution_count": 178,
     "metadata": {},
     "output_type": "execute_result"
    },
    {
     "data": {
      "image/png": "[encoded data removed]",
      "text/plain": [
       "<Figure size 432x288 with 1 Axes>"
      ]
     },
     "metadata": {
      "needs_background": "light"
     },
     "output_type": "display_data"
    }
   ],
   "source": [
    "#nos interesó analizar la distribución de los datos para entender más de esta columna\n",
    "df5_order_items['order_item_id'].astype(int)\n",
    "sns.histplot(df5_order_items ['order_item_id'],bins=50)"
   ]
  },
  {
   "attachments": {},
   "cell_type": "markdown",
   "metadata": {},
   "source": [
    "Esta columna se interpreta como la cantidad de items por orden "
   ]
  },
  {
   "cell_type": "code",
   "execution_count": 179,
   "metadata": {},
   "outputs": [
    {
     "data": {
      "text/plain": [
       "<AxesSubplot:xlabel='price', ylabel='Count'>"
      ]
     },
     "execution_count": 179,
     "metadata": {},
     "output_type": "execute_result"
    },
    {
     "data": {
      "image/png": "[encoded data removed]",
      "text/plain": [
       "<Figure size 432x288 with 1 Axes>"
      ]
     },
     "metadata": {
      "needs_background": "light"
     },
     "output_type": "display_data"
    }
   ],
   "source": [
    "#nos interesó analizar la distribución de los precios \n",
    "sns.histplot(df5_order_items ['price'],bins=50)"
   ]
  },
  {
   "cell_type": "code",
   "execution_count": 180,
   "metadata": {},
   "outputs": [
    {
     "data": {
      "image/png": "[encoded data removed]",
      "text/plain": [
       "<Figure size 432x288 with 1 Axes>"
      ]
     },
     "metadata": {
      "needs_background": "light"
     },
     "output_type": "display_data"
    }
   ],
   "source": [
    "#graficamos la columna price para analizar si hay outliers\n",
    "grafico_boxplot(df5_order_items,'price')"
   ]
  },
  {
   "cell_type": "code",
   "execution_count": 181,
   "metadata": {},
   "outputs": [
    {
     "data": {
      "text/html": [
       "<div>\n",
       "<style scoped>\n",
       "    .dataframe tbody tr th:only-of-type {\n",
       "        vertical-align: middle;\n",
       "    }\n",
       "\n",
       "    .dataframe tbody tr th {\n",
       "        vertical-align: top;\n",
       "    }\n",
       "\n",
       "    .dataframe thead th {\n",
       "        text-align: right;\n",
       "    }\n",
       "</style>\n",
       "<table border=\"1\" class=\"dataframe\">\n",
       "  <thead>\n",
       "    <tr style=\"text-align: right;\">\n",
       "      <th></th>\n",
       "      <th>order_id</th>\n",
       "      <th>order_item_id</th>\n",
       "      <th>product_id</th>\n",
       "      <th>seller_id</th>\n",
       "      <th>shipping_limit_date</th>\n",
       "      <th>price</th>\n",
       "      <th>freight_value</th>\n",
       "    </tr>\n",
       "  </thead>\n",
       "  <tbody>\n",
       "    <tr>\n",
       "      <th>7</th>\n",
       "      <td>000576fe39319847cbb9d288c5617fa6</td>\n",
       "      <td>1</td>\n",
       "      <td>557d850972a7d6f792fd18ae1400d9b6</td>\n",
       "      <td>5996cddab893a4652a15592fb58ab8db</td>\n",
       "      <td>2018-07-10 12:30:45</td>\n",
       "      <td>810.00</td>\n",
       "      <td>70.75</td>\n",
       "    </tr>\n",
       "    <tr>\n",
       "      <th>39</th>\n",
       "      <td>0017afd5076e074a48f1f1a4c7bac9c5</td>\n",
       "      <td>1</td>\n",
       "      <td>fe59a1e006df3ac42bf0ceb876d70969</td>\n",
       "      <td>25c5c91f63607446a97b143d2d535d31</td>\n",
       "      <td>2017-04-24 22:25:19</td>\n",
       "      <td>809.10</td>\n",
       "      <td>44.29</td>\n",
       "    </tr>\n",
       "    <tr>\n",
       "      <th>322</th>\n",
       "      <td>00c9474e0334f7a4ffc8c3a8bd21a51e</td>\n",
       "      <td>1</td>\n",
       "      <td>4b2653088591de362e6ba85b4a474c75</td>\n",
       "      <td>610f72e407cdd7caaa2f8167b0163fd8</td>\n",
       "      <td>2018-05-10 15:50:46</td>\n",
       "      <td>1050.61</td>\n",
       "      <td>25.13</td>\n",
       "    </tr>\n",
       "    <tr>\n",
       "      <th>344</th>\n",
       "      <td>00d2559e61b9a0744a0552c35c5ecccb</td>\n",
       "      <td>1</td>\n",
       "      <td>44fc450365728c413fefc547592626be</td>\n",
       "      <td>b839e41795b7f3ad94cc2014a52f6796</td>\n",
       "      <td>2018-06-13 12:57:03</td>\n",
       "      <td>849.00</td>\n",
       "      <td>23.52</td>\n",
       "    </tr>\n",
       "    <tr>\n",
       "      <th>475</th>\n",
       "      <td>011a43bc9bb525517251ebb3ebc99b69</td>\n",
       "      <td>1</td>\n",
       "      <td>ca7966fa77959536468be3c6ce1f19e1</td>\n",
       "      <td>610f72e407cdd7caaa2f8167b0163fd8</td>\n",
       "      <td>2018-05-03 18:09:38</td>\n",
       "      <td>899.00</td>\n",
       "      <td>21.20</td>\n",
       "    </tr>\n",
       "    <tr>\n",
       "      <th>...</th>\n",
       "      <td>...</td>\n",
       "      <td>...</td>\n",
       "      <td>...</td>\n",
       "      <td>...</td>\n",
       "      <td>...</td>\n",
       "      <td>...</td>\n",
       "      <td>...</td>\n",
       "    </tr>\n",
       "    <tr>\n",
       "      <th>112324</th>\n",
       "      <td>ff2d25d8b1b734099dee10e90e23a2ab</td>\n",
       "      <td>1</td>\n",
       "      <td>98fe8fcab3c57495e05a61bf5946f2a0</td>\n",
       "      <td>b2ac621f0d0322434d04a12b078b9369</td>\n",
       "      <td>2017-10-17 12:56:16</td>\n",
       "      <td>935.00</td>\n",
       "      <td>31.58</td>\n",
       "    </tr>\n",
       "    <tr>\n",
       "      <th>112343</th>\n",
       "      <td>ff36cbc44b8f228e0449c92ef089c843</td>\n",
       "      <td>1</td>\n",
       "      <td>43944a8f8f0b7ae86b6c3d3c2f257375</td>\n",
       "      <td>0adac9fbd9a2b63cccaac4f8756c1ca8</td>\n",
       "      <td>2017-11-30 20:51:36</td>\n",
       "      <td>699.00</td>\n",
       "      <td>57.49</td>\n",
       "    </tr>\n",
       "    <tr>\n",
       "      <th>112449</th>\n",
       "      <td>ff85c3e4329457e83cb474799a257ccc</td>\n",
       "      <td>1</td>\n",
       "      <td>144266e1585320d057797a369596bb8b</td>\n",
       "      <td>850f4f8af5ea87287ac68de36e29107f</td>\n",
       "      <td>2018-01-24 16:57:45</td>\n",
       "      <td>899.00</td>\n",
       "      <td>17.50</td>\n",
       "    </tr>\n",
       "    <tr>\n",
       "      <th>112557</th>\n",
       "      <td>ffc49b9c9d666410e9ecdb0a3efadb9c</td>\n",
       "      <td>1</td>\n",
       "      <td>f96ff9b997681965689f78bef092fdd9</td>\n",
       "      <td>2a5b78b41cd05baeac8df54c6606b92c</td>\n",
       "      <td>2018-06-05 19:56:23</td>\n",
       "      <td>765.00</td>\n",
       "      <td>27.06</td>\n",
       "    </tr>\n",
       "    <tr>\n",
       "      <th>112632</th>\n",
       "      <td>fff7c4452f050315db1b3f24d9df5fcd</td>\n",
       "      <td>1</td>\n",
       "      <td>dd469c03ad67e201bc2179ef077dcd48</td>\n",
       "      <td>7e93a43ef30c4f03f38b393420bc753a</td>\n",
       "      <td>2017-06-07 17:05:23</td>\n",
       "      <td>736.00</td>\n",
       "      <td>20.91</td>\n",
       "    </tr>\n",
       "  </tbody>\n",
       "</table>\n",
       "<p>1966 rows × 7 columns</p>\n",
       "</div>"
      ],
      "text/plain": [
       "                                order_id  order_item_id  \\\n",
       "7       000576fe39319847cbb9d288c5617fa6              1   \n",
       "39      0017afd5076e074a48f1f1a4c7bac9c5              1   \n",
       "322     00c9474e0334f7a4ffc8c3a8bd21a51e              1   \n",
       "344     00d2559e61b9a0744a0552c35c5ecccb              1   \n",
       "475     011a43bc9bb525517251ebb3ebc99b69              1   \n",
       "...                                  ...            ...   \n",
       "112324  ff2d25d8b1b734099dee10e90e23a2ab              1   \n",
       "112343  ff36cbc44b8f228e0449c92ef089c843              1   \n",
       "112449  ff85c3e4329457e83cb474799a257ccc              1   \n",
       "112557  ffc49b9c9d666410e9ecdb0a3efadb9c              1   \n",
       "112632  fff7c4452f050315db1b3f24d9df5fcd              1   \n",
       "\n",
       "                              product_id                         seller_id  \\\n",
       "7       557d850972a7d6f792fd18ae1400d9b6  5996cddab893a4652a15592fb58ab8db   \n",
       "39      fe59a1e006df3ac42bf0ceb876d70969  25c5c91f63607446a97b143d2d535d31   \n",
       "322     4b2653088591de362e6ba85b4a474c75  610f72e407cdd7caaa2f8167b0163fd8   \n",
       "344     44fc450365728c413fefc547592626be  b839e41795b7f3ad94cc2014a52f6796   \n",
       "475     ca7966fa77959536468be3c6ce1f19e1  610f72e407cdd7caaa2f8167b0163fd8   \n",
       "...                                  ...                               ...   \n",
       "112324  98fe8fcab3c57495e05a61bf5946f2a0  b2ac621f0d0322434d04a12b078b9369   \n",
       "112343  43944a8f8f0b7ae86b6c3d3c2f257375  0adac9fbd9a2b63cccaac4f8756c1ca8   \n",
       "112449  144266e1585320d057797a369596bb8b  850f4f8af5ea87287ac68de36e29107f   \n",
       "112557  f96ff9b997681965689f78bef092fdd9  2a5b78b41cd05baeac8df54c6606b92c   \n",
       "112632  dd469c03ad67e201bc2179ef077dcd48  7e93a43ef30c4f03f38b393420bc753a   \n",
       "\n",
       "        shipping_limit_date    price  freight_value  \n",
       "7       2018-07-10 12:30:45   810.00          70.75  \n",
       "39      2017-04-24 22:25:19   809.10          44.29  \n",
       "322     2018-05-10 15:50:46  1050.61          25.13  \n",
       "344     2018-06-13 12:57:03   849.00          23.52  \n",
       "475     2018-05-03 18:09:38   899.00          21.20  \n",
       "...                     ...      ...            ...  \n",
       "112324  2017-10-17 12:56:16   935.00          31.58  \n",
       "112343  2017-11-30 20:51:36   699.00          57.49  \n",
       "112449  2018-01-24 16:57:45   899.00          17.50  \n",
       "112557  2018-06-05 19:56:23   765.00          27.06  \n",
       "112632  2017-06-07 17:05:23   736.00          20.91  \n",
       "\n",
       "[1966 rows x 7 columns]"
      ]
     },
     "execution_count": 181,
     "metadata": {},
     "output_type": "execute_result"
    }
   ],
   "source": [
    "#extraemos los outliers para analizarlos en profundidad, y contarlos\n",
    "eda_outliers(df5_order_items,'price')"
   ]
  },
  {
   "cell_type": "code",
   "execution_count": 182,
   "metadata": {},
   "outputs": [
    {
     "data": {
      "image/png": "[encoded data removed]",
      "text/plain": [
       "<Figure size 432x288 with 1 Axes>"
      ]
     },
     "metadata": {
      "needs_background": "light"
     },
     "output_type": "display_data"
    }
   ],
   "source": [
    "#graficamos la distribución de los outliers\n",
    "histograma_outliers(df5_order_items,'price')"
   ]
  },
  {
   "cell_type": "code",
   "execution_count": 183,
   "metadata": {},
   "outputs": [
    {
     "data": {
      "text/plain": [
       "59.90      2.0\n",
       "69.90      2.0\n",
       "49.90      2.0\n",
       "89.90      1.0\n",
       "99.90      1.0\n",
       "          ... \n",
       "1369.90    0.0\n",
       "108.24     0.0\n",
       "1224.99    0.0\n",
       "24.52      0.0\n",
       "736.00     0.0\n",
       "Name: price, Length: 5968, dtype: float64"
      ]
     },
     "execution_count": 183,
     "metadata": {},
     "output_type": "execute_result"
    }
   ],
   "source": [
    "#aparentemente habría muchos datos con valores muy bajos, \n",
    "# por eso: analizamos los % de datos unicos\n",
    "count_val_procentaje(df5_order_items,'price')"
   ]
  },
  {
   "cell_type": "code",
   "execution_count": 184,
   "metadata": {},
   "outputs": [
    {
     "data": {
      "text/plain": [
       "<AxesSubplot:xlabel='freight_value', ylabel='Count'>"
      ]
     },
     "execution_count": 184,
     "metadata": {},
     "output_type": "execute_result"
    },
    {
     "data": {
      "image/png": "[encoded data removed]",
      "text/plain": [
       "<Figure size 432x288 with 1 Axes>"
      ]
     },
     "metadata": {
      "needs_background": "light"
     },
     "output_type": "display_data"
    }
   ],
   "source": [
    "#nos interesó analizar la distribución de los costos de transporte\n",
    "sns.histplot(df5_order_items ['freight_value'],bins=50)"
   ]
  },
  {
   "cell_type": "code",
   "execution_count": 185,
   "metadata": {},
   "outputs": [
    {
     "data": {
      "text/plain": [
       "15.10    3.0\n",
       "7.78     2.0\n",
       "14.10    2.0\n",
       "11.85    2.0\n",
       "18.23    1.0\n",
       "        ... \n",
       "57.83    0.0\n",
       "80.47    0.0\n",
       "70.92    0.0\n",
       "42.85    0.0\n",
       "6.37     0.0\n",
       "Name: freight_value, Length: 6999, dtype: float64"
      ]
     },
     "execution_count": 185,
     "metadata": {},
     "output_type": "execute_result"
    }
   ],
   "source": [
    "# y la distribución % de los valores \n",
    "count_val_procentaje(df5_order_items,'freight_value')"
   ]
  },
  {
   "cell_type": "code",
   "execution_count": 186,
   "metadata": {},
   "outputs": [
    {
     "data": {
      "image/png": "[encoded data removed]",
      "text/plain": [
       "<Figure size 432x288 with 1 Axes>"
      ]
     },
     "metadata": {
      "needs_background": "light"
     },
     "output_type": "display_data"
    }
   ],
   "source": [
    "#graficamos la columna price para analizar si hay outliers\n",
    "grafico_boxplot(df5_order_items,'freight_value')"
   ]
  },
  {
   "cell_type": "code",
   "execution_count": 187,
   "metadata": {},
   "outputs": [
    {
     "data": {
      "text/html": [
       "<div>\n",
       "<style scoped>\n",
       "    .dataframe tbody tr th:only-of-type {\n",
       "        vertical-align: middle;\n",
       "    }\n",
       "\n",
       "    .dataframe tbody tr th {\n",
       "        vertical-align: top;\n",
       "    }\n",
       "\n",
       "    .dataframe thead th {\n",
       "        text-align: right;\n",
       "    }\n",
       "</style>\n",
       "<table border=\"1\" class=\"dataframe\">\n",
       "  <thead>\n",
       "    <tr style=\"text-align: right;\">\n",
       "      <th></th>\n",
       "      <th>order_id</th>\n",
       "      <th>order_item_id</th>\n",
       "      <th>product_id</th>\n",
       "      <th>seller_id</th>\n",
       "      <th>shipping_limit_date</th>\n",
       "      <th>price</th>\n",
       "      <th>freight_value</th>\n",
       "    </tr>\n",
       "  </thead>\n",
       "  <tbody>\n",
       "    <tr>\n",
       "      <th>7</th>\n",
       "      <td>000576fe39319847cbb9d288c5617fa6</td>\n",
       "      <td>1</td>\n",
       "      <td>557d850972a7d6f792fd18ae1400d9b6</td>\n",
       "      <td>5996cddab893a4652a15592fb58ab8db</td>\n",
       "      <td>2018-07-10 12:30:45</td>\n",
       "      <td>810.00</td>\n",
       "      <td>70.75</td>\n",
       "    </tr>\n",
       "    <tr>\n",
       "      <th>124</th>\n",
       "      <td>00471463a6106056c1a2a809f70de640</td>\n",
       "      <td>1</td>\n",
       "      <td>9df0e8a7eef2a38b74e6d5c0e224b11f</td>\n",
       "      <td>7c67e1448b00f6e969d365cea6b010ab</td>\n",
       "      <td>2017-10-03 22:46:14</td>\n",
       "      <td>179.99</td>\n",
       "      <td>85.97</td>\n",
       "    </tr>\n",
       "    <tr>\n",
       "      <th>162</th>\n",
       "      <td>0066a1fdaee16ad5022c5ef979d0b661</td>\n",
       "      <td>1</td>\n",
       "      <td>2fb0efd1f61f186ffdda9e8ec70f27f2</td>\n",
       "      <td>1d8dbc4f32378d715c717c1c1fc57bae</td>\n",
       "      <td>2018-06-14 20:17:26</td>\n",
       "      <td>139.00</td>\n",
       "      <td>87.28</td>\n",
       "    </tr>\n",
       "    <tr>\n",
       "      <th>186</th>\n",
       "      <td>0078a358a14592b887eb140ef515f5ab</td>\n",
       "      <td>1</td>\n",
       "      <td>722f84416177a451c3be217ef8ffa082</td>\n",
       "      <td>cca3071e3e9bb7d12640c9fbe2301306</td>\n",
       "      <td>2017-11-10 15:55:43</td>\n",
       "      <td>253.52</td>\n",
       "      <td>82.86</td>\n",
       "    </tr>\n",
       "    <tr>\n",
       "      <th>313</th>\n",
       "      <td>00c47fefb9a49baec12ab3654d7f548e</td>\n",
       "      <td>1</td>\n",
       "      <td>f196248e8b5d060cca414a664ea9a76f</td>\n",
       "      <td>91f0eec23d4a61d7d7caeefa3f0ad1ca</td>\n",
       "      <td>2017-12-13 00:18:33</td>\n",
       "      <td>199.00</td>\n",
       "      <td>67.69</td>\n",
       "    </tr>\n",
       "    <tr>\n",
       "      <th>...</th>\n",
       "      <td>...</td>\n",
       "      <td>...</td>\n",
       "      <td>...</td>\n",
       "      <td>...</td>\n",
       "      <td>...</td>\n",
       "      <td>...</td>\n",
       "      <td>...</td>\n",
       "    </tr>\n",
       "    <tr>\n",
       "      <th>112083</th>\n",
       "      <td>fe9fc8eb3ad784aaf13c6788561efe59</td>\n",
       "      <td>1</td>\n",
       "      <td>9041a4cde4a900bc259d3b1b6847f6b1</td>\n",
       "      <td>1025f0e2d44d7041d6cf58b6550e0bfa</td>\n",
       "      <td>2018-08-17 12:44:26</td>\n",
       "      <td>120.00</td>\n",
       "      <td>74.79</td>\n",
       "    </tr>\n",
       "    <tr>\n",
       "      <th>112233</th>\n",
       "      <td>fefacc66af859508bf1a7934eab1e97f</td>\n",
       "      <td>1</td>\n",
       "      <td>69c590f7ffc7bf8db97190b6cb6ed62e</td>\n",
       "      <td>80ceebb4ee9b31afb6c6a916a574a1e2</td>\n",
       "      <td>2018-08-02 04:05:13</td>\n",
       "      <td>6729.00</td>\n",
       "      <td>193.21</td>\n",
       "    </tr>\n",
       "    <tr>\n",
       "      <th>112359</th>\n",
       "      <td>ff3e501f56dcf0752578d86df833558f</td>\n",
       "      <td>1</td>\n",
       "      <td>608af629c5b520efe1caf06e1cfc4abc</td>\n",
       "      <td>5dceca129747e92ff8ef7a997dc4f8ca</td>\n",
       "      <td>2017-10-27 21:14:33</td>\n",
       "      <td>299.90</td>\n",
       "      <td>170.11</td>\n",
       "    </tr>\n",
       "    <tr>\n",
       "      <th>112450</th>\n",
       "      <td>ff85f6534f8a6b89e27a340dcf86ecac</td>\n",
       "      <td>1</td>\n",
       "      <td>e7f85e7f0203b7b95cc1b4c21b4b070c</td>\n",
       "      <td>ceaec5548eefc6e23e6607c5435102e7</td>\n",
       "      <td>2018-05-14 16:38:18</td>\n",
       "      <td>259.99</td>\n",
       "      <td>84.52</td>\n",
       "    </tr>\n",
       "    <tr>\n",
       "      <th>112472</th>\n",
       "      <td>ff96d596c25445650eee60b94fa62244</td>\n",
       "      <td>1</td>\n",
       "      <td>f7b30f48c235d715e00822023d8a4dce</td>\n",
       "      <td>7238a95bb63ef7e498389fb863b834a1</td>\n",
       "      <td>2018-05-04 13:50:07</td>\n",
       "      <td>329.00</td>\n",
       "      <td>127.55</td>\n",
       "    </tr>\n",
       "  </tbody>\n",
       "</table>\n",
       "<p>2041 rows × 7 columns</p>\n",
       "</div>"
      ],
      "text/plain": [
       "                                order_id  order_item_id  \\\n",
       "7       000576fe39319847cbb9d288c5617fa6              1   \n",
       "124     00471463a6106056c1a2a809f70de640              1   \n",
       "162     0066a1fdaee16ad5022c5ef979d0b661              1   \n",
       "186     0078a358a14592b887eb140ef515f5ab              1   \n",
       "313     00c47fefb9a49baec12ab3654d7f548e              1   \n",
       "...                                  ...            ...   \n",
       "112083  fe9fc8eb3ad784aaf13c6788561efe59              1   \n",
       "112233  fefacc66af859508bf1a7934eab1e97f              1   \n",
       "112359  ff3e501f56dcf0752578d86df833558f              1   \n",
       "112450  ff85f6534f8a6b89e27a340dcf86ecac              1   \n",
       "112472  ff96d596c25445650eee60b94fa62244              1   \n",
       "\n",
       "                              product_id                         seller_id  \\\n",
       "7       557d850972a7d6f792fd18ae1400d9b6  5996cddab893a4652a15592fb58ab8db   \n",
       "124     9df0e8a7eef2a38b74e6d5c0e224b11f  7c67e1448b00f6e969d365cea6b010ab   \n",
       "162     2fb0efd1f61f186ffdda9e8ec70f27f2  1d8dbc4f32378d715c717c1c1fc57bae   \n",
       "186     722f84416177a451c3be217ef8ffa082  cca3071e3e9bb7d12640c9fbe2301306   \n",
       "313     f196248e8b5d060cca414a664ea9a76f  91f0eec23d4a61d7d7caeefa3f0ad1ca   \n",
       "...                                  ...                               ...   \n",
       "112083  9041a4cde4a900bc259d3b1b6847f6b1  1025f0e2d44d7041d6cf58b6550e0bfa   \n",
       "112233  69c590f7ffc7bf8db97190b6cb6ed62e  80ceebb4ee9b31afb6c6a916a574a1e2   \n",
       "112359  608af629c5b520efe1caf06e1cfc4abc  5dceca129747e92ff8ef7a997dc4f8ca   \n",
       "112450  e7f85e7f0203b7b95cc1b4c21b4b070c  ceaec5548eefc6e23e6607c5435102e7   \n",
       "112472  f7b30f48c235d715e00822023d8a4dce  7238a95bb63ef7e498389fb863b834a1   \n",
       "\n",
       "        shipping_limit_date    price  freight_value  \n",
       "7       2018-07-10 12:30:45   810.00          70.75  \n",
       "124     2017-10-03 22:46:14   179.99          85.97  \n",
       "162     2018-06-14 20:17:26   139.00          87.28  \n",
       "186     2017-11-10 15:55:43   253.52          82.86  \n",
       "313     2017-12-13 00:18:33   199.00          67.69  \n",
       "...                     ...      ...            ...  \n",
       "112083  2018-08-17 12:44:26   120.00          74.79  \n",
       "112233  2018-08-02 04:05:13  6729.00         193.21  \n",
       "112359  2017-10-27 21:14:33   299.90         170.11  \n",
       "112450  2018-05-14 16:38:18   259.99          84.52  \n",
       "112472  2018-05-04 13:50:07   329.00         127.55  \n",
       "\n",
       "[2041 rows x 7 columns]"
      ]
     },
     "execution_count": 187,
     "metadata": {},
     "output_type": "execute_result"
    }
   ],
   "source": [
    "#extraemos los outliers para analizarlos en profundidad, y contarlos\n",
    "eda_outliers(df5_order_items,'freight_value')"
   ]
  },
  {
   "cell_type": "code",
   "execution_count": 188,
   "metadata": {},
   "outputs": [
    {
     "data": {
      "text/plain": [
       "'el % de outliers de la columna freight_value es de: 2%'"
      ]
     },
     "execution_count": 188,
     "metadata": {},
     "output_type": "execute_result"
    }
   ],
   "source": [
    "porcentaje_outliers(df5_order_items,'freight_value')"
   ]
  },
  {
   "cell_type": "code",
   "execution_count": 189,
   "metadata": {},
   "outputs": [
    {
     "data": {
      "image/png": "[encoded data removed]",
      "text/plain": [
       "<Figure size 432x288 with 1 Axes>"
      ]
     },
     "metadata": {
      "needs_background": "light"
     },
     "output_type": "display_data"
    }
   ],
   "source": [
    "#graficamos la distribución de los outliers\n",
    "histograma_outliers(df5_order_items,'freight_value')"
   ]
  },
  {
   "attachments": {},
   "cell_type": "markdown",
   "metadata": {},
   "source": [
    "### Conclusiones_ TABLA 5: \n",
    "\n",
    " - Esta es una tabla MUY util porque vincula los id de producto , orden y vendedor con el costo de envío y el costo de transporte. \n",
    " - Es una columna de dimensión "
   ]
  },
  {
   "attachments": {},
   "cell_type": "markdown",
   "metadata": {},
   "source": [
    "_____________"
   ]
  },
  {
   "attachments": {},
   "cell_type": "markdown",
   "metadata": {},
   "source": [
    "## TABLA 6_ Información de pago de las ordenes (order_payments)"
   ]
  },
  {
   "cell_type": "code",
   "execution_count": 190,
   "metadata": {},
   "outputs": [
    {
     "name": "stdout",
     "output_type": "stream",
     "text": [
      "<class 'pandas.core.frame.DataFrame'>\n",
      "RangeIndex: 103886 entries, 0 to 103885\n",
      "Data columns (total 5 columns):\n",
      " #   Column                Non-Null Count   Dtype  \n",
      "---  ------                --------------   -----  \n",
      " 0   order_id              103886 non-null  object \n",
      " 1   payment_sequential    103886 non-null  int64  \n",
      " 2   payment_type          103886 non-null  object \n",
      " 3   payment_installments  103886 non-null  int64  \n",
      " 4   payment_value         103886 non-null  float64\n",
      "dtypes: float64(1), int64(2), object(2)\n",
      "memory usage: 4.0+ MB\n"
     ]
    },
    {
     "data": {
      "text/plain": [
       "(None,)"
      ]
     },
     "execution_count": 190,
     "metadata": {},
     "output_type": "execute_result"
    }
   ],
   "source": [
    "#información general \n",
    "eda_general(df6_order_payments)"
   ]
  },
  {
   "cell_type": "code",
   "execution_count": 191,
   "metadata": {},
   "outputs": [
    {
     "data": {
      "text/plain": [
       "order_id                0\n",
       "payment_sequential      0\n",
       "payment_type            0\n",
       "payment_installments    0\n",
       "payment_value           0\n",
       "dtype: int64"
      ]
     },
     "execution_count": 191,
     "metadata": {},
     "output_type": "execute_result"
    }
   ],
   "source": [
    "# Se revisan nulos\n",
    "df6_order_payments.isnull().sum()"
   ]
  },
  {
   "cell_type": "code",
   "execution_count": 192,
   "metadata": {},
   "outputs": [
    {
     "name": "stdout",
     "output_type": "stream",
     "text": [
      " - La columna order_id tiene los siguientes datos ['b81ef226f3fe1789b1e8b2acac839d17' 'a9810da82917af2d9aefd1278f1dcfa0'\n",
      " '25e8ea4e93396b6fa0d3dd708e76c1bd' ... '32609bbb3dd69b3c066a6860554a77bf'\n",
      " 'b8b61059626efa996a60be9bb9320e10' '28bbae6599b09d39ca406b747b6632b1'] \n",
      "\n",
      " - La columna payment_sequential tiene los siguientes datos [ 1  2  4  5  3  8  6  7 10 11 17 19 27 12  9 15 13 14 16 25 22 26 29 28\n",
      " 18 21 24 23 20] \n",
      "\n",
      " - La columna payment_type tiene los siguientes datos ['credit_card' 'boleto' 'voucher' 'debit_card' 'not_defined'] \n",
      "\n",
      " - La columna payment_installments tiene los siguientes datos [ 8  1  2  3  6  5  4 10  7 12  9 13 15 24 11 18 14 20 21 17 22  0 16 23] \n",
      "\n",
      " - La columna payment_value tiene los siguientes datos [ 99.33  24.39  65.71 ... 205.71 100.55 363.31] \n",
      "\n"
     ]
    }
   ],
   "source": [
    "#Se ven a simple vista alguns valores únicos para detectar anomalías\n",
    "eda_unicos_all(df6_order_payments)"
   ]
  },
  {
   "cell_type": "code",
   "execution_count": 193,
   "metadata": {},
   "outputs": [
    {
     "data": {
      "image/png": "[encoded data removed]",
      "text/plain": [
       "<Figure size 432x288 with 1 Axes>"
      ]
     },
     "metadata": {
      "needs_background": "light"
     },
     "output_type": "display_data"
    }
   ],
   "source": [
    "plt2.hist(df6_order_payments.payment_sequential)\n",
    "plt2.show()"
   ]
  },
  {
   "cell_type": "code",
   "execution_count": 194,
   "metadata": {},
   "outputs": [
    {
     "name": "stdout",
     "output_type": "stream",
     "text": [
      "La columna order_id tiene: 4446 valores duplicados, de un total de 103886 datos\n",
      "La columna payment_sequential tiene: 103857 valores duplicados, de un total de 103886 datos\n",
      "La columna payment_type tiene: 103881 valores duplicados, de un total de 103886 datos\n",
      "La columna payment_installments tiene: 103862 valores duplicados, de un total de 103886 datos\n",
      "La columna payment_value tiene: 74809 valores duplicados, de un total de 103886 datos\n"
     ]
    }
   ],
   "source": [
    "# Se cuentan valores únicos para saber si hay duplicados por columna\n",
    "duplicados_x_columna(df6_order_payments)"
   ]
  },
  {
   "cell_type": "code",
   "execution_count": 195,
   "metadata": {},
   "outputs": [
    {
     "data": {
      "text/plain": [
       "'No hay duplicados'"
      ]
     },
     "execution_count": 195,
     "metadata": {},
     "output_type": "execute_result"
    }
   ],
   "source": [
    "# Se cuentan valores duplicados en el total del df\n",
    "eda_duplicados(df6_order_payments)"
   ]
  },
  {
   "cell_type": "code",
   "execution_count": 196,
   "metadata": {},
   "outputs": [
    {
     "name": "stdout",
     "output_type": "stream",
     "text": [
      "Todos los valores de order_id tienen longitud de 32 caracteres\n"
     ]
    }
   ],
   "source": [
    "# Se cuentan los valores de la columna order_id que tengan un largo de 32 caracteres\n",
    "homogeneidad_id(df6_order_payments)"
   ]
  },
  {
   "cell_type": "code",
   "execution_count": 197,
   "metadata": {},
   "outputs": [
    {
     "data": {
      "text/html": [
       "<div>\n",
       "<style scoped>\n",
       "    .dataframe tbody tr th:only-of-type {\n",
       "        vertical-align: middle;\n",
       "    }\n",
       "\n",
       "    .dataframe tbody tr th {\n",
       "        vertical-align: top;\n",
       "    }\n",
       "\n",
       "    .dataframe thead th {\n",
       "        text-align: right;\n",
       "    }\n",
       "</style>\n",
       "<table border=\"1\" class=\"dataframe\">\n",
       "  <thead>\n",
       "    <tr style=\"text-align: right;\">\n",
       "      <th></th>\n",
       "      <th>order_id</th>\n",
       "      <th>payment_sequential</th>\n",
       "      <th>payment_type</th>\n",
       "      <th>payment_installments</th>\n",
       "      <th>payment_value</th>\n",
       "    </tr>\n",
       "  </thead>\n",
       "  <tbody>\n",
       "    <tr>\n",
       "      <th>63640</th>\n",
       "      <td>1790eea0b567cf50911c057cf20f90f9</td>\n",
       "      <td>1</td>\n",
       "      <td>credit_card</td>\n",
       "      <td>4</td>\n",
       "      <td>224.90</td>\n",
       "    </tr>\n",
       "    <tr>\n",
       "      <th>21338</th>\n",
       "      <td>2279e81e4cfd1c590ccbc2e0b9c1b90b</td>\n",
       "      <td>1</td>\n",
       "      <td>boleto</td>\n",
       "      <td>1</td>\n",
       "      <td>104.28</td>\n",
       "    </tr>\n",
       "    <tr>\n",
       "      <th>12474</th>\n",
       "      <td>7254b66719addb416bd46b5f01fbfa67</td>\n",
       "      <td>1</td>\n",
       "      <td>credit_card</td>\n",
       "      <td>9</td>\n",
       "      <td>98.23</td>\n",
       "    </tr>\n",
       "    <tr>\n",
       "      <th>41758</th>\n",
       "      <td>23c312ca9f0242a48a95e5643bee2645</td>\n",
       "      <td>2</td>\n",
       "      <td>voucher</td>\n",
       "      <td>1</td>\n",
       "      <td>150.00</td>\n",
       "    </tr>\n",
       "    <tr>\n",
       "      <th>86190</th>\n",
       "      <td>60c5d3b8318f48d8a751a2d510c5a88c</td>\n",
       "      <td>1</td>\n",
       "      <td>credit_card</td>\n",
       "      <td>6</td>\n",
       "      <td>110.67</td>\n",
       "    </tr>\n",
       "  </tbody>\n",
       "</table>\n",
       "</div>"
      ],
      "text/plain": [
       "                               order_id  payment_sequential payment_type  \\\n",
       "63640  1790eea0b567cf50911c057cf20f90f9                   1  credit_card   \n",
       "21338  2279e81e4cfd1c590ccbc2e0b9c1b90b                   1       boleto   \n",
       "12474  7254b66719addb416bd46b5f01fbfa67                   1  credit_card   \n",
       "41758  23c312ca9f0242a48a95e5643bee2645                   2      voucher   \n",
       "86190  60c5d3b8318f48d8a751a2d510c5a88c                   1  credit_card   \n",
       "\n",
       "       payment_installments  payment_value  \n",
       "63640                     4         224.90  \n",
       "21338                     1         104.28  \n",
       "12474                     9          98.23  \n",
       "41758                     1         150.00  \n",
       "86190                     6         110.67  "
      ]
     },
     "execution_count": 197,
     "metadata": {},
     "output_type": "execute_result"
    }
   ],
   "source": [
    "#analisis preliminar del contenido\n",
    "eda_sample(df6_order_payments)"
   ]
  },
  {
   "cell_type": "code",
   "execution_count": 198,
   "metadata": {},
   "outputs": [
    {
     "data": {
      "text/plain": [
       "<AxesSubplot:xlabel='payment_value', ylabel='Count'>"
      ]
     },
     "execution_count": 198,
     "metadata": {},
     "output_type": "execute_result"
    },
    {
     "data": {
      "image/png": "[encoded data removed]",
      "text/plain": [
       "<Figure size 432x288 with 1 Axes>"
      ]
     },
     "metadata": {
      "needs_background": "light"
     },
     "output_type": "display_data"
    }
   ],
   "source": [
    "df6_order_payments['payment_value'].astype(float)\n",
    "sns.histplot(df6_order_payments['payment_value'],bins=25)\n"
   ]
  },
  {
   "cell_type": "code",
   "execution_count": 199,
   "metadata": {},
   "outputs": [
    {
     "data": {
      "image/png": "[encoded data removed]",
      "text/plain": [
       "<Figure size 432x288 with 1 Axes>"
      ]
     },
     "metadata": {
      "needs_background": "light"
     },
     "output_type": "display_data"
    }
   ],
   "source": [
    "grafico_boxplot(df6_order_payments, 'payment_value')"
   ]
  },
  {
   "cell_type": "code",
   "execution_count": 200,
   "metadata": {},
   "outputs": [
    {
     "data": {
      "text/html": [
       "<div>\n",
       "<style scoped>\n",
       "    .dataframe tbody tr th:only-of-type {\n",
       "        vertical-align: middle;\n",
       "    }\n",
       "\n",
       "    .dataframe tbody tr th {\n",
       "        vertical-align: top;\n",
       "    }\n",
       "\n",
       "    .dataframe thead th {\n",
       "        text-align: right;\n",
       "    }\n",
       "</style>\n",
       "<table border=\"1\" class=\"dataframe\">\n",
       "  <thead>\n",
       "    <tr style=\"text-align: right;\">\n",
       "      <th></th>\n",
       "      <th>order_id</th>\n",
       "      <th>payment_sequential</th>\n",
       "      <th>payment_type</th>\n",
       "      <th>payment_installments</th>\n",
       "      <th>payment_value</th>\n",
       "    </tr>\n",
       "  </thead>\n",
       "  <tbody>\n",
       "    <tr>\n",
       "      <th>160</th>\n",
       "      <td>886b114d034f4ac1d39d964c1b2a8182</td>\n",
       "      <td>1</td>\n",
       "      <td>credit_card</td>\n",
       "      <td>10</td>\n",
       "      <td>2027.16</td>\n",
       "    </tr>\n",
       "    <tr>\n",
       "      <th>167</th>\n",
       "      <td>62d9b911d7c56cf455f660eecb8ddd3a</td>\n",
       "      <td>1</td>\n",
       "      <td>credit_card</td>\n",
       "      <td>10</td>\n",
       "      <td>1002.73</td>\n",
       "    </tr>\n",
       "    <tr>\n",
       "      <th>235</th>\n",
       "      <td>f86d7bc39aab05299691322044b63bb2</td>\n",
       "      <td>1</td>\n",
       "      <td>voucher</td>\n",
       "      <td>1</td>\n",
       "      <td>1302.42</td>\n",
       "    </tr>\n",
       "    <tr>\n",
       "      <th>247</th>\n",
       "      <td>4ff8e28200e5a7a50b448cfaaf1f8ed3</td>\n",
       "      <td>1</td>\n",
       "      <td>credit_card</td>\n",
       "      <td>10</td>\n",
       "      <td>2288.31</td>\n",
       "    </tr>\n",
       "    <tr>\n",
       "      <th>359</th>\n",
       "      <td>ce6d150fb29ada17d2082f4847107665</td>\n",
       "      <td>1</td>\n",
       "      <td>credit_card</td>\n",
       "      <td>10</td>\n",
       "      <td>1586.47</td>\n",
       "    </tr>\n",
       "    <tr>\n",
       "      <th>...</th>\n",
       "      <td>...</td>\n",
       "      <td>...</td>\n",
       "      <td>...</td>\n",
       "      <td>...</td>\n",
       "      <td>...</td>\n",
       "    </tr>\n",
       "    <tr>\n",
       "      <th>103622</th>\n",
       "      <td>b0b0d3285e59abf2f6c9d7e1bf761323</td>\n",
       "      <td>1</td>\n",
       "      <td>credit_card</td>\n",
       "      <td>10</td>\n",
       "      <td>3044.12</td>\n",
       "    </tr>\n",
       "    <tr>\n",
       "      <th>103718</th>\n",
       "      <td>fc20b8e282da6f3fbcdd3a3cedecb723</td>\n",
       "      <td>1</td>\n",
       "      <td>credit_card</td>\n",
       "      <td>10</td>\n",
       "      <td>3782.19</td>\n",
       "    </tr>\n",
       "    <tr>\n",
       "      <th>103733</th>\n",
       "      <td>fb2dccfadca8cd6ebddc5d10ae48d1f7</td>\n",
       "      <td>1</td>\n",
       "      <td>credit_card</td>\n",
       "      <td>3</td>\n",
       "      <td>1134.44</td>\n",
       "    </tr>\n",
       "    <tr>\n",
       "      <th>103783</th>\n",
       "      <td>4198c92e06d92792e49f119f659e723e</td>\n",
       "      <td>1</td>\n",
       "      <td>credit_card</td>\n",
       "      <td>10</td>\n",
       "      <td>1294.26</td>\n",
       "    </tr>\n",
       "    <tr>\n",
       "      <th>103792</th>\n",
       "      <td>0f121110b75ef7c38c79d67833c49830</td>\n",
       "      <td>1</td>\n",
       "      <td>credit_card</td>\n",
       "      <td>10</td>\n",
       "      <td>956.86</td>\n",
       "    </tr>\n",
       "  </tbody>\n",
       "</table>\n",
       "<p>1803 rows × 5 columns</p>\n",
       "</div>"
      ],
      "text/plain": [
       "                                order_id  payment_sequential payment_type  \\\n",
       "160     886b114d034f4ac1d39d964c1b2a8182                   1  credit_card   \n",
       "167     62d9b911d7c56cf455f660eecb8ddd3a                   1  credit_card   \n",
       "235     f86d7bc39aab05299691322044b63bb2                   1      voucher   \n",
       "247     4ff8e28200e5a7a50b448cfaaf1f8ed3                   1  credit_card   \n",
       "359     ce6d150fb29ada17d2082f4847107665                   1  credit_card   \n",
       "...                                  ...                 ...          ...   \n",
       "103622  b0b0d3285e59abf2f6c9d7e1bf761323                   1  credit_card   \n",
       "103718  fc20b8e282da6f3fbcdd3a3cedecb723                   1  credit_card   \n",
       "103733  fb2dccfadca8cd6ebddc5d10ae48d1f7                   1  credit_card   \n",
       "103783  4198c92e06d92792e49f119f659e723e                   1  credit_card   \n",
       "103792  0f121110b75ef7c38c79d67833c49830                   1  credit_card   \n",
       "\n",
       "        payment_installments  payment_value  \n",
       "160                       10        2027.16  \n",
       "167                       10        1002.73  \n",
       "235                        1        1302.42  \n",
       "247                       10        2288.31  \n",
       "359                       10        1586.47  \n",
       "...                      ...            ...  \n",
       "103622                    10        3044.12  \n",
       "103718                    10        3782.19  \n",
       "103733                     3        1134.44  \n",
       "103783                    10        1294.26  \n",
       "103792                    10         956.86  \n",
       "\n",
       "[1803 rows x 5 columns]"
      ]
     },
     "execution_count": 200,
     "metadata": {},
     "output_type": "execute_result"
    }
   ],
   "source": [
    "eda_outliers(df6_order_payments,'payment_value')"
   ]
  },
  {
   "cell_type": "code",
   "execution_count": 201,
   "metadata": {},
   "outputs": [
    {
     "data": {
      "text/plain": [
       "'el % de outliers de la columna price es de: 2%'"
      ]
     },
     "execution_count": 201,
     "metadata": {},
     "output_type": "execute_result"
    }
   ],
   "source": [
    "porcentaje_outliers(df5_order_items,'price')"
   ]
  },
  {
   "cell_type": "code",
   "execution_count": 202,
   "metadata": {},
   "outputs": [
    {
     "data": {
      "image/png": "[encoded data removed]",
      "text/plain": [
       "<Figure size 432x288 with 1 Axes>"
      ]
     },
     "metadata": {
      "needs_background": "light"
     },
     "output_type": "display_data"
    }
   ],
   "source": [
    "histograma_outliers(df6_order_payments,'payment_value')"
   ]
  },
  {
   "attachments": {},
   "cell_type": "markdown",
   "metadata": {},
   "source": [
    "### Conclusiones_ TABLA 6: \n",
    " \n",
    " - Tabla de dimension con los detalles del pago de tabla orders "
   ]
  },
  {
   "attachments": {},
   "cell_type": "markdown",
   "metadata": {},
   "source": [
    "____________________"
   ]
  },
  {
   "attachments": {},
   "cell_type": "markdown",
   "metadata": {},
   "source": [
    "## TABLA 7_ Feedback sobre las ordenes (order_reviews)"
   ]
  },
  {
   "cell_type": "code",
   "execution_count": 203,
   "metadata": {},
   "outputs": [
    {
     "name": "stdout",
     "output_type": "stream",
     "text": [
      "<class 'pandas.core.frame.DataFrame'>\n",
      "RangeIndex: 99224 entries, 0 to 99223\n",
      "Data columns (total 7 columns):\n",
      " #   Column                   Non-Null Count  Dtype \n",
      "---  ------                   --------------  ----- \n",
      " 0   review_id                99224 non-null  object\n",
      " 1   order_id                 99224 non-null  object\n",
      " 2   review_score             99224 non-null  int64 \n",
      " 3   review_comment_title     11568 non-null  object\n",
      " 4   review_comment_message   40977 non-null  object\n",
      " 5   review_creation_date     99224 non-null  object\n",
      " 6   review_answer_timestamp  99224 non-null  object\n",
      "dtypes: int64(1), object(6)\n",
      "memory usage: 5.3+ MB\n"
     ]
    },
    {
     "data": {
      "text/plain": [
       "(None,)"
      ]
     },
     "execution_count": 203,
     "metadata": {},
     "output_type": "execute_result"
    }
   ],
   "source": [
    "#información general y miramos si hay duplicados y cuantos \n",
    "eda_general(df7_order_reviews)\n"
   ]
  },
  {
   "attachments": {},
   "cell_type": "markdown",
   "metadata": {},
   "source": [
    "Las columnas son: \n",
    "\n",
    " - review_id: ID de la reseña.\n",
    "\n",
    " - order_id: ID de la orden asociada a la reseña.\n",
    "\n",
    " - review_score: Puntuación en estrellas (1 al 5).\n",
    "\n",
    " - review_comment_title: Título de la reseña.\n",
    "\n",
    " - review_comment_message: Reseña.\n",
    "\n",
    " - review_creation_date: Fecha de publicación de la reseña.\n",
    "\n",
    " - review_answer_timestamp: Fecha en la que se contestó a la reseña."
   ]
  },
  {
   "cell_type": "code",
   "execution_count": 204,
   "metadata": {},
   "outputs": [
    {
     "data": {
      "text/plain": [
       "review_id                      0\n",
       "order_id                       0\n",
       "review_score                   0\n",
       "review_comment_title       87656\n",
       "review_comment_message     58247\n",
       "review_creation_date           0\n",
       "review_answer_timestamp        0\n",
       "dtype: int64"
      ]
     },
     "execution_count": 204,
     "metadata": {},
     "output_type": "execute_result"
    }
   ],
   "source": [
    "#se chequea el numero de valores nulos: \n",
    "df7_order_reviews.isnull().sum()"
   ]
  },
  {
   "cell_type": "code",
   "execution_count": 205,
   "metadata": {},
   "outputs": [
    {
     "name": "stdout",
     "output_type": "stream",
     "text": [
      " - La columna review_id tiene los siguientes datos ['7bc2406110b926393aa56f80a40eba40' '80e641a11e56f04c1ad469d5645fdfde'\n",
      " '228ce5500dc1d8e020d8d1322874b6f0' ... 'b3de70c89b1510c4cd3d0649fd302472'\n",
      " '1adeb9d84d72fe4e337617733eb85149' 'efe49f1d6f951dd88b51e6ccd4cc548f'] \n",
      "\n",
      " - La columna order_id tiene los siguientes datos ['73fc7af87114b39712e6da79b0a377eb' 'a548910a1c6147796b98fdf73dbeba33'\n",
      " 'f9e4b658b201a9f2ecdecbb34bed034b' ... '55d4004744368f5571d1f590031933e4'\n",
      " '7725825d039fc1f0ceb7635e3f7d9206' '90531360ecb1eec2a1fbb265a0db0508'] \n",
      "\n",
      " - La columna review_score tiene los siguientes datos [4 5 1 3 2] \n",
      "\n",
      " - La columna review_comment_title tiene los siguientes datos [nan 'recomendo' 'Super recomendo' ... 'Não foi entregue o pedido'\n",
      " 'OTIMA EMBALAGEM' 'Foto enganosa '] \n",
      "\n",
      " - La columna review_comment_message tiene los siguientes datos [nan 'Recebi bem antes do prazo estipulado.'\n",
      " 'Parabéns lojas lannister adorei comprar pela Internet seguro e prático Parabéns a todos feliz Páscoa'\n",
      " ...\n",
      " 'O produto não foi enviado com NF, não existe venda sem NF, com certeza fico no aguardo do envio da NF podendo ser por e-mail.'\n",
      " 'Excelente mochila, entrega super rápida. Super recomendo essa loja!'\n",
      " 'meu produto chegou e ja tenho que devolver, pois está com defeito , não segurar carga'] \n",
      "\n",
      " - La columna review_creation_date tiene los siguientes datos ['2018-01-18 00:00:00' '2018-03-10 00:00:00' '2018-02-17 00:00:00'\n",
      " '2017-04-21 00:00:00' '2018-03-01 00:00:00' '2018-04-13 00:00:00'\n",
      " '2017-07-16 00:00:00' '2018-08-14 00:00:00' '2017-05-17 00:00:00'\n",
      " '2018-05-22 00:00:00' '2017-12-23 00:00:00' '2017-12-19 00:00:00'\n",
      " '2018-02-16 00:00:00' '2018-03-28 00:00:00' '2017-04-30 00:00:00'\n",
      " '2018-05-23 00:00:00' '2018-03-24 00:00:00' '2017-09-29 00:00:00'\n",
      " '2018-08-15 00:00:00' '2017-10-06 00:00:00' '2018-03-17 00:00:00'\n",
      " '2018-07-10 00:00:00' '2017-09-09 00:00:00' '2017-12-01 00:00:00'\n",
      " '2017-06-23 00:00:00' '2017-11-01 00:00:00' '2018-03-23 00:00:00'\n",
      " '2018-03-29 00:00:00' '2017-12-13 00:00:00' '2017-07-19 00:00:00'\n",
      " '2018-04-08 00:00:00' '2018-08-25 00:00:00' '2018-06-07 00:00:00'\n",
      " '2017-09-12 00:00:00' '2018-06-13 00:00:00' '2018-03-22 00:00:00'\n",
      " '2018-08-10 00:00:00' '2018-05-13 00:00:00' '2018-02-08 00:00:00'\n",
      " '2017-12-05 00:00:00' '2018-03-11 00:00:00' '2018-01-25 00:00:00'\n",
      " '2017-05-13 00:00:00' '2017-09-22 00:00:00' '2018-04-24 00:00:00'\n",
      " '2017-05-19 00:00:00' '2018-01-28 00:00:00' '2018-07-14 00:00:00'\n",
      " '2018-06-02 00:00:00' '2017-12-15 00:00:00' '2017-03-21 00:00:00'\n",
      " '2018-05-10 00:00:00' '2017-10-27 00:00:00' '2018-05-31 00:00:00'\n",
      " '2018-07-25 00:00:00' '2018-04-03 00:00:00' '2017-06-02 00:00:00'\n",
      " '2018-04-18 00:00:00' '2018-02-20 00:00:00' '2018-04-04 00:00:00'\n",
      " '2018-02-27 00:00:00' '2018-06-03 00:00:00' '2018-08-17 00:00:00'\n",
      " '2016-12-09 00:00:00' '2017-08-09 00:00:00' '2018-04-10 00:00:00'\n",
      " '2018-01-31 00:00:00' '2017-11-09 00:00:00' '2018-08-28 00:00:00'\n",
      " '2018-07-03 00:00:00' '2017-07-29 00:00:00' '2018-06-14 00:00:00'\n",
      " '2018-06-19 00:00:00' '2018-01-12 00:00:00' '2018-04-06 00:00:00'\n",
      " '2017-03-31 00:00:00' '2018-02-23 00:00:00' '2018-05-15 00:00:00'\n",
      " '2017-03-23 00:00:00' '2018-01-04 00:00:00' '2018-03-08 00:00:00'\n",
      " '2018-03-07 00:00:00' '2017-08-03 00:00:00' '2017-12-12 00:00:00'\n",
      " '2017-07-12 00:00:00' '2017-10-31 00:00:00' '2017-11-22 00:00:00'\n",
      " '2017-06-24 00:00:00' '2018-06-21 00:00:00' '2018-04-22 00:00:00'\n",
      " '2018-01-30 00:00:00' '2018-01-16 00:00:00' '2017-12-17 00:00:00'\n",
      " '2017-10-24 00:00:00' '2018-08-02 00:00:00' '2018-03-16 00:00:00'\n",
      " '2017-08-29 00:00:00' '2017-10-26 00:00:00' '2018-01-10 00:00:00'\n",
      " '2017-11-07 00:00:00' '2018-06-26 00:00:00' '2017-12-16 00:00:00'\n",
      " '2017-11-23 00:00:00' '2018-07-13 00:00:00' '2017-07-27 00:00:00'\n",
      " '2017-09-14 00:00:00' '2017-12-27 00:00:00' '2018-01-20 00:00:00'\n",
      " '2017-09-17 00:00:00' '2016-10-22 00:00:00' '2017-10-10 00:00:00'\n",
      " '2017-09-24 00:00:00' '2017-06-22 00:00:00' '2018-04-12 00:00:00'\n",
      " '2018-08-26 00:00:00' '2018-02-01 00:00:00' '2018-04-05 00:00:00'\n",
      " '2018-03-09 00:00:00' '2018-04-19 00:00:00' '2017-06-03 00:00:00'\n",
      " '2017-05-30 00:00:00' '2017-08-22 00:00:00' '2018-05-16 00:00:00'\n",
      " '2017-11-15 00:00:00' '2017-08-18 00:00:00' '2018-03-14 00:00:00'\n",
      " '2017-01-31 00:00:00' '2017-11-02 00:00:00' '2018-06-22 00:00:00'\n",
      " '2018-04-28 00:00:00' '2017-10-02 00:00:00' '2017-12-29 00:00:00'\n",
      " '2017-12-20 00:00:00' '2017-11-19 00:00:00' '2017-12-02 00:00:00'\n",
      " '2018-04-27 00:00:00' '2018-08-04 00:00:00' '2018-08-21 00:00:00'\n",
      " '2018-05-11 00:00:00' '2017-04-06 00:00:00' '2018-07-22 00:00:00'\n",
      " '2017-08-08 00:00:00' '2017-07-25 00:00:00' '2018-05-05 00:00:00'\n",
      " '2017-05-31 00:00:00' '2018-05-12 00:00:00' '2018-07-12 00:00:00'\n",
      " '2018-07-04 00:00:00' '2017-05-06 00:00:00' '2018-08-30 00:00:00'\n",
      " '2018-07-07 00:00:00' '2018-07-27 00:00:00' '2017-09-06 00:00:00'\n",
      " '2018-06-28 00:00:00' '2016-10-19 00:00:00' '2018-03-25 00:00:00'\n",
      " '2018-05-08 00:00:00' '2017-05-20 00:00:00' '2017-04-14 00:00:00'\n",
      " '2017-02-24 00:00:00' '2018-03-27 00:00:00' '2018-06-06 00:00:00'\n",
      " '2018-05-24 00:00:00' '2018-01-23 00:00:00' '2018-07-11 00:00:00'\n",
      " '2018-05-26 00:00:00' '2017-12-22 00:00:00' '2018-02-24 00:00:00'\n",
      " '2017-05-14 00:00:00' '2017-08-26 00:00:00' '2018-08-22 00:00:00'\n",
      " '2017-08-31 00:00:00' '2018-08-11 00:00:00' '2018-01-17 00:00:00'\n",
      " '2017-10-17 00:00:00' '2018-04-21 00:00:00' '2017-09-07 00:00:00'\n",
      " '2016-11-02 00:00:00' '2018-08-08 00:00:00' '2018-08-03 00:00:00'\n",
      " '2017-06-07 00:00:00' '2018-07-24 00:00:00' '2018-08-24 00:00:00'\n",
      " '2018-08-23 00:00:00' '2017-10-08 00:00:00' '2018-06-12 00:00:00'\n",
      " '2017-09-23 00:00:00' '2017-07-05 00:00:00' '2018-02-25 00:00:00'\n",
      " '2017-11-24 00:00:00' '2018-06-24 00:00:00' '2018-04-17 00:00:00'\n",
      " '2018-02-09 00:00:00' '2017-03-22 00:00:00' '2018-08-29 00:00:00'\n",
      " '2017-10-22 00:00:00' '2018-08-05 00:00:00' '2018-02-28 00:00:00'\n",
      " '2018-06-08 00:00:00' '2018-08-01 00:00:00' '2018-06-11 00:00:00'\n",
      " '2018-06-30 00:00:00' '2018-08-07 00:00:00' '2017-07-26 00:00:00'\n",
      " '2017-07-08 00:00:00' '2018-05-25 00:00:00' '2018-03-06 00:00:00'\n",
      " '2017-09-26 00:00:00' '2018-05-19 00:00:00' '2017-05-16 00:00:00'\n",
      " '2017-12-30 00:00:00' '2017-11-29 00:00:00' '2017-12-28 00:00:00'\n",
      " '2017-12-09 00:00:00' '2018-03-30 00:00:00' '2018-01-05 00:00:00'\n",
      " '2018-02-02 00:00:00' '2018-03-20 00:00:00' '2017-10-20 00:00:00'\n",
      " '2018-08-12 00:00:00' '2017-10-03 00:00:00' '2017-09-19 00:00:00'\n",
      " '2018-03-31 00:00:00' '2018-08-18 00:00:00' '2017-11-10 00:00:00'\n",
      " '2018-07-06 00:00:00' '2018-04-11 00:00:00' '2018-03-04 00:00:00'\n",
      " '2017-05-08 00:00:00' '2017-10-21 00:00:00' '2017-04-20 00:00:00'\n",
      " '2018-02-06 00:00:00' '2018-01-13 00:00:00' '2017-09-01 00:00:00'\n",
      " '2017-07-13 00:00:00' '2017-05-27 00:00:00' '2017-03-08 00:00:00'\n",
      " '2017-10-14 00:00:00' '2018-03-21 00:00:00' '2017-09-21 00:00:00'\n",
      " '2018-03-18 00:00:00' '2017-03-15 00:00:00' '2018-07-01 00:00:00'\n",
      " '2018-01-09 00:00:00' '2017-09-27 00:00:00' '2018-06-20 00:00:00'\n",
      " '2017-10-29 00:00:00' '2017-07-21 00:00:00' '2017-09-05 00:00:00'\n",
      " '2018-04-26 00:00:00' '2017-11-14 00:00:00' '2017-11-25 00:00:00'\n",
      " '2018-05-07 00:00:00' '2017-04-05 00:00:00' '2017-11-05 00:00:00'\n",
      " '2017-08-17 00:00:00' '2017-10-07 00:00:00' '2017-07-11 00:00:00'\n",
      " '2017-05-24 00:00:00' '2017-01-27 00:00:00' '2018-08-16 00:00:00'\n",
      " '2018-07-31 00:00:00' '2017-03-04 00:00:00' '2017-12-07 00:00:00'\n",
      " '2017-08-12 00:00:00' '2017-10-15 01:00:00' '2017-11-04 00:00:00'\n",
      " '2017-12-06 00:00:00' '2017-03-29 00:00:00' '2018-05-01 00:00:00'\n",
      " '2017-06-09 00:00:00' '2017-09-20 00:00:00' '2017-06-15 00:00:00'\n",
      " '2017-06-14 00:00:00' '2017-05-03 00:00:00' '2018-03-19 00:00:00'\n",
      " '2018-04-20 00:00:00' '2017-05-12 00:00:00' '2018-05-04 00:00:00'\n",
      " '2018-02-04 00:00:00' '2017-08-02 00:00:00' '2018-08-09 00:00:00'\n",
      " '2017-08-19 00:00:00' '2017-04-11 00:00:00' '2017-05-23 00:00:00'\n",
      " '2018-01-26 00:00:00' '2018-06-17 00:00:00' '2018-02-22 00:00:00'\n",
      " '2018-03-26 00:00:00' '2017-05-04 00:00:00' '2017-03-19 00:00:00'\n",
      " '2017-05-10 00:00:00' '2017-04-12 00:00:00' '2018-03-03 00:00:00'\n",
      " '2018-01-11 00:00:00' '2018-01-06 00:00:00' '2018-07-29 00:00:00'\n",
      " '2017-09-30 00:00:00' '2018-06-05 00:00:00' '2017-12-08 00:00:00'\n",
      " '2018-07-21 00:00:00' '2017-02-17 00:00:00' '2017-12-31 00:00:00'\n",
      " '2017-06-17 00:00:00' '2017-07-18 00:00:00' '2017-08-10 00:00:00'\n",
      " '2018-04-25 00:00:00' '2017-10-25 00:00:00' '2017-12-14 00:00:00'\n",
      " '2017-05-18 00:00:00' '2018-05-20 00:00:00' '2018-05-18 00:00:00'\n",
      " '2018-04-07 00:00:00' '2018-04-14 00:00:00' '2018-02-10 00:00:00'\n",
      " '2018-01-24 00:00:00' '2018-05-03 00:00:00' '2017-05-26 00:00:00'\n",
      " '2017-06-21 00:00:00' '2018-02-15 00:00:00' '2018-01-19 00:00:00'\n",
      " '2017-10-28 00:00:00' '2018-03-15 00:00:00' '2017-07-01 00:00:00'\n",
      " '2017-03-09 00:00:00' '2018-07-05 00:00:00' '2018-02-03 00:00:00'\n",
      " '2017-07-22 00:00:00' '2016-10-20 00:00:00' '2017-11-18 00:00:00'\n",
      " '2017-02-21 00:00:00' '2017-10-01 00:00:00' '2017-05-25 00:00:00'\n",
      " '2018-03-02 00:00:00' '2017-07-04 00:00:00' '2017-03-14 00:00:00'\n",
      " '2018-07-26 00:00:00' '2017-09-03 00:00:00' '2018-06-09 00:00:00'\n",
      " '2017-09-28 00:00:00' '2017-02-25 00:00:00' '2017-11-28 00:00:00'\n",
      " '2017-10-04 00:00:00' '2018-06-04 00:00:00' '2018-04-15 00:00:00'\n",
      " '2018-02-18 00:00:00' '2017-06-06 00:00:00' '2018-05-30 00:00:00'\n",
      " '2018-01-07 00:00:00' '2017-07-07 00:00:00' '2017-02-23 00:00:00'\n",
      " '2017-02-03 00:00:00' '2018-05-09 00:00:00' '2018-07-28 00:00:00'\n",
      " '2017-11-26 00:00:00' '2018-06-27 00:00:00' '2017-09-25 00:00:00'\n",
      " '2017-07-20 00:00:00' '2018-05-27 00:00:00' '2017-11-12 00:00:00'\n",
      " '2018-06-29 00:00:00' '2017-03-03 00:00:00' '2017-11-17 00:00:00'\n",
      " '2017-08-20 00:00:00' '2017-12-24 00:00:00' '2018-06-23 00:00:00'\n",
      " '2018-06-16 00:00:00' '2017-08-25 00:00:00' '2017-07-14 00:00:00'\n",
      " '2018-08-31 00:00:00' '2017-03-10 00:00:00' '2017-04-22 00:00:00'\n",
      " '2017-10-11 00:00:00' '2017-05-01 00:00:00' '2017-04-29 00:00:00'\n",
      " '2017-04-13 00:00:00' '2018-02-19 00:00:00' '2017-02-11 00:00:00'\n",
      " '2017-03-07 00:00:00' '2017-11-08 00:00:00' '2017-10-13 00:00:00'\n",
      " '2018-04-29 00:00:00' '2017-08-11 00:00:00' '2017-12-21 00:00:00'\n",
      " '2017-04-18 00:00:00' '2017-03-30 00:00:00' '2017-12-10 00:00:00'\n",
      " '2018-06-15 00:00:00' '2018-03-13 00:00:00' '2018-01-27 00:00:00'\n",
      " '2017-02-02 00:00:00' '2017-08-30 00:00:00' '2017-03-11 00:00:00'\n",
      " '2017-08-04 00:00:00' '2017-07-15 00:00:00' '2017-05-07 00:00:00'\n",
      " '2017-08-24 00:00:00' '2017-06-10 00:00:00' '2018-06-10 00:00:00'\n",
      " '2017-02-22 00:00:00' '2018-05-06 00:00:00' '2017-01-26 00:00:00'\n",
      " '2017-03-24 00:00:00' '2017-10-30 00:00:00' '2017-08-15 00:00:00'\n",
      " '2017-03-12 00:00:00' '2016-10-28 00:00:00' '2017-08-06 00:00:00'\n",
      " '2017-05-11 00:00:00' '2017-06-20 00:00:00' '2018-02-07 00:00:00'\n",
      " '2017-10-18 00:00:00' '2017-06-18 00:00:00' '2018-01-21 00:00:00'\n",
      " '2017-09-08 00:00:00' '2017-11-30 00:00:00' '2018-01-01 00:00:00'\n",
      " '2017-08-23 00:00:00' '2018-07-08 00:00:00' '2017-04-28 00:00:00'\n",
      " '2017-02-08 00:00:00' '2017-06-16 00:00:00' '2017-11-11 00:00:00'\n",
      " '2017-10-09 00:00:00' '2018-01-08 00:00:00' '2017-10-12 00:00:00'\n",
      " '2017-08-01 00:00:00' '2017-05-05 00:00:00' '2017-08-27 00:00:00'\n",
      " '2018-01-14 00:00:00' '2017-06-30 00:00:00' '2017-09-15 00:00:00'\n",
      " '2017-04-01 00:00:00' '2017-04-10 00:00:00' '2017-10-05 00:00:00'\n",
      " '2017-08-16 00:00:00' '2017-01-24 00:00:00' '2018-08-19 00:00:00'\n",
      " '2017-04-04 00:00:00' '2017-06-08 00:00:00' '2017-02-09 00:00:00'\n",
      " '2017-02-15 00:00:00' '2017-02-16 00:00:00' '2018-02-12 00:00:00'\n",
      " '2017-03-16 00:00:00' '2017-06-11 00:00:00' '2017-03-18 00:00:00'\n",
      " '2018-06-01 00:00:00' '2017-03-02 00:00:00' '2017-07-30 00:00:00'\n",
      " '2017-07-28 00:00:00' '2018-05-17 00:00:00' '2017-02-20 00:00:00'\n",
      " '2017-06-01 00:00:00' '2017-06-27 00:00:00' '2017-06-13 00:00:00'\n",
      " '2017-09-10 00:00:00' '2017-07-06 00:00:00' '2017-04-19 00:00:00'\n",
      " '2017-05-28 00:00:00' '2017-10-19 00:00:00' '2017-04-23 00:00:00'\n",
      " '2018-01-22 00:00:00' '2017-08-13 00:00:00' '2018-02-21 00:00:00'\n",
      " '2017-02-10 00:00:00' '2017-03-25 00:00:00' '2017-06-28 00:00:00'\n",
      " '2018-02-26 00:00:00' '2017-03-17 00:00:00' '2017-12-03 00:00:00'\n",
      " '2017-09-13 00:00:00' '2017-12-11 00:00:00' '2017-08-05 00:00:00'\n",
      " '2017-02-12 00:00:00' '2017-07-31 00:00:00' '2016-11-01 00:00:00'\n",
      " '2017-11-03 00:00:00' '2017-06-29 00:00:00' '2018-01-15 00:00:00'\n",
      " '2017-11-16 00:00:00' '2017-12-18 00:00:00' '2018-05-29 00:00:00'\n",
      " '2017-01-25 00:00:00' '2017-06-04 00:00:00' '2018-05-02 00:00:00'\n",
      " '2017-03-28 00:00:00' '2017-04-08 00:00:00' '2017-08-14 00:00:00'\n",
      " '2017-02-26 00:00:00' '2017-09-02 00:00:00' '2017-07-17 00:00:00'\n",
      " '2017-01-29 00:00:00' '2017-02-19 00:00:00' '2017-07-03 00:00:00'\n",
      " '2017-03-26 00:00:00' '2017-11-21 00:00:00' '2017-05-09 00:00:00'\n",
      " '2016-10-26 00:00:00' '2017-01-18 00:00:00' '2018-07-17 00:00:00'\n",
      " '2018-07-15 00:00:00' '2017-02-18 00:00:00' '2017-02-04 00:00:00'\n",
      " '2017-04-02 00:00:00' '2018-07-18 00:00:00' '2017-09-16 00:00:00'\n",
      " '2016-11-19 00:00:00' '2018-03-12 00:00:00' '2017-04-07 00:00:00'\n",
      " '2017-12-04 00:00:00' '2017-07-23 00:00:00' '2018-04-16 00:00:00'\n",
      " '2018-06-25 00:00:00' '2018-02-11 00:00:00' '2018-05-21 00:00:00'\n",
      " '2017-01-17 00:00:00' '2017-05-29 00:00:00' '2017-01-28 00:00:00'\n",
      " '2018-04-01 00:00:00' '2017-02-07 00:00:00' '2017-05-21 00:00:00'\n",
      " '2018-01-03 00:00:00' '2016-10-21 00:00:00' '2016-10-27 00:00:00'\n",
      " '2017-06-26 00:00:00' '2017-11-13 00:00:00' '2018-07-30 00:00:00'\n",
      " '2017-07-24 00:00:00' '2017-06-25 00:00:00' '2017-03-01 00:00:00'\n",
      " '2016-10-25 00:00:00' '2016-10-09 00:00:00' '2017-06-12 00:00:00'\n",
      " '2017-02-14 00:00:00' '2018-08-13 00:00:00' '2017-02-01 00:00:00'\n",
      " '2017-01-19 00:00:00' '2017-11-20 00:00:00' '2017-04-24 00:00:00'\n",
      " '2018-07-09 00:00:00' '2017-03-05 00:00:00' '2016-12-03 00:00:00'\n",
      " '2017-04-09 00:00:00' '2016-11-08 00:00:00' '2018-08-06 00:00:00'\n",
      " '2016-11-26 00:00:00' '2017-10-23 00:00:00' '2016-12-01 00:00:00'\n",
      " '2017-07-10 00:00:00' '2017-07-02 00:00:00' '2017-07-09 00:00:00'\n",
      " '2016-10-18 00:00:00' '2017-12-25 00:00:00' '2016-11-04 00:00:00'\n",
      " '2016-10-29 00:00:00' '2018-04-30 00:00:00' '2017-02-13 00:00:00'\n",
      " '2016-11-09 00:00:00' '2016-11-18 00:00:00' '2016-12-16 00:00:00'\n",
      " '2018-03-05 00:00:00' '2017-02-05 00:00:00' '2018-04-02 00:00:00'\n",
      " '2016-11-30 00:00:00' '2018-04-09 00:00:00' '2017-09-04 00:00:00'\n",
      " '2017-05-22 00:00:00' '2017-09-18 00:00:00' '2017-10-16 00:00:00'\n",
      " '2016-11-23 00:00:00' '2018-02-05 00:00:00' '2017-05-02 00:00:00'\n",
      " '2016-11-05 00:00:00' '2016-11-17 00:00:00' '2016-11-06 00:00:00'\n",
      " '2017-08-28 00:00:00' '2016-12-07 00:00:00' '2017-04-03 00:00:00'\n",
      " '2017-11-27 00:00:00' '2016-12-04 00:00:00' '2016-10-30 00:00:00'\n",
      " '2018-07-02 00:00:00' '2017-04-15 00:00:00' '2016-11-11 00:00:00'\n",
      " '2018-04-23 00:00:00' '2018-07-19 00:00:00' '2016-11-25 00:00:00'\n",
      " '2017-01-21 00:00:00' '2016-11-20 00:00:00' '2018-01-29 00:00:00'\n",
      " '2018-06-18 00:00:00' '2018-05-28 00:00:00' '2018-08-27 00:00:00'\n",
      " '2016-12-29 00:00:00' '2016-11-27 00:00:00' '2018-05-14 00:00:00'\n",
      " '2016-12-25 00:00:00' '2017-04-16 00:00:00' '2016-11-10 00:00:00'\n",
      " '2018-08-20 00:00:00' '2018-07-16 00:00:00' '2016-10-16 01:00:00'\n",
      " '2016-10-23 00:00:00' '2017-03-06 00:00:00' '2017-03-27 00:00:00'\n",
      " '2017-01-20 00:00:00' '2017-06-19 00:00:00' '2016-12-08 00:00:00'\n",
      " '2018-07-20 00:00:00' '2016-10-06 00:00:00' '2018-07-23 00:00:00'\n",
      " '2017-01-14 00:00:00' '2016-10-15 00:00:00' '2017-01-12 00:00:00'\n",
      " '2016-12-02 00:00:00' '2016-10-24 00:00:00' '2017-08-21 00:00:00'\n",
      " '2018-01-02 00:00:00' '2016-12-14 00:00:00' '2017-01-13 00:00:00'\n",
      " '2017-09-11 00:00:00' '2017-02-06 00:00:00' '2016-10-31 00:00:00'\n",
      " '2016-12-11 00:00:00' '2017-03-20 00:00:00' '2017-05-15 00:00:00'\n",
      " '2016-11-29 00:00:00' '2016-12-10 00:00:00' '2016-10-02 00:00:00'\n",
      " '2017-01-22 00:00:00' '2017-03-13 00:00:00' '2018-02-13 00:00:00'\n",
      " '2016-11-15 00:00:00' '2017-06-05 00:00:00' '2017-01-04 00:00:00'] \n",
      "\n",
      " - La columna review_answer_timestamp tiene los siguientes datos ['2018-01-18 21:46:59' '2018-03-11 03:05:13' '2018-02-18 14:36:24' ...\n",
      " '2018-03-23 09:10:43' '2018-07-02 12:59:13' '2017-07-03 21:01:49'] \n",
      "\n"
     ]
    }
   ],
   "source": [
    "#Se ven a simple vista alguns valores únicos para detectar anomalías\n",
    "eda_unicos_all(df7_order_reviews)"
   ]
  },
  {
   "attachments": {},
   "cell_type": "markdown",
   "metadata": {},
   "source": [
    "Hay que decidir que hacer con los nulos en:\n",
    "* review_comment_message\n",
    "* review_comment_title"
   ]
  },
  {
   "cell_type": "code",
   "execution_count": 206,
   "metadata": {},
   "outputs": [
    {
     "name": "stdout",
     "output_type": "stream",
     "text": [
      "La columna review_id tiene: 814 valores duplicados, de un total de 99224 datos\n",
      "La columna order_id tiene: 551 valores duplicados, de un total de 99224 datos\n",
      "La columna review_score tiene: 99219 valores duplicados, de un total de 99224 datos\n",
      "La columna review_comment_title tiene: 94696 valores duplicados, de un total de 99224 datos\n",
      "La columna review_comment_message tiene: 63064 valores duplicados, de un total de 99224 datos\n",
      "La columna review_creation_date tiene: 98588 valores duplicados, de un total de 99224 datos\n",
      "La columna review_answer_timestamp tiene: 976 valores duplicados, de un total de 99224 datos\n"
     ]
    }
   ],
   "source": [
    "# Se cuentan valores únicos para saber si hay duplicados por columna\n",
    "duplicados_x_columna(df7_order_reviews)"
   ]
  },
  {
   "cell_type": "code",
   "execution_count": 207,
   "metadata": {},
   "outputs": [
    {
     "data": {
      "text/plain": [
       "'No hay duplicados'"
      ]
     },
     "execution_count": 207,
     "metadata": {},
     "output_type": "execute_result"
    }
   ],
   "source": [
    "# Se cuentan valores duplicados en el total del df\n",
    "eda_duplicados(df7_order_reviews)"
   ]
  },
  {
   "cell_type": "code",
   "execution_count": 208,
   "metadata": {},
   "outputs": [
    {
     "name": "stdout",
     "output_type": "stream",
     "text": [
      "Todos los valores de review_id tienen longitud de 32 caracteres\n",
      "Todos los valores de order_id tienen longitud de 32 caracteres\n"
     ]
    }
   ],
   "source": [
    "# Se cuentan los valores de la columna order_id que tengan un largo de 32 caracteres\n",
    "homogeneidad_id(df7_order_reviews)"
   ]
  },
  {
   "cell_type": "code",
   "execution_count": 209,
   "metadata": {},
   "outputs": [
    {
     "data": {
      "text/html": [
       "<div>\n",
       "<style scoped>\n",
       "    .dataframe tbody tr th:only-of-type {\n",
       "        vertical-align: middle;\n",
       "    }\n",
       "\n",
       "    .dataframe tbody tr th {\n",
       "        vertical-align: top;\n",
       "    }\n",
       "\n",
       "    .dataframe thead th {\n",
       "        text-align: right;\n",
       "    }\n",
       "</style>\n",
       "<table border=\"1\" class=\"dataframe\">\n",
       "  <thead>\n",
       "    <tr style=\"text-align: right;\">\n",
       "      <th></th>\n",
       "      <th>review_id</th>\n",
       "      <th>order_id</th>\n",
       "      <th>review_score</th>\n",
       "      <th>review_comment_title</th>\n",
       "      <th>review_comment_message</th>\n",
       "      <th>review_creation_date</th>\n",
       "      <th>review_answer_timestamp</th>\n",
       "    </tr>\n",
       "  </thead>\n",
       "  <tbody>\n",
       "    <tr>\n",
       "      <th>63080</th>\n",
       "      <td>07c9ec2ce10f6967173c603a2e3c6392</td>\n",
       "      <td>d32fbb7b9c7d393b293c80e66091ee4b</td>\n",
       "      <td>3</td>\n",
       "      <td>NaN</td>\n",
       "      <td>NaN</td>\n",
       "      <td>2017-09-16 00:00:00</td>\n",
       "      <td>2017-09-18 22:41:51</td>\n",
       "    </tr>\n",
       "    <tr>\n",
       "      <th>88921</th>\n",
       "      <td>503e6aeea9cb776ca48fb0a9120d889a</td>\n",
       "      <td>d9f8272ce07f87bd2168f47bd2010235</td>\n",
       "      <td>5</td>\n",
       "      <td>NaN</td>\n",
       "      <td>super recomendo, ótimo produto além de receber...</td>\n",
       "      <td>2017-05-03 00:00:00</td>\n",
       "      <td>2017-05-06 01:19:06</td>\n",
       "    </tr>\n",
       "    <tr>\n",
       "      <th>21109</th>\n",
       "      <td>8e88ce8f89c0f7a0280173f6aad2f511</td>\n",
       "      <td>c8bac0f86737c4d00dd169cec03acf71</td>\n",
       "      <td>5</td>\n",
       "      <td>NaN</td>\n",
       "      <td>NaN</td>\n",
       "      <td>2017-11-21 00:00:00</td>\n",
       "      <td>2017-11-30 09:54:11</td>\n",
       "    </tr>\n",
       "    <tr>\n",
       "      <th>25619</th>\n",
       "      <td>dda5e97cf2dd070e030d46b201db4651</td>\n",
       "      <td>6ee07bb000ad56123f660b23dabed4ab</td>\n",
       "      <td>4</td>\n",
       "      <td>NaN</td>\n",
       "      <td>Qualidade excelente</td>\n",
       "      <td>2017-10-21 00:00:00</td>\n",
       "      <td>2017-10-23 21:29:22</td>\n",
       "    </tr>\n",
       "    <tr>\n",
       "      <th>60284</th>\n",
       "      <td>bd4456a60c6bcf1cda23da1a5ddf65c3</td>\n",
       "      <td>73558fe683b9ce228381cf2ca678d322</td>\n",
       "      <td>5</td>\n",
       "      <td>NaN</td>\n",
       "      <td>NaN</td>\n",
       "      <td>2017-02-10 00:00:00</td>\n",
       "      <td>2017-02-13 09:43:37</td>\n",
       "    </tr>\n",
       "  </tbody>\n",
       "</table>\n",
       "</div>"
      ],
      "text/plain": [
       "                              review_id                          order_id  \\\n",
       "63080  07c9ec2ce10f6967173c603a2e3c6392  d32fbb7b9c7d393b293c80e66091ee4b   \n",
       "88921  503e6aeea9cb776ca48fb0a9120d889a  d9f8272ce07f87bd2168f47bd2010235   \n",
       "21109  8e88ce8f89c0f7a0280173f6aad2f511  c8bac0f86737c4d00dd169cec03acf71   \n",
       "25619  dda5e97cf2dd070e030d46b201db4651  6ee07bb000ad56123f660b23dabed4ab   \n",
       "60284  bd4456a60c6bcf1cda23da1a5ddf65c3  73558fe683b9ce228381cf2ca678d322   \n",
       "\n",
       "       review_score review_comment_title  \\\n",
       "63080             3                  NaN   \n",
       "88921             5                  NaN   \n",
       "21109             5                  NaN   \n",
       "25619             4                  NaN   \n",
       "60284             5                  NaN   \n",
       "\n",
       "                                  review_comment_message review_creation_date  \\\n",
       "63080                                                NaN  2017-09-16 00:00:00   \n",
       "88921  super recomendo, ótimo produto além de receber...  2017-05-03 00:00:00   \n",
       "21109                                                NaN  2017-11-21 00:00:00   \n",
       "25619                               Qualidade excelente   2017-10-21 00:00:00   \n",
       "60284                                                NaN  2017-02-10 00:00:00   \n",
       "\n",
       "      review_answer_timestamp  \n",
       "63080     2017-09-18 22:41:51  \n",
       "88921     2017-05-06 01:19:06  \n",
       "21109     2017-11-30 09:54:11  \n",
       "25619     2017-10-23 21:29:22  \n",
       "60284     2017-02-13 09:43:37  "
      ]
     },
     "execution_count": 209,
     "metadata": {},
     "output_type": "execute_result"
    }
   ],
   "source": [
    "#analisis preliminar del contenido\n",
    "eda_sample(df7_order_reviews)"
   ]
  },
  {
   "attachments": {},
   "cell_type": "markdown",
   "metadata": {},
   "source": [
    "### Conclusiones_ TABLA 7: \n",
    "\n",
    " - Tabla de reseñas, con FK, hacia tabla de orders. Donde cada dato es una reseña sobre cada compra.   \n"
   ]
  },
  {
   "attachments": {},
   "cell_type": "markdown",
   "metadata": {},
   "source": [
    "___________________"
   ]
  },
  {
   "attachments": {},
   "cell_type": "markdown",
   "metadata": {},
   "source": [
    "## TABLA 8_ Información de las ordenes (orders)"
   ]
  },
  {
   "cell_type": "code",
   "execution_count": 210,
   "metadata": {},
   "outputs": [
    {
     "name": "stdout",
     "output_type": "stream",
     "text": [
      "<class 'pandas.core.frame.DataFrame'>\n",
      "RangeIndex: 99441 entries, 0 to 99440\n",
      "Data columns (total 8 columns):\n",
      " #   Column                         Non-Null Count  Dtype \n",
      "---  ------                         --------------  ----- \n",
      " 0   order_id                       99441 non-null  object\n",
      " 1   customer_id                    99441 non-null  object\n",
      " 2   order_status                   99441 non-null  object\n",
      " 3   order_purchase_timestamp       99441 non-null  object\n",
      " 4   order_approved_at              99281 non-null  object\n",
      " 5   order_delivered_carrier_date   97658 non-null  object\n",
      " 6   order_delivered_customer_date  96476 non-null  object\n",
      " 7   order_estimated_delivery_date  99441 non-null  object\n",
      "dtypes: object(8)\n",
      "memory usage: 6.1+ MB\n"
     ]
    },
    {
     "data": {
      "text/plain": [
       "(None,)"
      ]
     },
     "execution_count": 210,
     "metadata": {},
     "output_type": "execute_result"
    }
   ],
   "source": [
    "#información general y miramos si hay duplicados y cuantos \n",
    "eda_general(df8_orders)\n"
   ]
  },
  {
   "cell_type": "code",
   "execution_count": 211,
   "metadata": {},
   "outputs": [
    {
     "data": {
      "text/plain": [
       "order_id                            0\n",
       "customer_id                         0\n",
       "order_status                        0\n",
       "order_purchase_timestamp            0\n",
       "order_approved_at                 160\n",
       "order_delivered_carrier_date     1783\n",
       "order_delivered_customer_date    2965\n",
       "order_estimated_delivery_date       0\n",
       "dtype: int64"
      ]
     },
     "execution_count": 211,
     "metadata": {},
     "output_type": "execute_result"
    }
   ],
   "source": [
    "#se chequean los nulos por columna  \n",
    "df8_orders.isnull().sum()"
   ]
  },
  {
   "cell_type": "code",
   "execution_count": 212,
   "metadata": {},
   "outputs": [
    {
     "name": "stdout",
     "output_type": "stream",
     "text": [
      " - La columna order_id tiene los siguientes datos ['e481f51cbdc54678b7cc49136f2d6af7' '53cdb2fc8bc7dce0b6741e2150273451'\n",
      " '47770eb9100c2d0c44946d9cf07ec65d' ... '83c1379a015df1e13d02aae0204711ab'\n",
      " '11c177c8e97725db2631073c19f07b62' '66dea50a8b16d9b4dee7af250b4be1a5'] \n",
      "\n",
      " - La columna order_status tiene los siguientes datos ['delivered' 'invoiced' 'shipped' 'processing' 'unavailable' 'canceled'\n",
      " 'created' 'approved'] \n",
      "\n"
     ]
    }
   ],
   "source": [
    "#Se ven a simple vista alguns valores únicos para detectar anomalías\n",
    "eda_unicos_all(df8_orders)"
   ]
  },
  {
   "cell_type": "code",
   "execution_count": 213,
   "metadata": {},
   "outputs": [
    {
     "name": "stdout",
     "output_type": "stream",
     "text": [
      "La columna order_id tiene: 0 valores duplicados, de un total de 99441 datos\n",
      "La columna customer_id tiene: 0 valores duplicados, de un total de 99441 datos\n",
      "La columna order_status tiene: 99433 valores duplicados, de un total de 99441 datos\n",
      "La columna order_purchase_timestamp tiene: 566 valores duplicados, de un total de 99441 datos\n",
      "La columna order_approved_at tiene: 8707 valores duplicados, de un total de 99441 datos\n",
      "La columna order_delivered_carrier_date tiene: 18422 valores duplicados, de un total de 99441 datos\n",
      "La columna order_delivered_customer_date tiene: 3776 valores duplicados, de un total de 99441 datos\n",
      "La columna order_estimated_delivery_date tiene: 98982 valores duplicados, de un total de 99441 datos\n"
     ]
    }
   ],
   "source": [
    "# Se cuentan valores únicos para saber si hay duplicados por columna\n",
    "duplicados_x_columna(df8_orders)"
   ]
  },
  {
   "cell_type": "code",
   "execution_count": 214,
   "metadata": {},
   "outputs": [
    {
     "name": "stdout",
     "output_type": "stream",
     "text": [
      "Para el dato: delivered\n",
      "order_id                          0\n",
      "customer_id                       0\n",
      "order_status                      0\n",
      "order_purchase_timestamp          0\n",
      "order_approved_at                14\n",
      "order_delivered_carrier_date      2\n",
      "order_delivered_customer_date     8\n",
      "order_estimated_delivery_date     0\n",
      "dtype: int64 \n",
      "\n",
      "Para el dato: invoiced\n",
      "order_id                           0\n",
      "customer_id                        0\n",
      "order_status                       0\n",
      "order_purchase_timestamp           0\n",
      "order_approved_at                  0\n",
      "order_delivered_carrier_date     314\n",
      "order_delivered_customer_date    314\n",
      "order_estimated_delivery_date      0\n",
      "dtype: int64 \n",
      "\n",
      "Para el dato: shipped\n",
      "order_id                            0\n",
      "customer_id                         0\n",
      "order_status                        0\n",
      "order_purchase_timestamp            0\n",
      "order_approved_at                   0\n",
      "order_delivered_carrier_date        0\n",
      "order_delivered_customer_date    1107\n",
      "order_estimated_delivery_date       0\n",
      "dtype: int64 \n",
      "\n",
      "Para el dato: processing\n",
      "order_id                           0\n",
      "customer_id                        0\n",
      "order_status                       0\n",
      "order_purchase_timestamp           0\n",
      "order_approved_at                  0\n",
      "order_delivered_carrier_date     301\n",
      "order_delivered_customer_date    301\n",
      "order_estimated_delivery_date      0\n",
      "dtype: int64 \n",
      "\n",
      "Para el dato: unavailable\n",
      "order_id                           0\n",
      "customer_id                        0\n",
      "order_status                       0\n",
      "order_purchase_timestamp           0\n",
      "order_approved_at                  0\n",
      "order_delivered_carrier_date     609\n",
      "order_delivered_customer_date    609\n",
      "order_estimated_delivery_date      0\n",
      "dtype: int64 \n",
      "\n",
      "Para el dato: canceled\n",
      "order_id                           0\n",
      "customer_id                        0\n",
      "order_status                       0\n",
      "order_purchase_timestamp           0\n",
      "order_approved_at                141\n",
      "order_delivered_carrier_date     550\n",
      "order_delivered_customer_date    619\n",
      "order_estimated_delivery_date      0\n",
      "dtype: int64 \n",
      "\n",
      "Para el dato: created\n",
      "order_id                         0\n",
      "customer_id                      0\n",
      "order_status                     0\n",
      "order_purchase_timestamp         0\n",
      "order_approved_at                5\n",
      "order_delivered_carrier_date     5\n",
      "order_delivered_customer_date    5\n",
      "order_estimated_delivery_date    0\n",
      "dtype: int64 \n",
      "\n",
      "Para el dato: approved\n",
      "order_id                         0\n",
      "customer_id                      0\n",
      "order_status                     0\n",
      "order_purchase_timestamp         0\n",
      "order_approved_at                0\n",
      "order_delivered_carrier_date     2\n",
      "order_delivered_customer_date    2\n",
      "order_estimated_delivery_date    0\n",
      "dtype: int64 \n",
      "\n"
     ]
    }
   ],
   "source": [
    "#Observamos en qué momento del estado del envío de la orden hay más nulos\n",
    "for dato in df8_orders['order_status'].unique():\n",
    "    print(f'Para el dato: {dato}')\n",
    "    print(df8_orders[df8_orders['order_status'] == dato].isnull().sum(), '\\n')"
   ]
  },
  {
   "cell_type": "code",
   "execution_count": 215,
   "metadata": {},
   "outputs": [
    {
     "data": {
      "text/plain": [
       "'No hay duplicados'"
      ]
     },
     "execution_count": 215,
     "metadata": {},
     "output_type": "execute_result"
    }
   ],
   "source": [
    "#se chequean los duplicados en general\n",
    "eda_duplicados(df8_orders)"
   ]
  },
  {
   "cell_type": "code",
   "execution_count": 216,
   "metadata": {},
   "outputs": [
    {
     "name": "stdout",
     "output_type": "stream",
     "text": [
      "Todos los valores de order_id tienen longitud de 32 caracteres\n",
      "Todos los valores de customer_id tienen longitud de 32 caracteres\n"
     ]
    }
   ],
   "source": [
    "# Se cuentan los valores de la columna order_id que tengan un largo de 32 caracteres\n",
    "homogeneidad_id(df8_orders)"
   ]
  },
  {
   "cell_type": "code",
   "execution_count": 217,
   "metadata": {},
   "outputs": [
    {
     "data": {
      "text/html": [
       "<div>\n",
       "<style scoped>\n",
       "    .dataframe tbody tr th:only-of-type {\n",
       "        vertical-align: middle;\n",
       "    }\n",
       "\n",
       "    .dataframe tbody tr th {\n",
       "        vertical-align: top;\n",
       "    }\n",
       "\n",
       "    .dataframe thead th {\n",
       "        text-align: right;\n",
       "    }\n",
       "</style>\n",
       "<table border=\"1\" class=\"dataframe\">\n",
       "  <thead>\n",
       "    <tr style=\"text-align: right;\">\n",
       "      <th></th>\n",
       "      <th>order_id</th>\n",
       "      <th>customer_id</th>\n",
       "      <th>order_status</th>\n",
       "      <th>order_purchase_timestamp</th>\n",
       "      <th>order_approved_at</th>\n",
       "      <th>order_delivered_carrier_date</th>\n",
       "      <th>order_delivered_customer_date</th>\n",
       "      <th>order_estimated_delivery_date</th>\n",
       "    </tr>\n",
       "  </thead>\n",
       "  <tbody>\n",
       "    <tr>\n",
       "      <th>57683</th>\n",
       "      <td>a009ada42a46d83328c627c1ffc57f56</td>\n",
       "      <td>b1ff51bd725d9c52689b0cde47656bcd</td>\n",
       "      <td>delivered</td>\n",
       "      <td>2017-11-06 21:44:01</td>\n",
       "      <td>2017-11-07 05:31:26</td>\n",
       "      <td>2017-11-10 20:46:52</td>\n",
       "      <td>2017-11-20 21:34:36</td>\n",
       "      <td>2017-11-30 00:00:00</td>\n",
       "    </tr>\n",
       "    <tr>\n",
       "      <th>66646</th>\n",
       "      <td>4886ba57227500f0a374a1fd079b02f1</td>\n",
       "      <td>366af15f24aaf77dadd6d90d04792698</td>\n",
       "      <td>delivered</td>\n",
       "      <td>2018-04-14 10:04:18</td>\n",
       "      <td>2018-04-14 10:15:10</td>\n",
       "      <td>2018-04-16 21:13:31</td>\n",
       "      <td>2018-04-19 21:28:35</td>\n",
       "      <td>2018-05-17 00:00:00</td>\n",
       "    </tr>\n",
       "    <tr>\n",
       "      <th>84773</th>\n",
       "      <td>cde746ccdc9bd5d1ee4772ec20c7bd13</td>\n",
       "      <td>a147075ce27d034c5aafc6477a4ebb72</td>\n",
       "      <td>delivered</td>\n",
       "      <td>2018-07-26 13:48:08</td>\n",
       "      <td>2018-07-26 14:04:56</td>\n",
       "      <td>2018-07-27 12:39:00</td>\n",
       "      <td>2018-07-30 13:03:48</td>\n",
       "      <td>2018-08-03 00:00:00</td>\n",
       "    </tr>\n",
       "    <tr>\n",
       "      <th>38085</th>\n",
       "      <td>6149716112b7db1b76332e704d944cbb</td>\n",
       "      <td>9d230297f9a4605495215839109905b0</td>\n",
       "      <td>delivered</td>\n",
       "      <td>2017-08-24 17:13:53</td>\n",
       "      <td>2017-08-25 02:55:22</td>\n",
       "      <td>2017-08-25 17:39:01</td>\n",
       "      <td>2017-08-28 19:47:51</td>\n",
       "      <td>2017-09-14 00:00:00</td>\n",
       "    </tr>\n",
       "    <tr>\n",
       "      <th>87020</th>\n",
       "      <td>0e5c7d003ff6919e7633939b2cb151fd</td>\n",
       "      <td>ff869205a42a4de9aa4a4bc357c62507</td>\n",
       "      <td>delivered</td>\n",
       "      <td>2018-02-07 19:01:39</td>\n",
       "      <td>2018-02-07 19:10:35</td>\n",
       "      <td>2018-02-08 17:18:59</td>\n",
       "      <td>2018-02-22 18:12:19</td>\n",
       "      <td>2018-03-09 00:00:00</td>\n",
       "    </tr>\n",
       "  </tbody>\n",
       "</table>\n",
       "</div>"
      ],
      "text/plain": [
       "                               order_id                       customer_id  \\\n",
       "57683  a009ada42a46d83328c627c1ffc57f56  b1ff51bd725d9c52689b0cde47656bcd   \n",
       "66646  4886ba57227500f0a374a1fd079b02f1  366af15f24aaf77dadd6d90d04792698   \n",
       "84773  cde746ccdc9bd5d1ee4772ec20c7bd13  a147075ce27d034c5aafc6477a4ebb72   \n",
       "38085  6149716112b7db1b76332e704d944cbb  9d230297f9a4605495215839109905b0   \n",
       "87020  0e5c7d003ff6919e7633939b2cb151fd  ff869205a42a4de9aa4a4bc357c62507   \n",
       "\n",
       "      order_status order_purchase_timestamp    order_approved_at  \\\n",
       "57683    delivered      2017-11-06 21:44:01  2017-11-07 05:31:26   \n",
       "66646    delivered      2018-04-14 10:04:18  2018-04-14 10:15:10   \n",
       "84773    delivered      2018-07-26 13:48:08  2018-07-26 14:04:56   \n",
       "38085    delivered      2017-08-24 17:13:53  2017-08-25 02:55:22   \n",
       "87020    delivered      2018-02-07 19:01:39  2018-02-07 19:10:35   \n",
       "\n",
       "      order_delivered_carrier_date order_delivered_customer_date  \\\n",
       "57683          2017-11-10 20:46:52           2017-11-20 21:34:36   \n",
       "66646          2018-04-16 21:13:31           2018-04-19 21:28:35   \n",
       "84773          2018-07-27 12:39:00           2018-07-30 13:03:48   \n",
       "38085          2017-08-25 17:39:01           2017-08-28 19:47:51   \n",
       "87020          2018-02-08 17:18:59           2018-02-22 18:12:19   \n",
       "\n",
       "      order_estimated_delivery_date  \n",
       "57683           2017-11-30 00:00:00  \n",
       "66646           2018-05-17 00:00:00  \n",
       "84773           2018-08-03 00:00:00  \n",
       "38085           2017-09-14 00:00:00  \n",
       "87020           2018-03-09 00:00:00  "
      ]
     },
     "execution_count": 217,
     "metadata": {},
     "output_type": "execute_result"
    }
   ],
   "source": [
    "#analisis preliminar del contenido\n",
    "eda_sample(df8_orders)"
   ]
  },
  {
   "attachments": {},
   "cell_type": "markdown",
   "metadata": {},
   "source": [
    "### Conclusiones_ TABLA 8: \n",
    "\n",
    " - Tabla de hecho, relacionada con tabla order_reviews, order_payments y order_items"
   ]
  },
  {
   "attachments": {},
   "cell_type": "markdown",
   "metadata": {},
   "source": [
    "_____________________________"
   ]
  },
  {
   "attachments": {},
   "cell_type": "markdown",
   "metadata": {},
   "source": [
    "## TABLA 9_ Información de productos (products)"
   ]
  },
  {
   "cell_type": "code",
   "execution_count": 218,
   "metadata": {},
   "outputs": [
    {
     "name": "stdout",
     "output_type": "stream",
     "text": [
      "<class 'pandas.core.frame.DataFrame'>\n",
      "RangeIndex: 32951 entries, 0 to 32950\n",
      "Data columns (total 9 columns):\n",
      " #   Column                      Non-Null Count  Dtype  \n",
      "---  ------                      --------------  -----  \n",
      " 0   product_id                  32951 non-null  object \n",
      " 1   product_category_name       32341 non-null  object \n",
      " 2   product_name_lenght         32341 non-null  float64\n",
      " 3   product_description_lenght  32341 non-null  float64\n",
      " 4   product_photos_qty          32341 non-null  float64\n",
      " 5   product_weight_g            32949 non-null  float64\n",
      " 6   product_length_cm           32949 non-null  float64\n",
      " 7   product_height_cm           32949 non-null  float64\n",
      " 8   product_width_cm            32949 non-null  float64\n",
      "dtypes: float64(7), object(2)\n",
      "memory usage: 2.3+ MB\n"
     ]
    },
    {
     "data": {
      "text/plain": [
       "(None,)"
      ]
     },
     "execution_count": 218,
     "metadata": {},
     "output_type": "execute_result"
    }
   ],
   "source": [
    "#información general y miramos si hay duplicados y cuantos \n",
    "eda_general(df9_products)\n"
   ]
  },
  {
   "cell_type": "code",
   "execution_count": 219,
   "metadata": {},
   "outputs": [
    {
     "data": {
      "text/plain": [
       "product_id                      0\n",
       "product_category_name         610\n",
       "product_name_lenght           610\n",
       "product_description_lenght    610\n",
       "product_photos_qty            610\n",
       "product_weight_g                2\n",
       "product_length_cm               2\n",
       "product_height_cm               2\n",
       "product_width_cm                2\n",
       "dtype: int64"
      ]
     },
     "execution_count": 219,
     "metadata": {},
     "output_type": "execute_result"
    }
   ],
   "source": [
    "#chequeamos nulos por columna\n",
    "df9_products.isnull().sum()"
   ]
  },
  {
   "cell_type": "code",
   "execution_count": 220,
   "metadata": {},
   "outputs": [
    {
     "name": "stdout",
     "output_type": "stream",
     "text": [
      " - La columna product_category_name tiene los siguientes datos ['perfumaria' 'artes' 'esporte_lazer' 'bebes' 'utilidades_domesticas'\n",
      " 'instrumentos_musicais' 'cool_stuff' 'moveis_decoracao'\n",
      " 'eletrodomesticos' 'brinquedos' 'cama_mesa_banho'\n",
      " 'construcao_ferramentas_seguranca' 'informatica_acessorios'\n",
      " 'beleza_saude' 'malas_acessorios' 'ferramentas_jardim'\n",
      " 'moveis_escritorio' 'automotivo' 'eletronicos' 'fashion_calcados'\n",
      " 'telefonia' 'papelaria' 'fashion_bolsas_e_acessorios' 'pcs'\n",
      " 'casa_construcao' 'relogios_presentes'\n",
      " 'construcao_ferramentas_construcao' 'pet_shop' 'eletroportateis'\n",
      " 'agro_industria_e_comercio' nan 'moveis_sala' 'sinalizacao_e_seguranca'\n",
      " 'climatizacao' 'consoles_games' 'livros_interesse_geral'\n",
      " 'construcao_ferramentas_ferramentas' 'fashion_underwear_e_moda_praia'\n",
      " 'fashion_roupa_masculina'\n",
      " 'moveis_cozinha_area_de_servico_jantar_e_jardim'\n",
      " 'industria_comercio_e_negocios' 'telefonia_fixa'\n",
      " 'construcao_ferramentas_iluminacao' 'livros_tecnicos'\n",
      " 'eletrodomesticos_2' 'artigos_de_festas' 'bebidas' 'market_place'\n",
      " 'la_cuisine' 'construcao_ferramentas_jardim' 'fashion_roupa_feminina'\n",
      " 'casa_conforto' 'audio' 'alimentos_bebidas' 'musica' 'alimentos'\n",
      " 'tablets_impressao_imagem' 'livros_importados'\n",
      " 'portateis_casa_forno_e_cafe' 'fashion_esporte' 'artigos_de_natal'\n",
      " 'fashion_roupa_infanto_juvenil' 'dvds_blu_ray' 'artes_e_artesanato'\n",
      " 'pc_gamer' 'moveis_quarto' 'cine_foto' 'fraldas_higiene' 'flores'\n",
      " 'casa_conforto_2' 'portateis_cozinha_e_preparadores_de_alimentos'\n",
      " 'seguros_e_servicos' 'moveis_colchao_e_estofado' 'cds_dvds_musicais'] \n",
      "\n",
      " - La columna product_name_lenght tiene los siguientes datos [40. 44. 46. 27. 37. 60. 56. 57. 36. 54. 49. 43. 51. 59. 22. 39. 52. 58.\n",
      " 55. 35. 50. 45. 31. 47. 63. 33. 38. 20. 42. 53. 41. nan 30. 34. 48. 29.\n",
      " 32. 25. 23. 64. 28. 19. 61. 21. 62. 18. 17. 24. 26. 15. 16. 10. 14. 69.\n",
      "  9. 13. 12. 11.  7.  8. 68.  5. 66. 72. 67. 76.  6.] \n",
      "\n",
      " - La columna product_description_lenght tiene los siguientes datos [ 287.  276.  250. ... 2836. 3364. 2207.] \n",
      "\n",
      " - La columna product_photos_qty tiene los siguientes datos [ 1.  4.  2.  3.  5.  9.  6. nan  7. 12. 10. 11. 17.  8. 15. 13. 14. 20.\n",
      " 18. 19.] \n",
      "\n",
      " - La columna product_weight_g tiene los siguientes datos [ 225. 1000.  154. ... 1206.  934. 1920.] \n",
      "\n",
      " - La columna product_length_cm tiene los siguientes datos [ 16.  30.  18.  26.  20.  38.  70.  40.  27.  17.  50.  68. 100.  29.\n",
      "  36.  21.  35.  42.  23.  62.  52.  34.  33.  87.  19.  25.  49.  22.\n",
      "  45.  47.  69.  60.  41.  32.  24.  44.  63.  55. 105.  53.  75.  43.\n",
      "  37.  80.  39.  65.  58.  56.  46.  84.  57.  61.  71.  31.  85.  13.\n",
      "  28.  66.  78.  51.  76.  48.  88.  83.  95. 102.  92.  59.  14.   8.\n",
      "  11.  82.  67.  54.  15.  98.  64.  79.  90.  72.  93. 103.  74.  77.\n",
      "  12.  81.  94. 101.  86. 104.   9.  89.  91.  99.  97.  nan  10.  96.\n",
      "  73.   7.] \n",
      "\n",
      " - La columna product_height_cm tiene los siguientes datos [ 10.  18.   9.   4.  17.   5.  24.   8.  13.  19.   7.  11.   2.  15.\n",
      "  25.  23.  51.  30.   3.  12.  20.  40.  32.  16.  28.  14.  50.  21.\n",
      "  66.  22.   6.  26.  70.  60.  63.  44.  36.  34.  81.  35.  88.  33.\n",
      "  61.  27.  45. 102.  43.  48.  55.  41.  29.  31.  37.  65. 103.  52.\n",
      "  53.  69.  82. 100.  49.  74.  54.  57.  42.  93.  39.  38.  47.  80.\n",
      "  62. 105.  64.  78.  72.  90.  46.  77.  96.  73.  67.  58. 104.  71.\n",
      "  79.  75.  85.  68.  56.  83.  84.  86.  59.  76.  87.  nan  99.  95.\n",
      "  89.  92.  94.  98.  97.] \n",
      "\n",
      " - La columna product_width_cm tiene los siguientes datos [ 14.  20.  15.  26.  13.  11.  44.  40.  17.  12.  16.  45.  30.  50.\n",
      "  23.  34.  31.  42.  25.  41.  35.  79.  38.  47.  24.  49.  37.  39.\n",
      "  53.  27.  18.  56.  70.  33.  55.  22.  32.  46.  19.  28.  43.  58.\n",
      "  36.  21.  67.  48. 105.  51.  60.  29.  52.  59.  71.  68.  65.   6.\n",
      "   8.  10.  54.  57.  74.  92.  82.  61.  76.  63.  93.  73.  80.  87.\n",
      "  78.  83.   9.  84.  91.  69.  64.  90.  62.  85.  66.  75. 100.  nan\n",
      " 102.  95.  72.  98.  86.   7. 103. 101. 118.  97.  77. 104.] \n",
      "\n"
     ]
    }
   ],
   "source": [
    "#Se ven a simple vista alguns valores únicos para detectar anomalías\n",
    "eda_unicos_all(df9_products)"
   ]
  },
  {
   "cell_type": "code",
   "execution_count": 221,
   "metadata": {},
   "outputs": [
    {
     "data": {
      "text/plain": [
       "'No hay duplicados'"
      ]
     },
     "execution_count": 221,
     "metadata": {},
     "output_type": "execute_result"
    }
   ],
   "source": [
    "#se chequean los valores duplicados en general\n",
    "eda_duplicados(df9_products)"
   ]
  },
  {
   "cell_type": "code",
   "execution_count": 222,
   "metadata": {},
   "outputs": [
    {
     "data": {
      "text/html": [
       "<div>\n",
       "<style scoped>\n",
       "    .dataframe tbody tr th:only-of-type {\n",
       "        vertical-align: middle;\n",
       "    }\n",
       "\n",
       "    .dataframe tbody tr th {\n",
       "        vertical-align: top;\n",
       "    }\n",
       "\n",
       "    .dataframe thead th {\n",
       "        text-align: right;\n",
       "    }\n",
       "</style>\n",
       "<table border=\"1\" class=\"dataframe\">\n",
       "  <thead>\n",
       "    <tr style=\"text-align: right;\">\n",
       "      <th></th>\n",
       "      <th>product_id</th>\n",
       "      <th>product_category_name</th>\n",
       "      <th>product_name_lenght</th>\n",
       "      <th>product_description_lenght</th>\n",
       "      <th>product_photos_qty</th>\n",
       "      <th>product_weight_g</th>\n",
       "      <th>product_length_cm</th>\n",
       "      <th>product_height_cm</th>\n",
       "      <th>product_width_cm</th>\n",
       "    </tr>\n",
       "  </thead>\n",
       "  <tbody>\n",
       "    <tr>\n",
       "      <th>13427</th>\n",
       "      <td>609092e5b5c4a202878eb9ba03b47793</td>\n",
       "      <td>brinquedos</td>\n",
       "      <td>29.0</td>\n",
       "      <td>507.0</td>\n",
       "      <td>2.0</td>\n",
       "      <td>500.0</td>\n",
       "      <td>20.0</td>\n",
       "      <td>18.0</td>\n",
       "      <td>18.0</td>\n",
       "    </tr>\n",
       "    <tr>\n",
       "      <th>28803</th>\n",
       "      <td>5b951e54437768080925aabe01e24348</td>\n",
       "      <td>agro_industria_e_comercio</td>\n",
       "      <td>54.0</td>\n",
       "      <td>747.0</td>\n",
       "      <td>1.0</td>\n",
       "      <td>380.0</td>\n",
       "      <td>22.0</td>\n",
       "      <td>11.0</td>\n",
       "      <td>14.0</td>\n",
       "    </tr>\n",
       "    <tr>\n",
       "      <th>25909</th>\n",
       "      <td>34476af6d3d70a896db8dc512f43d627</td>\n",
       "      <td>malas_acessorios</td>\n",
       "      <td>45.0</td>\n",
       "      <td>348.0</td>\n",
       "      <td>4.0</td>\n",
       "      <td>450.0</td>\n",
       "      <td>25.0</td>\n",
       "      <td>40.0</td>\n",
       "      <td>11.0</td>\n",
       "    </tr>\n",
       "    <tr>\n",
       "      <th>17807</th>\n",
       "      <td>90973fe7cdce864c5345cb2eebdfa666</td>\n",
       "      <td>utilidades_domesticas</td>\n",
       "      <td>61.0</td>\n",
       "      <td>117.0</td>\n",
       "      <td>1.0</td>\n",
       "      <td>1400.0</td>\n",
       "      <td>20.0</td>\n",
       "      <td>14.0</td>\n",
       "      <td>20.0</td>\n",
       "    </tr>\n",
       "    <tr>\n",
       "      <th>23334</th>\n",
       "      <td>6fe60ece95b92869a2b7454452147281</td>\n",
       "      <td>moveis_decoracao</td>\n",
       "      <td>55.0</td>\n",
       "      <td>591.0</td>\n",
       "      <td>1.0</td>\n",
       "      <td>350.0</td>\n",
       "      <td>17.0</td>\n",
       "      <td>15.0</td>\n",
       "      <td>15.0</td>\n",
       "    </tr>\n",
       "  </tbody>\n",
       "</table>\n",
       "</div>"
      ],
      "text/plain": [
       "                             product_id      product_category_name  \\\n",
       "13427  609092e5b5c4a202878eb9ba03b47793                 brinquedos   \n",
       "28803  5b951e54437768080925aabe01e24348  agro_industria_e_comercio   \n",
       "25909  34476af6d3d70a896db8dc512f43d627           malas_acessorios   \n",
       "17807  90973fe7cdce864c5345cb2eebdfa666      utilidades_domesticas   \n",
       "23334  6fe60ece95b92869a2b7454452147281           moveis_decoracao   \n",
       "\n",
       "       product_name_lenght  product_description_lenght  product_photos_qty  \\\n",
       "13427                 29.0                       507.0                 2.0   \n",
       "28803                 54.0                       747.0                 1.0   \n",
       "25909                 45.0                       348.0                 4.0   \n",
       "17807                 61.0                       117.0                 1.0   \n",
       "23334                 55.0                       591.0                 1.0   \n",
       "\n",
       "       product_weight_g  product_length_cm  product_height_cm  \\\n",
       "13427             500.0               20.0               18.0   \n",
       "28803             380.0               22.0               11.0   \n",
       "25909             450.0               25.0               40.0   \n",
       "17807            1400.0               20.0               14.0   \n",
       "23334             350.0               17.0               15.0   \n",
       "\n",
       "       product_width_cm  \n",
       "13427              18.0  \n",
       "28803              14.0  \n",
       "25909              11.0  \n",
       "17807              20.0  \n",
       "23334              15.0  "
      ]
     },
     "execution_count": 222,
     "metadata": {},
     "output_type": "execute_result"
    }
   ],
   "source": [
    "##se quiere analizar la categoria de products \n",
    "eda_sample(df9_products)"
   ]
  },
  {
   "attachments": {},
   "cell_type": "markdown",
   "metadata": {},
   "source": [
    "### Conclusiones_ TABLA 9: \n",
    "\n",
    " -  Tabla de dimensión con los productos y sus características."
   ]
  },
  {
   "attachments": {},
   "cell_type": "markdown",
   "metadata": {},
   "source": [
    "_______________________"
   ]
  },
  {
   "attachments": {},
   "cell_type": "markdown",
   "metadata": {},
   "source": [
    "## TABLA 10_ Información de vendedores (sellers)"
   ]
  },
  {
   "cell_type": "code",
   "execution_count": 223,
   "metadata": {},
   "outputs": [
    {
     "name": "stdout",
     "output_type": "stream",
     "text": [
      "<class 'pandas.core.frame.DataFrame'>\n",
      "RangeIndex: 3095 entries, 0 to 3094\n",
      "Data columns (total 4 columns):\n",
      " #   Column                  Non-Null Count  Dtype \n",
      "---  ------                  --------------  ----- \n",
      " 0   seller_id               3095 non-null   object\n",
      " 1   seller_zip_code_prefix  3095 non-null   int64 \n",
      " 2   seller_city             3095 non-null   object\n",
      " 3   seller_state            3095 non-null   object\n",
      "dtypes: int64(1), object(3)\n",
      "memory usage: 96.8+ KB\n"
     ]
    },
    {
     "data": {
      "text/plain": [
       "(None,)"
      ]
     },
     "execution_count": 223,
     "metadata": {},
     "output_type": "execute_result"
    }
   ],
   "source": [
    "#información general y miramos si hay duplicados y cuantos \n",
    "eda_general(df10_sellers)\n"
   ]
  },
  {
   "cell_type": "code",
   "execution_count": 224,
   "metadata": {},
   "outputs": [
    {
     "data": {
      "text/plain": [
       "seller_id                 0\n",
       "seller_zip_code_prefix    0\n",
       "seller_city               0\n",
       "seller_state              0\n",
       "dtype: int64"
      ]
     },
     "execution_count": 224,
     "metadata": {},
     "output_type": "execute_result"
    }
   ],
   "source": [
    "# Se cuentan nulos\n",
    "df10_sellers.isnull().sum()"
   ]
  },
  {
   "cell_type": "code",
   "execution_count": 225,
   "metadata": {},
   "outputs": [
    {
     "data": {
      "text/plain": [
       "'No hay duplicados'"
      ]
     },
     "execution_count": 225,
     "metadata": {},
     "output_type": "execute_result"
    }
   ],
   "source": [
    "#se chequean los valores duplicados en general\n",
    "eda_duplicados(df10_sellers)"
   ]
  },
  {
   "cell_type": "code",
   "execution_count": 226,
   "metadata": {},
   "outputs": [
    {
     "data": {
      "text/html": [
       "<div>\n",
       "<style scoped>\n",
       "    .dataframe tbody tr th:only-of-type {\n",
       "        vertical-align: middle;\n",
       "    }\n",
       "\n",
       "    .dataframe tbody tr th {\n",
       "        vertical-align: top;\n",
       "    }\n",
       "\n",
       "    .dataframe thead th {\n",
       "        text-align: right;\n",
       "    }\n",
       "</style>\n",
       "<table border=\"1\" class=\"dataframe\">\n",
       "  <thead>\n",
       "    <tr style=\"text-align: right;\">\n",
       "      <th></th>\n",
       "      <th>seller_id</th>\n",
       "      <th>seller_zip_code_prefix</th>\n",
       "      <th>seller_city</th>\n",
       "      <th>seller_state</th>\n",
       "    </tr>\n",
       "  </thead>\n",
       "  <tbody>\n",
       "    <tr>\n",
       "      <th>362</th>\n",
       "      <td>9c1c0c36cd23c20897e473901a8fb149</td>\n",
       "      <td>11702</td>\n",
       "      <td>praia grande</td>\n",
       "      <td>SP</td>\n",
       "    </tr>\n",
       "    <tr>\n",
       "      <th>1563</th>\n",
       "      <td>a08692680c77d30a0b4280da5df01c5a</td>\n",
       "      <td>4719</td>\n",
       "      <td>sao paulo</td>\n",
       "      <td>SP</td>\n",
       "    </tr>\n",
       "    <tr>\n",
       "      <th>1602</th>\n",
       "      <td>11fb6f6d341adbe19e81733701704635</td>\n",
       "      <td>4133</td>\n",
       "      <td>sao paulo</td>\n",
       "      <td>SP</td>\n",
       "    </tr>\n",
       "    <tr>\n",
       "      <th>2319</th>\n",
       "      <td>aae5953b9edddf14749c0d65d60eb4b9</td>\n",
       "      <td>31035</td>\n",
       "      <td>belo horizonte</td>\n",
       "      <td>MG</td>\n",
       "    </tr>\n",
       "    <tr>\n",
       "      <th>2700</th>\n",
       "      <td>139157dd4daa45c25b0807ffff348363</td>\n",
       "      <td>3064</td>\n",
       "      <td>sao paulo</td>\n",
       "      <td>SP</td>\n",
       "    </tr>\n",
       "  </tbody>\n",
       "</table>\n",
       "</div>"
      ],
      "text/plain": [
       "                             seller_id  seller_zip_code_prefix  \\\n",
       "362   9c1c0c36cd23c20897e473901a8fb149                   11702   \n",
       "1563  a08692680c77d30a0b4280da5df01c5a                    4719   \n",
       "1602  11fb6f6d341adbe19e81733701704635                    4133   \n",
       "2319  aae5953b9edddf14749c0d65d60eb4b9                   31035   \n",
       "2700  139157dd4daa45c25b0807ffff348363                    3064   \n",
       "\n",
       "         seller_city seller_state  \n",
       "362     praia grande           SP  \n",
       "1563       sao paulo           SP  \n",
       "1602       sao paulo           SP  \n",
       "2319  belo horizonte           MG  \n",
       "2700       sao paulo           SP  "
      ]
     },
     "execution_count": 226,
     "metadata": {},
     "output_type": "execute_result"
    }
   ],
   "source": [
    "#analisis preliminar del contenido\n",
    "eda_sample(df10_sellers)"
   ]
  },
  {
   "cell_type": "code",
   "execution_count": 227,
   "metadata": {},
   "outputs": [
    {
     "name": "stdout",
     "output_type": "stream",
     "text": [
      " - La columna seller_zip_code_prefix tiene los siguientes datos [13023 13844 20031 ...  4650 96080 12051] \n",
      "\n",
      " - La columna seller_city tiene los siguientes datos ['campinas' 'mogi guacu' 'rio de janeiro' 'sao paulo' 'braganca paulista'\n",
      " 'brejao' 'penapolis' 'curitiba' 'anapolis' 'itirapina' 'tubarao'\n",
      " 'lauro de freitas' 'imbituba' 'brasilia' 'porto seguro' 'guaruja'\n",
      " 'tabatinga' 'salto' 'tres de maio' 'belo horizonte' 'arapongas'\n",
      " 'sao bernardo do campo' 'tatui' 'garopaba' 'camanducaia' 'tupa'\n",
      " 'guarulhos' 'sao jose dos pinhais' 'sao ludgero' 'sao jose' 'piracicaba'\n",
      " 'porto alegre' 'congonhal' 'santo andre' 'osasco' 'valinhos' 'joinville'\n",
      " 'saquarema' 'barra velha' 'petropolis' 'santo antonio da patrulha'\n",
      " 'ponta grossa' 'santana de parnaiba' 'sao carlos' 'ibitinga' 'barueri'\n",
      " 'caxias do sul' 'araguari' 'contagem' 'jaragua do sul' 'lages - sc'\n",
      " 'bento goncalves' 'catanduva' 'ribeirao pires' 'jaboticabal' 'echapora'\n",
      " 'cotia' 'rio do sul' 'sorocaba' 'pradopolis' 'itaborai' 'mirassol'\n",
      " 'birigui' 'assis' 'jaguariuna' 'araraquara' 'macae' 'rio claro'\n",
      " 'londrina' 'ribeirao preto' 'tres coracoes' 'nhandeara' 'orleans'\n",
      " 'cuiaba' 'formosa do oeste' 'santos' 'santa terezinha de goias'\n",
      " 'arvorezinha' 'guiricema' 'caruaru' 'franca' 'salvador' 'diadema'\n",
      " 'itaquaquecetuba' 'lencois paulista' 'carapicuiba' 'uruacu' 'itajai'\n",
      " 'loanda' 'maringa' 'ferraz de vasconcelos' 'limeira' 'claudio' 'niteroi'\n",
      " 'osvaldo cruz' 'sao goncalo' 'jaciara' 'balenario camboriu' 'timbo'\n",
      " 'jacutinga' 'fortaleza' 'ferraz de  vasconcelos' 'mirandopolis' 'bauru'\n",
      " 'jacarei' 'itu' 'laranjeiras do sul' 'videira' 'florianopolis'\n",
      " 'itapecerica da serra' 'mamanguape' 'ponte nova' 'goioere' 'pederneiras'\n",
      " 'itapevi' 'goiania' 'campina grande' 'estancia velha' 'resende' 'maua'\n",
      " 'caratinga' 'auriflama/sp' 'cafelandia' 'uba' 'sao paulo / sao paulo'\n",
      " 'sao jose do rio preto' 'porto ferreira' 'tres coroas' 'blumenau'\n",
      " 'mogi das cruzes' 'jaci' 'laranjal paulista' 'americana' 'sertanopolis'\n",
      " 'apucarana' 'colombo' 'vicente de carvalho' 'mesquita' 'sao pauo'\n",
      " 'cascavel' 'fazenda rio grande' 'taboao da serra' 'sao jose dos campos'\n",
      " 'toledo' 'marechal candido rondon' 'jundiai' 'mandirituba' 'suzano'\n",
      " 'vespasiano' 'santa rosa' 'sao joaquim da barra' 'santo antonio de posse'\n",
      " 'uruguaiana' 'campanha' 'piracanjuba' 'concordia' 'santa rita do sapucai'\n",
      " 'barretos' 'indaiatuba' 'nilopolis' 'pompeia' 'barro alto' 'são paulo'\n",
      " 'praia grande' 'luiz alves' 'brusque' 'criciuma' 'jales' 'atibaia'\n",
      " 'rio branco' 'barra mansa' 'marilia' 'bahia' 'taubate' 'cascavael'\n",
      " 'monteiro lobato' 'viana' 'paraiba do sul' 'mococa' 'sao roque' 'passos'\n",
      " 'francisco beltrao' 'tocantins' 'porto belo' 'nova iguacu' 'icara'\n",
      " 'lajeado' 'horizontina' 'votorantim' 'campo bom' 'monte alto'\n",
      " 'fernandopolis' 'pedreira' 'poa' 'divinopolis' 'santa barbara d´oeste'\n",
      " 'canoas' 'mombuca' 'sete lagoas' 'campo do meio' 'cordeiropolis'\n",
      " 'uberlandia' 'santa barbara d oeste' 'volta redonda' '04482255'\n",
      " 'aracatuba' 'monte siao' 'garuva' 'bonfinopolis de minas' 'cosmopolis'\n",
      " 'pocos de caldas' 'artur nogueira' 'joao pessoa' 'dois corregos'\n",
      " 'araquari' 'novo hamburgo, rio grande do sul, brasil' 'floranopolis'\n",
      " 'sumare' 'guaira' 'cachoeiro de itapemirim' 'serrana' 'rolandia'\n",
      " 'congonhas' 'sao  jose dos pinhais' 'boituva' 'mairipora' 'guaimbe'\n",
      " 'parai' 'aperibe' 'jaguaruna' 'vila velha' 'juiz de fora' 'fronteira'\n",
      " 'novo horizonte' 'pilar do sul' 'itajobi' 'cariacica / es' 'prados'\n",
      " 'mucambo' 'montes claros' 'vicosa' 'porto velho' 'sao jose do rio pardo'\n",
      " 'pato branco' 'sao joao del rei' 'presidente prudente' 'paracambi'\n",
      " 'serra negra' 'sao caetano do sul' 'bom jardim' 'serra redonda'\n",
      " 'sao francisco do sul' 'betim' 'imbituva' 'guaratuba' 'teresina'\n",
      " \"sao miguel d'oeste\" 'california' 'japira' 'foz do iguacu'\n",
      " 'nova friburgo' 'itau de minas' 'oliveira' 'sabara' 'pedrinhas paulista'\n",
      " 'votuporanga' 'holambra' 'ararangua' 'pinhais' 'pato bragado' 'carazinho'\n",
      " 'arinos' 'sao pedro' 'lages' 'ampere' 'itauna' 'mogi mirim' 'curitibanos'\n",
      " 'brasilia df' 'mogi das cruses' 'hortolandia' 'ipatinga' 'laguna'\n",
      " 'dores de campos' 'sao paulo - sp' 'araras' 'divisa nova'\n",
      " 'igaracu do tiete' 'pitangueiras' 'campo grande' 'garca'\n",
      " 'presidente epitacio' 'sbc/sp' \"arraial d'ajuda (porto seguro)\"\n",
      " 'pacatuba' 'formosa' 'borda da mata' 'ubatuba' 'entre rios do oeste'\n",
      " 'formiga' 'venancio aires' 'navegantes' 'cruzeiro' 'santa maria' 'muriae'\n",
      " 'santo andre/sao paulo' 'ipe' 'messias targino' 'varginha' 'botucatu'\n",
      " 'domingos martins' 'uberaba' 'coronel fabriciano' 'cachoeirinha'\n",
      " 's jose do rio preto' 'taruma' 'pirassununga' 'aruja' 'sp / sp'\n",
      " 'angra dos reis' 'juzeiro do norte' 'laurentino' 'flores da cunha'\n",
      " 'montenegro' 'pedregulho' 'novo hamburgo' 'torres' 'aracaju'\n",
      " 'santa catarina' 'joao pinheiro' 'bady bassitt' 'sinop' 'guarapuava'\n",
      " 'araucaria' 'vitoria' 'batatais' 'lagoa santa' 'chapeco' 'umuarama'\n",
      " 'belford roxo' 'cariacica' 'monte alegre do sul' 'sp' 'lagoa da prata'\n",
      " 'rolante' 'teresopolis' 'itaporanga' 'campo largo' 'sao joao de meriti'\n",
      " 'maua/sao paulo' 'bom jesus dos perdoes' 'brotas' 'irece' 'coxim' 'jau'\n",
      " 'conselheiro lafaiete' 'amparo' 'sao miguel do oeste' 'gaspar'\n",
      " 'rio bonito' 'mandaguari' 'vargem grande paulista' 'conchal' 'cambe'\n",
      " 'marialva' 'alfenas' 'balneario camboriu' 'palhoca'\n",
      " 'sao bernardo do capo' 'guara' 'colatina' 'franco da rocha' 'lambari'\n",
      " 'mogi das cruzes / sp' 'treze tilias' 'rio de janeiro \\\\rio de janeiro'\n",
      " 'paulo lopes' 'santa cecilia' 'braco do norte' 'floresta' 'farroupilha'\n",
      " 'castro' 'luziania' 'joao monlevade' 'pelotas' 'sao bento'\n",
      " 'campos dos goytacazes' 'ouro fino' 'sao jose dos pinhas' 'tiete'\n",
      " 'viamao' 'janauba' 'capivari' 'santa terezinha de itaipu' 'igrejinha'\n",
      " 'sao bento do sul' 'duque de caxias' 'araxa' 'canoinhas' 'recife'\n",
      " 'barbacena/ minas gerais' 'vera cruz' 'parnamirim' 'santo angelo'\n",
      " 'paincandu' 'tres rios' 'tanabi' 'portoferreira' 'itatiba' 'sarandi'\n",
      " 'cravinhos' 'morrinhos' 'bebedouro' 'almirante tamandare' 'bertioga'\n",
      " 'natal' 'belo horizont' 'ivoti' 'andira-pr' 'cerqueira cesar' 'marapoama'\n",
      " 'imigrante' 'mairinque' 'sao paulo sp' 'rio de janeiro / rio de janeiro'\n",
      " 'andradas' 'sando andre' 'nova odessa' 'paulinia' 'extrema' 'olimpia'\n",
      " 'angra dos reis rj' 'ronda alta' 'sao  paulo' 'sao vicente' 'pinhais/pr'\n",
      " 'portao' 'registro' 'ao bernardo do campo' 'carmo do cajuru'\n",
      " 'embu das artes' 'fernando prestes' 'castro pires' 'vargem grande do sul'\n",
      " 'campina das missoes' 'sao pedro da aldeia' 'miguelopolis' 'itapui' 'sbc'\n",
      " 'neopolis' 'mineiros do tiete' 'varzea paulista' 'nova lima' 'barbacena'\n",
      " 'caieiras' 'buritama' 'erechim' 'itapetininga' 'pinhalzinho' 'descalvado'\n",
      " 'pitanga' 'bage' 'taio' \"santa barbara d'oeste\" 'patos de minas'\n",
      " 'garulhos' 'jarinu' 'nova petropolis' 'ribeirao preto / sao paulo'\n",
      " 'camboriu' 'nova trento' 'sao luis' 'sao jose do rio pret' 'eusebio'\n",
      " 'itaipulandia' 'ipira' 'campo magro' 'tiradentes' 'sao paluo' 'baependi'\n",
      " 'embu guacu' 'paraiso do sul' 'aparecida' 'cataguases' 'bariri'\n",
      " 'abadia de goias' 'alambari' 'ji parana' 'vassouras' 'lorena' 'rodeio'\n",
      " 'louveira' 'guanhaes' 'santo antonio de padua' 'presidente getulio'\n",
      " 'campos novos' 'eunapolis' 'engenheiro coelho' 'rio das pedras'\n",
      " 'afonso claudio' 'carapicuiba / sao paulo' 'centro' 'parana' 'indaial'\n",
      " 'bombinhas' 'orlandia' 'itapeva' 'sao sebastiao' 'macatuba'\n",
      " 'sao joao da boa vista' 'teixeira soares' 'mandaguacu' 'rio do oeste'\n",
      " 'vendas@creditparts.com.br' 'armacao dos buzios' 'mateus leme'\n",
      " 'sao paulop' 'campo limpo paulista' 'socorro' 'serra' 'bocaiuva do sul'\n",
      " 'ilheus' 'imbe' 'soledade' 'cajamar' 'rio negrinho' 'clementina'\n",
      " 'francisco morato' 'rio grande' 'xaxim' 'manaus' 'terra boa'\n",
      " 'minas gerais' 'avare' 'ibirite' 'santa maria da serra' 'auriflama'\n",
      " 'condor' 'ibia' 'guanambi' 'caucaia' 'cordilheira alta' 'carmo da mata'\n",
      " 'ouro preto' 'pedro leopoldo' 'santa rosa de viterbo' 'xanxere'\n",
      " 'alvares machado' 'scao jose do rio pardo' 'ribeirao das neves'\n",
      " 'medianeira' 'massaranduba' 'cornelio procopio' 'pirituba' 'jambeiro'\n",
      " 'sao leopoldo' 'aguas claras df' 'ribeirao pretp' 'cianorte'\n",
      " 'feira de santana' 'cachoeira do sul' 'guariba'\n",
      " 'sao sebastiao da grama/sp' 'dracena' 'ourinhos' 'robeirao preto'\n",
      " 'cacador' 'gama' 'queimados' 'cananeia' 'presidente bernardes' 'pinhalao'\n",
      " 'sombrio' 'campo mourao' 'ilicinea' 'itabira' 'barrinha' 'jussara'\n",
      " 'uniao da vitoria' 'triunfo' 'santa cruz do sul' 'colorado' 'itapema'\n",
      " 'sapiranga' 'paranavai' 'alvorada' 'ipaussu' 'rio verde' 'mage'\n",
      " 'tabao da serra' 'bofete' 'picarras' 'marica' 'jaragua'\n",
      " 'governador valadares' 'rio de janeiro, rio de janeiro, brasil'\n",
      " 'pouso alegre' 'timoteo' 'muqui' 'ipua' 'jacarei / sao paulo'\n",
      " 'varzea alegre' 'guaratingueta' 'tambau' 'irati' 'riberao preto'\n",
      " 'aparecida de goiania' 'bandeirantes' 'vitoria de santo antao' 'palotina'\n",
      " 'leme'] \n",
      "\n",
      " - La columna seller_state tiene los siguientes datos ['SP' 'RJ' 'PE' 'PR' 'GO' 'SC' 'BA' 'DF' 'RS' 'MG' 'RN' 'MT' 'CE' 'PB'\n",
      " 'AC' 'ES' 'RO' 'PI' 'MS' 'SE' 'MA' 'AM' 'PA'] \n",
      "\n"
     ]
    }
   ],
   "source": [
    "# Se buscan valores anómalos\n",
    "eda_unicos_all(df10_sellers)"
   ]
  },
  {
   "attachments": {},
   "cell_type": "markdown",
   "metadata": {},
   "source": [
    "### Conclusiones_ TABLA 10: \n",
    "\n",
    " - Tabla sin nulos y sin duplicados que referencia a los vendedores con su localización. Se relaciona con geolocation por seller_zip_code_prefix (código postal). "
   ]
  },
  {
   "attachments": {},
   "cell_type": "markdown",
   "metadata": {},
   "source": [
    "________________________"
   ]
  },
  {
   "attachments": {},
   "cell_type": "markdown",
   "metadata": {},
   "source": [
    "## TABLA 11_ traducción de la descripción de producto (product_translation)"
   ]
  },
  {
   "cell_type": "code",
   "execution_count": 228,
   "metadata": {},
   "outputs": [
    {
     "name": "stdout",
     "output_type": "stream",
     "text": [
      "<class 'pandas.core.frame.DataFrame'>\n",
      "RangeIndex: 71 entries, 0 to 70\n",
      "Data columns (total 2 columns):\n",
      " #   Column                         Non-Null Count  Dtype \n",
      "---  ------                         --------------  ----- \n",
      " 0   product_category_name          71 non-null     object\n",
      " 1   product_category_name_english  71 non-null     object\n",
      "dtypes: object(2)\n",
      "memory usage: 1.2+ KB\n"
     ]
    },
    {
     "data": {
      "text/plain": [
       "(None,)"
      ]
     },
     "execution_count": 228,
     "metadata": {},
     "output_type": "execute_result"
    }
   ],
   "source": [
    "#información general y miramos si hay duplicados y cuantos \n",
    "eda_general(df11_category_name)\n"
   ]
  },
  {
   "cell_type": "code",
   "execution_count": 229,
   "metadata": {},
   "outputs": [
    {
     "data": {
      "text/plain": [
       "product_category_name            0\n",
       "product_category_name_english    0\n",
       "dtype: int64"
      ]
     },
     "execution_count": 229,
     "metadata": {},
     "output_type": "execute_result"
    }
   ],
   "source": [
    "# Se cuentan nulos\n",
    "df11_category_name.isnull().sum()"
   ]
  },
  {
   "cell_type": "code",
   "execution_count": 230,
   "metadata": {},
   "outputs": [
    {
     "data": {
      "text/plain": [
       "'No hay duplicados'"
      ]
     },
     "execution_count": 230,
     "metadata": {},
     "output_type": "execute_result"
    }
   ],
   "source": [
    "#se cuentan los valores duplicados \n",
    "eda_duplicados(df11_category_name)"
   ]
  },
  {
   "cell_type": "code",
   "execution_count": 231,
   "metadata": {},
   "outputs": [
    {
     "data": {
      "text/html": [
       "<div>\n",
       "<style scoped>\n",
       "    .dataframe tbody tr th:only-of-type {\n",
       "        vertical-align: middle;\n",
       "    }\n",
       "\n",
       "    .dataframe tbody tr th {\n",
       "        vertical-align: top;\n",
       "    }\n",
       "\n",
       "    .dataframe thead th {\n",
       "        text-align: right;\n",
       "    }\n",
       "</style>\n",
       "<table border=\"1\" class=\"dataframe\">\n",
       "  <thead>\n",
       "    <tr style=\"text-align: right;\">\n",
       "      <th></th>\n",
       "      <th>product_category_name</th>\n",
       "      <th>product_category_name_english</th>\n",
       "    </tr>\n",
       "  </thead>\n",
       "  <tbody>\n",
       "    <tr>\n",
       "      <th>38</th>\n",
       "      <td>moveis_colchao_e_estofado</td>\n",
       "      <td>furniture_mattress_and_upholstery</td>\n",
       "    </tr>\n",
       "    <tr>\n",
       "      <th>25</th>\n",
       "      <td>construcao_ferramentas_construcao</td>\n",
       "      <td>construction_tools_construction</td>\n",
       "    </tr>\n",
       "    <tr>\n",
       "      <th>1</th>\n",
       "      <td>informatica_acessorios</td>\n",
       "      <td>computers_accessories</td>\n",
       "    </tr>\n",
       "    <tr>\n",
       "      <th>37</th>\n",
       "      <td>agro_industria_e_comercio</td>\n",
       "      <td>agro_industry_and_commerce</td>\n",
       "    </tr>\n",
       "    <tr>\n",
       "      <th>15</th>\n",
       "      <td>telefonia_fixa</td>\n",
       "      <td>fixed_telephony</td>\n",
       "    </tr>\n",
       "  </tbody>\n",
       "</table>\n",
       "</div>"
      ],
      "text/plain": [
       "                product_category_name      product_category_name_english\n",
       "38          moveis_colchao_e_estofado  furniture_mattress_and_upholstery\n",
       "25  construcao_ferramentas_construcao    construction_tools_construction\n",
       "1              informatica_acessorios              computers_accessories\n",
       "37          agro_industria_e_comercio         agro_industry_and_commerce\n",
       "15                     telefonia_fixa                    fixed_telephony"
      ]
     },
     "execution_count": 231,
     "metadata": {},
     "output_type": "execute_result"
    }
   ],
   "source": [
    "#analisis preliminar del contenido\n",
    "eda_sample(df11_category_name)"
   ]
  },
  {
   "attachments": {},
   "cell_type": "markdown",
   "metadata": {},
   "source": [
    "### Conclusiones_ TABLA 11: \n",
    "\n",
    " - Tabla ultra simple que traduce el nombre de las categorías de los productos"
   ]
  },
  {
   "attachments": {},
   "cell_type": "markdown",
   "metadata": {},
   "source": [
    "_______________________________________________________________\n"
   ]
  },
  {
   "attachments": {},
   "cell_type": "markdown",
   "metadata": {},
   "source": [
    "## EDA _Proyecto Final- ANALYTICS"
   ]
  },
  {
   "attachments": {},
   "cell_type": "markdown",
   "metadata": {},
   "source": [
    "### 1_close deals"
   ]
  },
  {
   "attachments": {},
   "cell_type": "markdown",
   "metadata": {},
   "source": [
    "### 2_customers\n",
    "\n",
    "Tabla con los datos de los clientes, simple, sin NA y con datos de codigo postal, ciudad y estado. No hay domicilio particular. "
   ]
  },
  {
   "attachments": {},
   "cell_type": "markdown",
   "metadata": {},
   "source": [
    "### 3_geolocation"
   ]
  },
  {
   "attachments": {},
   "cell_type": "markdown",
   "metadata": {},
   "source": [
    "### 4_marketing_quality_leads (4_q_leads)\n",
    "\n",
    "Tabla que refiere al primer origen realizado a una landing page, esta puede ser social, busqueda paga, busqueda organica, email, etc.\n"
   ]
  },
  {
   "attachments": {},
   "cell_type": "markdown",
   "metadata": {},
   "source": [
    "### 5_order_items\n",
    "\n",
    "Tabla que muestra el precio y el costo de flete. Unida con el id del producto, id del venderdor, y el order item id"
   ]
  },
  {
   "attachments": {},
   "cell_type": "markdown",
   "metadata": {},
   "source": [
    "### 6_order_payments\n",
    "\n",
    "Tabla con los datos de las compras realizadas por los usuarios. con que se ha pagado, el valor del pago y cantidad de cuotas"
   ]
  },
  {
   "attachments": {},
   "cell_type": "markdown",
   "metadata": {},
   "source": [
    "### 7_olist_order_review\n",
    "\n",
    "Contiene:\n",
    "- detalles relacionados con las reseñas publicadas\n",
    "- id orden, producto\n",
    "- muchos nulos"
   ]
  },
  {
   "attachments": {},
   "cell_type": "markdown",
   "metadata": {},
   "source": [
    "### 8_orders (olist order data)\n",
    "\n",
    "Contiene:\n",
    "- datos de entrega de productos\n",
    "- localizacion\n",
    "- fechas"
   ]
  },
  {
   "attachments": {},
   "cell_type": "markdown",
   "metadata": {},
   "source": [
    "### 9_products\n",
    "\n",
    "Contiene:\n",
    "- datos relacionados con un producto como el ID, el nombre de la categoría y las medidas."
   ]
  },
  {
   "attachments": {},
   "cell_type": "markdown",
   "metadata": {},
   "source": [
    "### 10_sellers\n",
    "\n",
    "Contiene:\n",
    "-  información relacionada con todos los vendedores que se han registrado con esta firma.\n",
    "- Ubicacion, estado"
   ]
  },
  {
   "attachments": {},
   "cell_type": "markdown",
   "metadata": {},
   "source": [
    "### 11_category_name (product category name ) \n",
    "\n",
    "Contiene: \n",
    "- Nombre del producto en portugues e inglés"
   ]
  },
  {
   "attachments": {},
   "cell_type": "markdown",
   "metadata": {},
   "source": [
    "_____________________________\n"
   ]
  },
  {
   "attachments": {},
   "cell_type": "markdown",
   "metadata": {},
   "source": [
    "## EDA _Proyecto Final- MACHINE LEARNING"
   ]
  },
  {
   "attachments": {},
   "cell_type": "markdown",
   "metadata": {},
   "source": [
    "Considerando hacer un analisis de sentimientos\n",
    "utilizando procesamiento de lenguaje natural, sería realmente muy complejo ya que se cuenta con pocos datos con simbolos especiales en medio del texto y las mismas estan en portugues. \n",
    "\n",
    "Si embargo se analiza la tabla 7 de reviews en más profundidad: \n",
    "\n",
    "La tabla 7 _ Reviews, posee las siguientes columnas: \n",
    "\n",
    " - review_id: ID de la reseña.\n",
    "\n",
    " - order_id: ID de la orden asociada a la reseña.\n",
    "\n",
    " - review_score: Puntuación en estrellas (1 al 5).\n",
    "\n",
    " - review_comment_title: Título de la reseña.\n",
    "\n",
    " - review_comment_message: Reseña.\n",
    "\n",
    " - review_creation_date: Fecha de publicación de la reseña.\n",
    "\n",
    " - review_answer_timestamp: Fecha en la que se contestó a la reseña."
   ]
  },
  {
   "cell_type": "code",
   "execution_count": 232,
   "metadata": {},
   "outputs": [
    {
     "name": "stdout",
     "output_type": "stream",
     "text": [
      "<class 'pandas.core.frame.DataFrame'>\n",
      "RangeIndex: 99224 entries, 0 to 99223\n",
      "Data columns (total 7 columns):\n",
      " #   Column                   Non-Null Count  Dtype \n",
      "---  ------                   --------------  ----- \n",
      " 0   review_id                99224 non-null  object\n",
      " 1   order_id                 99224 non-null  object\n",
      " 2   review_score             99224 non-null  int64 \n",
      " 3   review_comment_title     11568 non-null  object\n",
      " 4   review_comment_message   40977 non-null  object\n",
      " 5   review_creation_date     99224 non-null  object\n",
      " 6   review_answer_timestamp  99224 non-null  object\n",
      "dtypes: int64(1), object(6)\n",
      "memory usage: 5.3+ MB\n"
     ]
    },
    {
     "data": {
      "text/plain": [
       "(None,)"
      ]
     },
     "execution_count": 232,
     "metadata": {},
     "output_type": "execute_result"
    }
   ],
   "source": [
    "#información general y miramos si hay duplicados y cuantos \n",
    "eda_general(df7_order_reviews)"
   ]
  },
  {
   "cell_type": "code",
   "execution_count": 233,
   "metadata": {},
   "outputs": [
    {
     "data": {
      "text/html": [
       "<div>\n",
       "<style scoped>\n",
       "    .dataframe tbody tr th:only-of-type {\n",
       "        vertical-align: middle;\n",
       "    }\n",
       "\n",
       "    .dataframe tbody tr th {\n",
       "        vertical-align: top;\n",
       "    }\n",
       "\n",
       "    .dataframe thead th {\n",
       "        text-align: right;\n",
       "    }\n",
       "</style>\n",
       "<table border=\"1\" class=\"dataframe\">\n",
       "  <thead>\n",
       "    <tr style=\"text-align: right;\">\n",
       "      <th></th>\n",
       "      <th>review_id</th>\n",
       "      <th>order_id</th>\n",
       "      <th>review_score</th>\n",
       "      <th>review_comment_title</th>\n",
       "      <th>review_comment_message</th>\n",
       "      <th>review_creation_date</th>\n",
       "      <th>review_answer_timestamp</th>\n",
       "    </tr>\n",
       "  </thead>\n",
       "  <tbody>\n",
       "    <tr>\n",
       "      <th>0</th>\n",
       "      <td>7bc2406110b926393aa56f80a40eba40</td>\n",
       "      <td>73fc7af87114b39712e6da79b0a377eb</td>\n",
       "      <td>4</td>\n",
       "      <td>NaN</td>\n",
       "      <td>NaN</td>\n",
       "      <td>2018-01-18 00:00:00</td>\n",
       "      <td>2018-01-18 21:46:59</td>\n",
       "    </tr>\n",
       "    <tr>\n",
       "      <th>1</th>\n",
       "      <td>80e641a11e56f04c1ad469d5645fdfde</td>\n",
       "      <td>a548910a1c6147796b98fdf73dbeba33</td>\n",
       "      <td>5</td>\n",
       "      <td>NaN</td>\n",
       "      <td>NaN</td>\n",
       "      <td>2018-03-10 00:00:00</td>\n",
       "      <td>2018-03-11 03:05:13</td>\n",
       "    </tr>\n",
       "    <tr>\n",
       "      <th>2</th>\n",
       "      <td>228ce5500dc1d8e020d8d1322874b6f0</td>\n",
       "      <td>f9e4b658b201a9f2ecdecbb34bed034b</td>\n",
       "      <td>5</td>\n",
       "      <td>NaN</td>\n",
       "      <td>NaN</td>\n",
       "      <td>2018-02-17 00:00:00</td>\n",
       "      <td>2018-02-18 14:36:24</td>\n",
       "    </tr>\n",
       "    <tr>\n",
       "      <th>3</th>\n",
       "      <td>e64fb393e7b32834bb789ff8bb30750e</td>\n",
       "      <td>658677c97b385a9be170737859d3511b</td>\n",
       "      <td>5</td>\n",
       "      <td>NaN</td>\n",
       "      <td>Recebi bem antes do prazo estipulado.</td>\n",
       "      <td>2017-04-21 00:00:00</td>\n",
       "      <td>2017-04-21 22:02:06</td>\n",
       "    </tr>\n",
       "    <tr>\n",
       "      <th>4</th>\n",
       "      <td>f7c4243c7fe1938f181bec41a392bdeb</td>\n",
       "      <td>8e6bfb81e283fa7e4f11123a3fb894f1</td>\n",
       "      <td>5</td>\n",
       "      <td>NaN</td>\n",
       "      <td>Parabéns lojas lannister adorei comprar pela I...</td>\n",
       "      <td>2018-03-01 00:00:00</td>\n",
       "      <td>2018-03-02 10:26:53</td>\n",
       "    </tr>\n",
       "  </tbody>\n",
       "</table>\n",
       "</div>"
      ],
      "text/plain": [
       "                          review_id                          order_id  \\\n",
       "0  7bc2406110b926393aa56f80a40eba40  73fc7af87114b39712e6da79b0a377eb   \n",
       "1  80e641a11e56f04c1ad469d5645fdfde  a548910a1c6147796b98fdf73dbeba33   \n",
       "2  228ce5500dc1d8e020d8d1322874b6f0  f9e4b658b201a9f2ecdecbb34bed034b   \n",
       "3  e64fb393e7b32834bb789ff8bb30750e  658677c97b385a9be170737859d3511b   \n",
       "4  f7c4243c7fe1938f181bec41a392bdeb  8e6bfb81e283fa7e4f11123a3fb894f1   \n",
       "\n",
       "   review_score review_comment_title  \\\n",
       "0             4                  NaN   \n",
       "1             5                  NaN   \n",
       "2             5                  NaN   \n",
       "3             5                  NaN   \n",
       "4             5                  NaN   \n",
       "\n",
       "                              review_comment_message review_creation_date  \\\n",
       "0                                                NaN  2018-01-18 00:00:00   \n",
       "1                                                NaN  2018-03-10 00:00:00   \n",
       "2                                                NaN  2018-02-17 00:00:00   \n",
       "3              Recebi bem antes do prazo estipulado.  2017-04-21 00:00:00   \n",
       "4  Parabéns lojas lannister adorei comprar pela I...  2018-03-01 00:00:00   \n",
       "\n",
       "  review_answer_timestamp  \n",
       "0     2018-01-18 21:46:59  \n",
       "1     2018-03-11 03:05:13  \n",
       "2     2018-02-18 14:36:24  \n",
       "3     2017-04-21 22:02:06  \n",
       "4     2018-03-02 10:26:53  "
      ]
     },
     "execution_count": 233,
     "metadata": {},
     "output_type": "execute_result"
    }
   ],
   "source": [
    "df7_order_reviews.head()"
   ]
  },
  {
   "cell_type": "code",
   "execution_count": 234,
   "metadata": {},
   "outputs": [
    {
     "data": {
      "text/plain": [
       "Muito bom                                                                                                                                                                                              1.0\n",
       "Bom                                                                                                                                                                                                    0.0\n",
       "muito bom                                                                                                                                                                                              0.0\n",
       "bom                                                                                                                                                                                                    0.0\n",
       "Recomendo                                                                                                                                                                                              0.0\n",
       "                                                                                                                                                                                                      ... \n",
       "PRODUTO FOI ENTREGUE VIA CORREIOS\\r\\nANTES DO PRAZO PREVISTO.                                                                                                                                          0.0\n",
       "Devido incompatibilidade vou devolver, ótimo produto!                                                                                                                                                  0.0\n",
       "Infelizmente não! A qualidade do produto não agradou.Impressão da foto em exposição remete a um tamanho maior e a recebida sequer atende a uma criança. PRODUTO NÃO JUSTIFICA O VALOR INFELIZMENTE!    0.0\n",
       "entrega na data prevista,somente a qualidade do material não é o mesmo que eu pensava mas pelo preço ta valido                                                                                         0.0\n",
       "meu produto chegou e ja tenho que devolver, pois está com defeito , não segurar carga                                                                                                                  0.0\n",
       "Name: review_comment_message, Length: 36159, dtype: float64"
      ]
     },
     "execution_count": 234,
     "metadata": {},
     "output_type": "execute_result"
    }
   ],
   "source": [
    "count_val_procentaje(df7_order_reviews,'review_comment_message')"
   ]
  },
  {
   "cell_type": "code",
   "execution_count": 235,
   "metadata": {},
   "outputs": [
    {
     "data": {
      "text/plain": [
       "Recomendo                    4.0\n",
       "recomendo                    3.0\n",
       "Bom                          3.0\n",
       "super recomendo              2.0\n",
       "Excelente                    2.0\n",
       "                            ... \n",
       "Luminaria sobrepor led 18    0.0\n",
       "Não recebi.                  0.0\n",
       "produto com lacre violado    0.0\n",
       "Atraso Entrega               0.0\n",
       "Foto enganosa                0.0\n",
       "Name: review_comment_title, Length: 4527, dtype: float64"
      ]
     },
     "execution_count": 235,
     "metadata": {},
     "output_type": "execute_result"
    }
   ],
   "source": [
    "count_val_procentaje(df7_order_reviews,'review_comment_title')"
   ]
  },
  {
   "cell_type": "code",
   "execution_count": 236,
   "metadata": {},
   "outputs": [
    {
     "data": {
      "text/plain": [
       "<AxesSubplot:xlabel='review_score', ylabel='Count'>"
      ]
     },
     "execution_count": 236,
     "metadata": {},
     "output_type": "execute_result"
    },
    {
     "data": {
      "image/png": "[encoded data removed]",
      "text/plain": [
       "<Figure size 432x288 with 1 Axes>"
      ]
     },
     "metadata": {
      "needs_background": "light"
     },
     "output_type": "display_data"
    }
   ],
   "source": [
    "sns.histplot(df7_order_reviews['review_score'],bins=5)"
   ]
  },
  {
   "attachments": {},
   "cell_type": "markdown",
   "metadata": {},
   "source": [
    "### GENERAL Y OTROS:\n",
    "\n",
    "Con respecto a los outliers, tanto sea de las columnas numéricas del df5_order_item y 6_order_payments, poseen aproximadamente 2% de valores outliers cada uno con una distribución similar en todos los casos, por lo que se decide no modificar cambios sobre las tablas al respecto.  "
   ]
  },
  {
   "attachments": {},
   "cell_type": "markdown",
   "metadata": {},
   "source": [
    "______________________"
   ]
  },
  {
   "attachments": {},
   "cell_type": "markdown",
   "metadata": {},
   "source": [
    "# CONCLUSIONES DE MODIFICACIONES PARA EL ETL: \n"
   ]
  },
  {
   "attachments": {},
   "cell_type": "markdown",
   "metadata": {},
   "source": [
    "## ETL\n",
    "'''\n",
    "Como conclusión del EDA, las modificaciones a realizar para obtener datos limpios para el Data Warehouse son: \n",
    "\n",
    "### 1_closed_deals:\n",
    "\n",
    " - 'won_date' _ cambio de formato a fecha hora\n",
    "\n",
    " Se eliminan las columnas por falta de datos suficientes (NaN o 0): \n",
    "\n",
    " - 'has_gtin' \n",
    " - 'has_company' \n",
    " - 'average_stock' \n",
    " - 'declared_product_catalog_size'\n",
    " - 'declared_monthly_revenue'\n",
    "\n",
    "Se crea un nuevo id en una nueva columna que se coloca al inicio de la tabla.\n",
    "\n",
    " - 'closed_deals_id'\n",
    "\n",
    "### 2_customers: \n",
    "\n",
    "Se elimina la columna de customer_unique_id porque no es un id único:\n",
    "\n",
    " -  'customer_unique_id'\n",
    "\n",
    "### 3_geolocation:\n",
    "\n",
    "Es una table incompleta a pesar de su dimensión ya que no tiene todos los zip_code (códigos postales) presentes en las tablas de Customers y Sellers por lo tanto será eliminada del modelo y se evaluará hacer una nueva tabla de geolocation sin latitud ni longitud, según su posible utilidad. \n",
    "\n",
    "### 4_marketing_q_leads:\n",
    "\n",
    "Se pasan la siguiente columna a formato fecha hora:\n",
    "\n",
    " - 'first_contact_date'\n",
    "\n",
    "### 5_order_items:\n",
    "\n",
    "Se pasan la siguiente columna a formato fecha hora:\n",
    "\n",
    " - 'shipping_limit_date'\n",
    " \n",
    "### 6_order_payments:\n",
    "\n",
    "Se cambia de formato a entero: \n",
    "\n",
    " - 'payment_installments'\n",
    "\n",
    "### 7_order_reviews:\n",
    "\n",
    "Se pasan las siguientes columnas a formato fecha hora:\n",
    " - 'review_creation_date'\n",
    " - 'review_answer_timestamp'\n",
    "\n",
    "### 8_orders:\n",
    "\n",
    "Se pasan las siguientes columnas a formato fecha hora: \n",
    "\n",
    " - 'order_purchase_timestamp'\n",
    " - 'order_approved_at'\n",
    " - 'order_delivered_carrier_date'\n",
    " - 'order_delivered_customer_date'\n",
    " - 'order_estimated_delivery_date'\n",
    "\n",
    "### 9_product:\n",
    "\n",
    " -  sin modificaciones\n",
    "\n",
    "### 10_sellers:\n",
    "\n",
    " - sin modificaciones\n",
    "\n",
    "### 11_category_name:\n",
    "\n",
    " - sin modificaciones\n",
    "'''\n"
   ]
  }
 ],
 "metadata": {
  "kernelspec": {
   "display_name": "Python 3",
   "language": "python",
   "name": "python3"
  },
  "language_info": {
   "codemirror_mode": {
    "name": "ipython",
    "version": 3
   },
   "file_extension": ".py",
   "mimetype": "text/x-python",
   "name": "python",
   "nbconvert_exporter": "python",
   "pygments_lexer": "ipython3",
   "version": "3.10.5"
  },
  "orig_nbformat": 4,
  "vscode": {
   "interpreter": {
    "hash": "224ab2d222d6361592e732ae4370fd24c01433554265009efbf5e366010cf436"
   }
  }
 },
 "nbformat": 4,
 "nbformat_minor": 2
}
